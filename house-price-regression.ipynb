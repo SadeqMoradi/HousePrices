{
 "cells": [
  {
   "cell_type": "code",
   "execution_count": 1,
   "id": "2e15fbf1",
   "metadata": {
    "execution": {
     "iopub.execute_input": "2024-10-07T09:52:47.051410Z",
     "iopub.status.busy": "2024-10-07T09:52:47.050877Z",
     "iopub.status.idle": "2024-10-07T09:52:50.506878Z",
     "shell.execute_reply": "2024-10-07T09:52:50.505792Z"
    },
    "papermill": {
     "duration": 3.466747,
     "end_time": "2024-10-07T09:52:50.509508",
     "exception": false,
     "start_time": "2024-10-07T09:52:47.042761",
     "status": "completed"
    },
    "tags": []
   },
   "outputs": [],
   "source": [
    "import numpy as np\n",
    "import pandas as pd\n",
    "import os\n",
    "from pathlib import Path\n",
    "import matplotlib as plt\n",
    "from sklearn.neighbors import KNeighborsClassifier\n",
    "from sklearn.model_selection import cross_val_score\n",
    "from sklearn.model_selection import cross_val_predict\n",
    "from sklearn.metrics import ConfusionMatrixDisplay\n",
    "from sklearn.pipeline import Pipeline\n",
    "from sklearn.model_selection import GridSearchCV\n",
    "from scipy.ndimage import shift\n",
    "from IPython.display import clear_output\n",
    "from sklearn.impute import SimpleImputer\n",
    "from sklearn.preprocessing import OneHotEncoder\n",
    "from sklearn.tree import DecisionTreeClassifier\n",
    "from sklearn.ensemble import RandomForestClassifier\n",
    "from sklearn.preprocessing import OrdinalEncoder\n",
    "import seaborn\n",
    "from sklearn.preprocessing import StandardScaler\n",
    "from sklearn.svm import SVC\n",
    "from sklearn.svm import SVR\n",
    "from sklearn.svm import LinearSVR\n",
    "from sklearn.linear_model import LinearRegression\n",
    "from sklearn.ensemble import RandomForestRegressor\n",
    "from sklearn.preprocessing import PolynomialFeatures"
   ]
  },
  {
   "cell_type": "code",
   "execution_count": 2,
   "id": "2a015806",
   "metadata": {
    "execution": {
     "iopub.execute_input": "2024-10-07T09:52:50.522823Z",
     "iopub.status.busy": "2024-10-07T09:52:50.522282Z",
     "iopub.status.idle": "2024-10-07T09:52:50.530946Z",
     "shell.execute_reply": "2024-10-07T09:52:50.529729Z"
    },
    "papermill": {
     "duration": 0.017817,
     "end_time": "2024-10-07T09:52:50.533119",
     "exception": false,
     "start_time": "2024-10-07T09:52:50.515302",
     "status": "completed"
    },
    "tags": []
   },
   "outputs": [
    {
     "name": "stdout",
     "output_type": "stream",
     "text": [
      "/kaggle/input/house-prices-advanced-regression-techniques/sample_submission.csv\n",
      "/kaggle/input/house-prices-advanced-regression-techniques/data_description.txt\n",
      "/kaggle/input/house-prices-advanced-regression-techniques/train.csv\n",
      "/kaggle/input/house-prices-advanced-regression-techniques/test.csv\n"
     ]
    }
   ],
   "source": [
    "import os\n",
    "for dirname, _, filenames in os.walk('/kaggle/input'):\n",
    "    for filename in filenames:\n",
    "        print(os.path.join(dirname, filename))"
   ]
  },
  {
   "cell_type": "code",
   "execution_count": 3,
   "id": "4cbaceff",
   "metadata": {
    "execution": {
     "iopub.execute_input": "2024-10-07T09:52:50.546605Z",
     "iopub.status.busy": "2024-10-07T09:52:50.545628Z",
     "iopub.status.idle": "2024-10-07T09:52:50.632293Z",
     "shell.execute_reply": "2024-10-07T09:52:50.631336Z"
    },
    "papermill": {
     "duration": 0.0962,
     "end_time": "2024-10-07T09:52:50.634933",
     "exception": false,
     "start_time": "2024-10-07T09:52:50.538733",
     "status": "completed"
    },
    "tags": []
   },
   "outputs": [],
   "source": [
    "train_data = pd.read_csv(Path(\"/kaggle/input/house-prices-advanced-regression-techniques/train.csv\"))\n",
    "test_data = pd.read_csv(Path(\"/kaggle/input/house-prices-advanced-regression-techniques/test.csv\"))\n",
    "sample_submission = pd.read_csv(Path(\"/kaggle/input/house-prices-advanced-regression-techniques/sample_submission.csv\"))\n",
    "train_data = train_data.drop(\"Id\",axis=1)\n",
    "test_data = test_data.drop(\"Id\",axis=1)"
   ]
  },
  {
   "cell_type": "code",
   "execution_count": 4,
   "id": "998ff457",
   "metadata": {
    "execution": {
     "iopub.execute_input": "2024-10-07T09:52:50.648058Z",
     "iopub.status.busy": "2024-10-07T09:52:50.647594Z",
     "iopub.status.idle": "2024-10-07T09:52:50.654908Z",
     "shell.execute_reply": "2024-10-07T09:52:50.653900Z"
    },
    "papermill": {
     "duration": 0.016866,
     "end_time": "2024-10-07T09:52:50.657525",
     "exception": false,
     "start_time": "2024-10-07T09:52:50.640659",
     "status": "completed"
    },
    "tags": []
   },
   "outputs": [],
   "source": [
    "X_train_data = train_data.drop(\"SalePrice\",axis=1)\n",
    "y_train_data = train_data[\"SalePrice\"]"
   ]
  },
  {
   "cell_type": "markdown",
   "id": "023c8e25",
   "metadata": {
    "papermill": {
     "duration": 0.005231,
     "end_time": "2024-10-07T09:52:50.668507",
     "exception": false,
     "start_time": "2024-10-07T09:52:50.663276",
     "status": "completed"
    },
    "tags": []
   },
   "source": [
    "**Prepairing the data :**"
   ]
  },
  {
   "cell_type": "code",
   "execution_count": 5,
   "id": "801e4567",
   "metadata": {
    "execution": {
     "iopub.execute_input": "2024-10-07T09:52:50.683776Z",
     "iopub.status.busy": "2024-10-07T09:52:50.683075Z",
     "iopub.status.idle": "2024-10-07T09:52:50.745335Z",
     "shell.execute_reply": "2024-10-07T09:52:50.744259Z"
    },
    "papermill": {
     "duration": 0.072507,
     "end_time": "2024-10-07T09:52:50.747743",
     "exception": false,
     "start_time": "2024-10-07T09:52:50.675236",
     "status": "completed"
    },
    "tags": []
   },
   "outputs": [
    {
     "data": {
      "text/html": [
       "<style>#sk-container-id-1 {color: black;background-color: white;}#sk-container-id-1 pre{padding: 0;}#sk-container-id-1 div.sk-toggleable {background-color: white;}#sk-container-id-1 label.sk-toggleable__label {cursor: pointer;display: block;width: 100%;margin-bottom: 0;padding: 0.3em;box-sizing: border-box;text-align: center;}#sk-container-id-1 label.sk-toggleable__label-arrow:before {content: \"▸\";float: left;margin-right: 0.25em;color: #696969;}#sk-container-id-1 label.sk-toggleable__label-arrow:hover:before {color: black;}#sk-container-id-1 div.sk-estimator:hover label.sk-toggleable__label-arrow:before {color: black;}#sk-container-id-1 div.sk-toggleable__content {max-height: 0;max-width: 0;overflow: hidden;text-align: left;background-color: #f0f8ff;}#sk-container-id-1 div.sk-toggleable__content pre {margin: 0.2em;color: black;border-radius: 0.25em;background-color: #f0f8ff;}#sk-container-id-1 input.sk-toggleable__control:checked~div.sk-toggleable__content {max-height: 200px;max-width: 100%;overflow: auto;}#sk-container-id-1 input.sk-toggleable__control:checked~label.sk-toggleable__label-arrow:before {content: \"▾\";}#sk-container-id-1 div.sk-estimator input.sk-toggleable__control:checked~label.sk-toggleable__label {background-color: #d4ebff;}#sk-container-id-1 div.sk-label input.sk-toggleable__control:checked~label.sk-toggleable__label {background-color: #d4ebff;}#sk-container-id-1 input.sk-hidden--visually {border: 0;clip: rect(1px 1px 1px 1px);clip: rect(1px, 1px, 1px, 1px);height: 1px;margin: -1px;overflow: hidden;padding: 0;position: absolute;width: 1px;}#sk-container-id-1 div.sk-estimator {font-family: monospace;background-color: #f0f8ff;border: 1px dotted black;border-radius: 0.25em;box-sizing: border-box;margin-bottom: 0.5em;}#sk-container-id-1 div.sk-estimator:hover {background-color: #d4ebff;}#sk-container-id-1 div.sk-parallel-item::after {content: \"\";width: 100%;border-bottom: 1px solid gray;flex-grow: 1;}#sk-container-id-1 div.sk-label:hover label.sk-toggleable__label {background-color: #d4ebff;}#sk-container-id-1 div.sk-serial::before {content: \"\";position: absolute;border-left: 1px solid gray;box-sizing: border-box;top: 0;bottom: 0;left: 50%;z-index: 0;}#sk-container-id-1 div.sk-serial {display: flex;flex-direction: column;align-items: center;background-color: white;padding-right: 0.2em;padding-left: 0.2em;position: relative;}#sk-container-id-1 div.sk-item {position: relative;z-index: 1;}#sk-container-id-1 div.sk-parallel {display: flex;align-items: stretch;justify-content: center;background-color: white;position: relative;}#sk-container-id-1 div.sk-item::before, #sk-container-id-1 div.sk-parallel-item::before {content: \"\";position: absolute;border-left: 1px solid gray;box-sizing: border-box;top: 0;bottom: 0;left: 50%;z-index: -1;}#sk-container-id-1 div.sk-parallel-item {display: flex;flex-direction: column;z-index: 1;position: relative;background-color: white;}#sk-container-id-1 div.sk-parallel-item:first-child::after {align-self: flex-end;width: 50%;}#sk-container-id-1 div.sk-parallel-item:last-child::after {align-self: flex-start;width: 50%;}#sk-container-id-1 div.sk-parallel-item:only-child::after {width: 0;}#sk-container-id-1 div.sk-dashed-wrapped {border: 1px dashed gray;margin: 0 0.4em 0.5em 0.4em;box-sizing: border-box;padding-bottom: 0.4em;background-color: white;}#sk-container-id-1 div.sk-label label {font-family: monospace;font-weight: bold;display: inline-block;line-height: 1.2em;}#sk-container-id-1 div.sk-label-container {text-align: center;}#sk-container-id-1 div.sk-container {/* jupyter's `normalize.less` sets `[hidden] { display: none; }` but bootstrap.min.css set `[hidden] { display: none !important; }` so we also need the `!important` here to be able to override the default hidden behavior on the sphinx rendered scikit-learn.org. See: https://github.com/scikit-learn/scikit-learn/issues/21755 */display: inline-block !important;position: relative;}#sk-container-id-1 div.sk-text-repr-fallback {display: none;}</style><div id=\"sk-container-id-1\" class=\"sk-top-container\"><div class=\"sk-text-repr-fallback\"><pre>SimpleImputer(strategy=&#x27;most_frequent&#x27;)</pre><b>In a Jupyter environment, please rerun this cell to show the HTML representation or trust the notebook. <br />On GitHub, the HTML representation is unable to render, please try loading this page with nbviewer.org.</b></div><div class=\"sk-container\" hidden><div class=\"sk-item\"><div class=\"sk-estimator sk-toggleable\"><input class=\"sk-toggleable__control sk-hidden--visually\" id=\"sk-estimator-id-1\" type=\"checkbox\" checked><label for=\"sk-estimator-id-1\" class=\"sk-toggleable__label sk-toggleable__label-arrow\">SimpleImputer</label><div class=\"sk-toggleable__content\"><pre>SimpleImputer(strategy=&#x27;most_frequent&#x27;)</pre></div></div></div></div></div>"
      ],
      "text/plain": [
       "SimpleImputer(strategy='most_frequent')"
      ]
     },
     "execution_count": 5,
     "metadata": {},
     "output_type": "execute_result"
    }
   ],
   "source": [
    "imputer = SimpleImputer(strategy=\"most_frequent\")\n",
    "imputer.fit(pd.concat([X_train_data,test_data]))"
   ]
  },
  {
   "cell_type": "code",
   "execution_count": 6,
   "id": "0454a3ef",
   "metadata": {
    "execution": {
     "iopub.execute_input": "2024-10-07T09:52:50.761609Z",
     "iopub.status.busy": "2024-10-07T09:52:50.760736Z",
     "iopub.status.idle": "2024-10-07T09:52:50.793314Z",
     "shell.execute_reply": "2024-10-07T09:52:50.792125Z"
    },
    "papermill": {
     "duration": 0.042187,
     "end_time": "2024-10-07T09:52:50.795798",
     "exception": false,
     "start_time": "2024-10-07T09:52:50.753611",
     "status": "completed"
    },
    "tags": []
   },
   "outputs": [],
   "source": [
    "c = X_train_data.columns\n",
    "i_train = X_train_data.index\n",
    "i_test = test_data.index\n",
    "X_train_data = pd.DataFrame(imputer.transform(X_train_data),columns = c,index = i_train)\n",
    "test_data = pd.DataFrame(imputer.transform(test_data),columns = c,index=i_test)"
   ]
  },
  {
   "cell_type": "code",
   "execution_count": 7,
   "id": "9a929715",
   "metadata": {
    "execution": {
     "iopub.execute_input": "2024-10-07T09:52:50.809920Z",
     "iopub.status.busy": "2024-10-07T09:52:50.808922Z",
     "iopub.status.idle": "2024-10-07T09:52:50.815217Z",
     "shell.execute_reply": "2024-10-07T09:52:50.814094Z"
    },
    "papermill": {
     "duration": 0.015743,
     "end_time": "2024-10-07T09:52:50.817602",
     "exception": false,
     "start_time": "2024-10-07T09:52:50.801859",
     "status": "completed"
    },
    "tags": []
   },
   "outputs": [],
   "source": [
    " str_cat = [ \"MSZoning\",\"Street\",\"Alley\",\"LotShape\",\"LandContour\",\"Utilities\",\"LotConfig\",\"LandSlope\",\n",
    "  \"Neighborhood\",\"Condition1\",\"Condition2\",\"BldgType\",\"HouseStyle\",\"RoofStyle\",\"RoofMatl\",\"Exterior1st\",\n",
    "  \"Exterior2nd\",\"MasVnrType\",\"ExterQual\",\"ExterCond\",\"Foundation\",\"BsmtQual\",\"BsmtCond\",\"BsmtExposure\",\"BsmtFinType1\",\"BsmtFinType2\",\n",
    "  \"Heating\",\"HeatingQC\",\"CentralAir\",\"Electrical\",\"KitchenQual\",\"Functional\",\"FireplaceQu\",\"GarageType\",\n",
    "  \"GarageFinish\",\"GarageQual\",\"GarageCond\",\"PavedDrive\",\"PoolQC\",\"Fence\",\"MiscFeature\",\"SaleCondition\",\"SaleType\"]"
   ]
  },
  {
   "cell_type": "code",
   "execution_count": 8,
   "id": "d1889735",
   "metadata": {
    "execution": {
     "iopub.execute_input": "2024-10-07T09:52:50.831216Z",
     "iopub.status.busy": "2024-10-07T09:52:50.830766Z",
     "iopub.status.idle": "2024-10-07T09:52:50.837674Z",
     "shell.execute_reply": "2024-10-07T09:52:50.836621Z"
    },
    "papermill": {
     "duration": 0.016484,
     "end_time": "2024-10-07T09:52:50.840107",
     "exception": false,
     "start_time": "2024-10-07T09:52:50.823623",
     "status": "completed"
    },
    "tags": []
   },
   "outputs": [],
   "source": [
    "def OneHotE(dataframe,cat_col,cat_encoder):\n",
    "    poly_features = PolynomialFeatures(degree=2,include_bias=False)\n",
    "    dataframe_num = dataframe.drop(cat_col,axis=1)\n",
    "    dataframe_cat = dataframe[cat_col]\n",
    "    \n",
    "    #col = dataframe_num.columns\n",
    "    #dataframe_num =  poly_features.fit_transform(dataframe_num)\n",
    "    #dataframe_num = pd.DataFrame(dataframe_num,index = dataframe.index , columns = poly_features.get_feature_names_out(col))\n",
    "    \n",
    "    #scaler = StandardScaler()\n",
    "    #for column in dataframe_num.columns:\n",
    "    #   dataframe_num[column] = scaler.fit_transform(np.array(dataframe_num[column]).reshape(-1,1))\n",
    "    \n",
    "    dataframe_cat = cat_encoder.transform(dataframe_cat)\n",
    "    dataframe_cat = pd.DataFrame(dataframe_cat.toarray(),columns=cat_encoder.get_feature_names_out(),index=dataframe.index)\n",
    "    dataframe = pd.concat([dataframe_num,dataframe_cat],axis=1)    \n",
    "    return dataframe"
   ]
  },
  {
   "cell_type": "code",
   "execution_count": 9,
   "id": "de4d829e",
   "metadata": {
    "execution": {
     "iopub.execute_input": "2024-10-07T09:52:50.854091Z",
     "iopub.status.busy": "2024-10-07T09:52:50.853081Z",
     "iopub.status.idle": "2024-10-07T09:52:50.858113Z",
     "shell.execute_reply": "2024-10-07T09:52:50.857003Z"
    },
    "papermill": {
     "duration": 0.014383,
     "end_time": "2024-10-07T09:52:50.860451",
     "exception": false,
     "start_time": "2024-10-07T09:52:50.846068",
     "status": "completed"
    },
    "tags": []
   },
   "outputs": [],
   "source": [
    "cat_encoder = OneHotEncoder()"
   ]
  },
  {
   "cell_type": "code",
   "execution_count": 10,
   "id": "a026a1fe",
   "metadata": {
    "execution": {
     "iopub.execute_input": "2024-10-07T09:52:50.874355Z",
     "iopub.status.busy": "2024-10-07T09:52:50.873333Z",
     "iopub.status.idle": "2024-10-07T09:52:50.897380Z",
     "shell.execute_reply": "2024-10-07T09:52:50.896207Z"
    },
    "papermill": {
     "duration": 0.033326,
     "end_time": "2024-10-07T09:52:50.899682",
     "exception": false,
     "start_time": "2024-10-07T09:52:50.866356",
     "status": "completed"
    },
    "tags": []
   },
   "outputs": [
    {
     "data": {
      "text/html": [
       "<style>#sk-container-id-2 {color: black;background-color: white;}#sk-container-id-2 pre{padding: 0;}#sk-container-id-2 div.sk-toggleable {background-color: white;}#sk-container-id-2 label.sk-toggleable__label {cursor: pointer;display: block;width: 100%;margin-bottom: 0;padding: 0.3em;box-sizing: border-box;text-align: center;}#sk-container-id-2 label.sk-toggleable__label-arrow:before {content: \"▸\";float: left;margin-right: 0.25em;color: #696969;}#sk-container-id-2 label.sk-toggleable__label-arrow:hover:before {color: black;}#sk-container-id-2 div.sk-estimator:hover label.sk-toggleable__label-arrow:before {color: black;}#sk-container-id-2 div.sk-toggleable__content {max-height: 0;max-width: 0;overflow: hidden;text-align: left;background-color: #f0f8ff;}#sk-container-id-2 div.sk-toggleable__content pre {margin: 0.2em;color: black;border-radius: 0.25em;background-color: #f0f8ff;}#sk-container-id-2 input.sk-toggleable__control:checked~div.sk-toggleable__content {max-height: 200px;max-width: 100%;overflow: auto;}#sk-container-id-2 input.sk-toggleable__control:checked~label.sk-toggleable__label-arrow:before {content: \"▾\";}#sk-container-id-2 div.sk-estimator input.sk-toggleable__control:checked~label.sk-toggleable__label {background-color: #d4ebff;}#sk-container-id-2 div.sk-label input.sk-toggleable__control:checked~label.sk-toggleable__label {background-color: #d4ebff;}#sk-container-id-2 input.sk-hidden--visually {border: 0;clip: rect(1px 1px 1px 1px);clip: rect(1px, 1px, 1px, 1px);height: 1px;margin: -1px;overflow: hidden;padding: 0;position: absolute;width: 1px;}#sk-container-id-2 div.sk-estimator {font-family: monospace;background-color: #f0f8ff;border: 1px dotted black;border-radius: 0.25em;box-sizing: border-box;margin-bottom: 0.5em;}#sk-container-id-2 div.sk-estimator:hover {background-color: #d4ebff;}#sk-container-id-2 div.sk-parallel-item::after {content: \"\";width: 100%;border-bottom: 1px solid gray;flex-grow: 1;}#sk-container-id-2 div.sk-label:hover label.sk-toggleable__label {background-color: #d4ebff;}#sk-container-id-2 div.sk-serial::before {content: \"\";position: absolute;border-left: 1px solid gray;box-sizing: border-box;top: 0;bottom: 0;left: 50%;z-index: 0;}#sk-container-id-2 div.sk-serial {display: flex;flex-direction: column;align-items: center;background-color: white;padding-right: 0.2em;padding-left: 0.2em;position: relative;}#sk-container-id-2 div.sk-item {position: relative;z-index: 1;}#sk-container-id-2 div.sk-parallel {display: flex;align-items: stretch;justify-content: center;background-color: white;position: relative;}#sk-container-id-2 div.sk-item::before, #sk-container-id-2 div.sk-parallel-item::before {content: \"\";position: absolute;border-left: 1px solid gray;box-sizing: border-box;top: 0;bottom: 0;left: 50%;z-index: -1;}#sk-container-id-2 div.sk-parallel-item {display: flex;flex-direction: column;z-index: 1;position: relative;background-color: white;}#sk-container-id-2 div.sk-parallel-item:first-child::after {align-self: flex-end;width: 50%;}#sk-container-id-2 div.sk-parallel-item:last-child::after {align-self: flex-start;width: 50%;}#sk-container-id-2 div.sk-parallel-item:only-child::after {width: 0;}#sk-container-id-2 div.sk-dashed-wrapped {border: 1px dashed gray;margin: 0 0.4em 0.5em 0.4em;box-sizing: border-box;padding-bottom: 0.4em;background-color: white;}#sk-container-id-2 div.sk-label label {font-family: monospace;font-weight: bold;display: inline-block;line-height: 1.2em;}#sk-container-id-2 div.sk-label-container {text-align: center;}#sk-container-id-2 div.sk-container {/* jupyter's `normalize.less` sets `[hidden] { display: none; }` but bootstrap.min.css set `[hidden] { display: none !important; }` so we also need the `!important` here to be able to override the default hidden behavior on the sphinx rendered scikit-learn.org. See: https://github.com/scikit-learn/scikit-learn/issues/21755 */display: inline-block !important;position: relative;}#sk-container-id-2 div.sk-text-repr-fallback {display: none;}</style><div id=\"sk-container-id-2\" class=\"sk-top-container\"><div class=\"sk-text-repr-fallback\"><pre>OneHotEncoder()</pre><b>In a Jupyter environment, please rerun this cell to show the HTML representation or trust the notebook. <br />On GitHub, the HTML representation is unable to render, please try loading this page with nbviewer.org.</b></div><div class=\"sk-container\" hidden><div class=\"sk-item\"><div class=\"sk-estimator sk-toggleable\"><input class=\"sk-toggleable__control sk-hidden--visually\" id=\"sk-estimator-id-2\" type=\"checkbox\" checked><label for=\"sk-estimator-id-2\" class=\"sk-toggleable__label sk-toggleable__label-arrow\">OneHotEncoder</label><div class=\"sk-toggleable__content\"><pre>OneHotEncoder()</pre></div></div></div></div></div>"
      ],
      "text/plain": [
       "OneHotEncoder()"
      ]
     },
     "execution_count": 10,
     "metadata": {},
     "output_type": "execute_result"
    }
   ],
   "source": [
    "cat_encoder.fit(pd.concat([X_train_data[str_cat],test_data[str_cat]]))"
   ]
  },
  {
   "cell_type": "code",
   "execution_count": 11,
   "id": "fcf03fa5",
   "metadata": {
    "execution": {
     "iopub.execute_input": "2024-10-07T09:52:50.914041Z",
     "iopub.status.busy": "2024-10-07T09:52:50.912967Z",
     "iopub.status.idle": "2024-10-07T09:52:50.992774Z",
     "shell.execute_reply": "2024-10-07T09:52:50.991583Z"
    },
    "papermill": {
     "duration": 0.089655,
     "end_time": "2024-10-07T09:52:50.995400",
     "exception": false,
     "start_time": "2024-10-07T09:52:50.905745",
     "status": "completed"
    },
    "tags": []
   },
   "outputs": [],
   "source": [
    "X_train_data = OneHotE(X_train_data,str_cat,cat_encoder)\n",
    "test_data = OneHotE(test_data,str_cat,cat_encoder)"
   ]
  },
  {
   "cell_type": "markdown",
   "id": "cd5c4bc8",
   "metadata": {
    "papermill": {
     "duration": 0.005808,
     "end_time": "2024-10-07T09:52:51.007253",
     "exception": false,
     "start_time": "2024-10-07T09:52:51.001445",
     "status": "completed"
    },
    "tags": []
   },
   "source": [
    "**Training a model:**"
   ]
  },
  {
   "cell_type": "code",
   "execution_count": 12,
   "id": "be0ffc98",
   "metadata": {
    "execution": {
     "iopub.execute_input": "2024-10-07T09:52:51.020842Z",
     "iopub.status.busy": "2024-10-07T09:52:51.020424Z",
     "iopub.status.idle": "2024-10-07T09:52:51.025475Z",
     "shell.execute_reply": "2024-10-07T09:52:51.024423Z"
    },
    "papermill": {
     "duration": 0.014675,
     "end_time": "2024-10-07T09:52:51.027770",
     "exception": false,
     "start_time": "2024-10-07T09:52:51.013095",
     "status": "completed"
    },
    "tags": []
   },
   "outputs": [],
   "source": [
    "pipeline = Pipeline([(\"classifier\",LinearRegression())])"
   ]
  },
  {
   "cell_type": "code",
   "execution_count": 13,
   "id": "cc1e9b3a",
   "metadata": {
    "execution": {
     "iopub.execute_input": "2024-10-07T09:52:51.042271Z",
     "iopub.status.busy": "2024-10-07T09:52:51.041244Z",
     "iopub.status.idle": "2024-10-07T09:52:51.046378Z",
     "shell.execute_reply": "2024-10-07T09:52:51.045355Z"
    },
    "papermill": {
     "duration": 0.014503,
     "end_time": "2024-10-07T09:52:51.048510",
     "exception": false,
     "start_time": "2024-10-07T09:52:51.034007",
     "status": "completed"
    },
    "tags": []
   },
   "outputs": [],
   "source": [
    "param_grid = [{\"classifier__fit_intercept\":[True,False]}] "
   ]
  },
  {
   "cell_type": "code",
   "execution_count": 14,
   "id": "b0ad9d89",
   "metadata": {
    "execution": {
     "iopub.execute_input": "2024-10-07T09:52:51.062645Z",
     "iopub.status.busy": "2024-10-07T09:52:51.061767Z",
     "iopub.status.idle": "2024-10-07T09:52:51.066812Z",
     "shell.execute_reply": "2024-10-07T09:52:51.065808Z"
    },
    "papermill": {
     "duration": 0.014494,
     "end_time": "2024-10-07T09:52:51.069113",
     "exception": false,
     "start_time": "2024-10-07T09:52:51.054619",
     "status": "completed"
    },
    "tags": []
   },
   "outputs": [],
   "source": [
    "grid_search = GridSearchCV(pipeline,param_grid,cv=3,scoring=\"r2\")"
   ]
  },
  {
   "cell_type": "code",
   "execution_count": 15,
   "id": "5995545e",
   "metadata": {
    "execution": {
     "iopub.execute_input": "2024-10-07T09:52:51.083221Z",
     "iopub.status.busy": "2024-10-07T09:52:51.082379Z",
     "iopub.status.idle": "2024-10-07T09:52:52.205877Z",
     "shell.execute_reply": "2024-10-07T09:52:52.204589Z"
    },
    "papermill": {
     "duration": 1.133496,
     "end_time": "2024-10-07T09:52:52.208740",
     "exception": false,
     "start_time": "2024-10-07T09:52:51.075244",
     "status": "completed"
    },
    "tags": []
   },
   "outputs": [
    {
     "data": {
      "text/html": [
       "<style>#sk-container-id-3 {color: black;background-color: white;}#sk-container-id-3 pre{padding: 0;}#sk-container-id-3 div.sk-toggleable {background-color: white;}#sk-container-id-3 label.sk-toggleable__label {cursor: pointer;display: block;width: 100%;margin-bottom: 0;padding: 0.3em;box-sizing: border-box;text-align: center;}#sk-container-id-3 label.sk-toggleable__label-arrow:before {content: \"▸\";float: left;margin-right: 0.25em;color: #696969;}#sk-container-id-3 label.sk-toggleable__label-arrow:hover:before {color: black;}#sk-container-id-3 div.sk-estimator:hover label.sk-toggleable__label-arrow:before {color: black;}#sk-container-id-3 div.sk-toggleable__content {max-height: 0;max-width: 0;overflow: hidden;text-align: left;background-color: #f0f8ff;}#sk-container-id-3 div.sk-toggleable__content pre {margin: 0.2em;color: black;border-radius: 0.25em;background-color: #f0f8ff;}#sk-container-id-3 input.sk-toggleable__control:checked~div.sk-toggleable__content {max-height: 200px;max-width: 100%;overflow: auto;}#sk-container-id-3 input.sk-toggleable__control:checked~label.sk-toggleable__label-arrow:before {content: \"▾\";}#sk-container-id-3 div.sk-estimator input.sk-toggleable__control:checked~label.sk-toggleable__label {background-color: #d4ebff;}#sk-container-id-3 div.sk-label input.sk-toggleable__control:checked~label.sk-toggleable__label {background-color: #d4ebff;}#sk-container-id-3 input.sk-hidden--visually {border: 0;clip: rect(1px 1px 1px 1px);clip: rect(1px, 1px, 1px, 1px);height: 1px;margin: -1px;overflow: hidden;padding: 0;position: absolute;width: 1px;}#sk-container-id-3 div.sk-estimator {font-family: monospace;background-color: #f0f8ff;border: 1px dotted black;border-radius: 0.25em;box-sizing: border-box;margin-bottom: 0.5em;}#sk-container-id-3 div.sk-estimator:hover {background-color: #d4ebff;}#sk-container-id-3 div.sk-parallel-item::after {content: \"\";width: 100%;border-bottom: 1px solid gray;flex-grow: 1;}#sk-container-id-3 div.sk-label:hover label.sk-toggleable__label {background-color: #d4ebff;}#sk-container-id-3 div.sk-serial::before {content: \"\";position: absolute;border-left: 1px solid gray;box-sizing: border-box;top: 0;bottom: 0;left: 50%;z-index: 0;}#sk-container-id-3 div.sk-serial {display: flex;flex-direction: column;align-items: center;background-color: white;padding-right: 0.2em;padding-left: 0.2em;position: relative;}#sk-container-id-3 div.sk-item {position: relative;z-index: 1;}#sk-container-id-3 div.sk-parallel {display: flex;align-items: stretch;justify-content: center;background-color: white;position: relative;}#sk-container-id-3 div.sk-item::before, #sk-container-id-3 div.sk-parallel-item::before {content: \"\";position: absolute;border-left: 1px solid gray;box-sizing: border-box;top: 0;bottom: 0;left: 50%;z-index: -1;}#sk-container-id-3 div.sk-parallel-item {display: flex;flex-direction: column;z-index: 1;position: relative;background-color: white;}#sk-container-id-3 div.sk-parallel-item:first-child::after {align-self: flex-end;width: 50%;}#sk-container-id-3 div.sk-parallel-item:last-child::after {align-self: flex-start;width: 50%;}#sk-container-id-3 div.sk-parallel-item:only-child::after {width: 0;}#sk-container-id-3 div.sk-dashed-wrapped {border: 1px dashed gray;margin: 0 0.4em 0.5em 0.4em;box-sizing: border-box;padding-bottom: 0.4em;background-color: white;}#sk-container-id-3 div.sk-label label {font-family: monospace;font-weight: bold;display: inline-block;line-height: 1.2em;}#sk-container-id-3 div.sk-label-container {text-align: center;}#sk-container-id-3 div.sk-container {/* jupyter's `normalize.less` sets `[hidden] { display: none; }` but bootstrap.min.css set `[hidden] { display: none !important; }` so we also need the `!important` here to be able to override the default hidden behavior on the sphinx rendered scikit-learn.org. See: https://github.com/scikit-learn/scikit-learn/issues/21755 */display: inline-block !important;position: relative;}#sk-container-id-3 div.sk-text-repr-fallback {display: none;}</style><div id=\"sk-container-id-3\" class=\"sk-top-container\"><div class=\"sk-text-repr-fallback\"><pre>GridSearchCV(cv=3,\n",
       "             estimator=Pipeline(steps=[(&#x27;classifier&#x27;, LinearRegression())]),\n",
       "             param_grid=[{&#x27;classifier__fit_intercept&#x27;: [True, False]}],\n",
       "             scoring=&#x27;r2&#x27;)</pre><b>In a Jupyter environment, please rerun this cell to show the HTML representation or trust the notebook. <br />On GitHub, the HTML representation is unable to render, please try loading this page with nbviewer.org.</b></div><div class=\"sk-container\" hidden><div class=\"sk-item sk-dashed-wrapped\"><div class=\"sk-label-container\"><div class=\"sk-label sk-toggleable\"><input class=\"sk-toggleable__control sk-hidden--visually\" id=\"sk-estimator-id-3\" type=\"checkbox\" ><label for=\"sk-estimator-id-3\" class=\"sk-toggleable__label sk-toggleable__label-arrow\">GridSearchCV</label><div class=\"sk-toggleable__content\"><pre>GridSearchCV(cv=3,\n",
       "             estimator=Pipeline(steps=[(&#x27;classifier&#x27;, LinearRegression())]),\n",
       "             param_grid=[{&#x27;classifier__fit_intercept&#x27;: [True, False]}],\n",
       "             scoring=&#x27;r2&#x27;)</pre></div></div></div><div class=\"sk-parallel\"><div class=\"sk-parallel-item\"><div class=\"sk-item\"><div class=\"sk-label-container\"><div class=\"sk-label sk-toggleable\"><input class=\"sk-toggleable__control sk-hidden--visually\" id=\"sk-estimator-id-4\" type=\"checkbox\" ><label for=\"sk-estimator-id-4\" class=\"sk-toggleable__label sk-toggleable__label-arrow\">estimator: Pipeline</label><div class=\"sk-toggleable__content\"><pre>Pipeline(steps=[(&#x27;classifier&#x27;, LinearRegression())])</pre></div></div></div><div class=\"sk-serial\"><div class=\"sk-item\"><div class=\"sk-serial\"><div class=\"sk-item\"><div class=\"sk-estimator sk-toggleable\"><input class=\"sk-toggleable__control sk-hidden--visually\" id=\"sk-estimator-id-5\" type=\"checkbox\" ><label for=\"sk-estimator-id-5\" class=\"sk-toggleable__label sk-toggleable__label-arrow\">LinearRegression</label><div class=\"sk-toggleable__content\"><pre>LinearRegression()</pre></div></div></div></div></div></div></div></div></div></div></div></div>"
      ],
      "text/plain": [
       "GridSearchCV(cv=3,\n",
       "             estimator=Pipeline(steps=[('classifier', LinearRegression())]),\n",
       "             param_grid=[{'classifier__fit_intercept': [True, False]}],\n",
       "             scoring='r2')"
      ]
     },
     "execution_count": 15,
     "metadata": {},
     "output_type": "execute_result"
    }
   ],
   "source": [
    "grid_search.fit(X_train_data,y_train_data)"
   ]
  },
  {
   "cell_type": "code",
   "execution_count": 16,
   "id": "99af684a",
   "metadata": {
    "execution": {
     "iopub.execute_input": "2024-10-07T09:52:52.230299Z",
     "iopub.status.busy": "2024-10-07T09:52:52.229815Z",
     "iopub.status.idle": "2024-10-07T09:52:52.236972Z",
     "shell.execute_reply": "2024-10-07T09:52:52.235888Z"
    },
    "papermill": {
     "duration": 0.021161,
     "end_time": "2024-10-07T09:52:52.239644",
     "exception": false,
     "start_time": "2024-10-07T09:52:52.218483",
     "status": "completed"
    },
    "tags": []
   },
   "outputs": [
    {
     "data": {
      "text/plain": [
       "{'classifier__fit_intercept': False}"
      ]
     },
     "execution_count": 16,
     "metadata": {},
     "output_type": "execute_result"
    }
   ],
   "source": [
    "grid_search.best_params_\n"
   ]
  },
  {
   "cell_type": "code",
   "execution_count": 17,
   "id": "503890ee",
   "metadata": {
    "execution": {
     "iopub.execute_input": "2024-10-07T09:52:52.259796Z",
     "iopub.status.busy": "2024-10-07T09:52:52.259363Z",
     "iopub.status.idle": "2024-10-07T09:52:52.290776Z",
     "shell.execute_reply": "2024-10-07T09:52:52.289776Z"
    },
    "papermill": {
     "duration": 0.044899,
     "end_time": "2024-10-07T09:52:52.293792",
     "exception": false,
     "start_time": "2024-10-07T09:52:52.248893",
     "status": "completed"
    },
    "tags": []
   },
   "outputs": [
    {
     "data": {
      "text/html": [
       "<div>\n",
       "<style scoped>\n",
       "    .dataframe tbody tr th:only-of-type {\n",
       "        vertical-align: middle;\n",
       "    }\n",
       "\n",
       "    .dataframe tbody tr th {\n",
       "        vertical-align: top;\n",
       "    }\n",
       "\n",
       "    .dataframe thead th {\n",
       "        text-align: right;\n",
       "    }\n",
       "</style>\n",
       "<table border=\"1\" class=\"dataframe\">\n",
       "  <thead>\n",
       "    <tr style=\"text-align: right;\">\n",
       "      <th></th>\n",
       "      <th>mean_fit_time</th>\n",
       "      <th>std_fit_time</th>\n",
       "      <th>mean_score_time</th>\n",
       "      <th>std_score_time</th>\n",
       "      <th>param_classifier__fit_intercept</th>\n",
       "      <th>params</th>\n",
       "      <th>split0_test_score</th>\n",
       "      <th>split1_test_score</th>\n",
       "      <th>split2_test_score</th>\n",
       "      <th>mean_test_score</th>\n",
       "      <th>std_test_score</th>\n",
       "      <th>rank_test_score</th>\n",
       "    </tr>\n",
       "  </thead>\n",
       "  <tbody>\n",
       "    <tr>\n",
       "      <th>1</th>\n",
       "      <td>0.138459</td>\n",
       "      <td>0.007502</td>\n",
       "      <td>0.027246</td>\n",
       "      <td>0.002895</td>\n",
       "      <td>False</td>\n",
       "      <td>{'classifier__fit_intercept': False}</td>\n",
       "      <td>8.751206e-01</td>\n",
       "      <td>0.829771</td>\n",
       "      <td>0.746371</td>\n",
       "      <td>8.170873e-01</td>\n",
       "      <td>5.332151e-02</td>\n",
       "      <td>1</td>\n",
       "    </tr>\n",
       "    <tr>\n",
       "      <th>0</th>\n",
       "      <td>0.117583</td>\n",
       "      <td>0.016686</td>\n",
       "      <td>0.029819</td>\n",
       "      <td>0.003404</td>\n",
       "      <td>True</td>\n",
       "      <td>{'classifier__fit_intercept': True}</td>\n",
       "      <td>-2.012072e+08</td>\n",
       "      <td>0.830827</td>\n",
       "      <td>0.727612</td>\n",
       "      <td>-6.706908e+07</td>\n",
       "      <td>9.485001e+07</td>\n",
       "      <td>2</td>\n",
       "    </tr>\n",
       "  </tbody>\n",
       "</table>\n",
       "</div>"
      ],
      "text/plain": [
       "   mean_fit_time  std_fit_time  mean_score_time  std_score_time  \\\n",
       "1       0.138459      0.007502         0.027246        0.002895   \n",
       "0       0.117583      0.016686         0.029819        0.003404   \n",
       "\n",
       "  param_classifier__fit_intercept                                params  \\\n",
       "1                           False  {'classifier__fit_intercept': False}   \n",
       "0                            True   {'classifier__fit_intercept': True}   \n",
       "\n",
       "   split0_test_score  split1_test_score  split2_test_score  mean_test_score  \\\n",
       "1       8.751206e-01           0.829771           0.746371     8.170873e-01   \n",
       "0      -2.012072e+08           0.830827           0.727612    -6.706908e+07   \n",
       "\n",
       "   std_test_score  rank_test_score  \n",
       "1    5.332151e-02                1  \n",
       "0    9.485001e+07                2  "
      ]
     },
     "execution_count": 17,
     "metadata": {},
     "output_type": "execute_result"
    }
   ],
   "source": [
    "cv_res = pd.DataFrame(grid_search.cv_results_)\n",
    "cv_res.sort_values(by=\"mean_test_score\", ascending=False, inplace=True)\n",
    "cv_res.head()"
   ]
  },
  {
   "cell_type": "markdown",
   "id": "5fa048fe",
   "metadata": {
    "papermill": {
     "duration": 0.009241,
     "end_time": "2024-10-07T09:52:52.313563",
     "exception": false,
     "start_time": "2024-10-07T09:52:52.304322",
     "status": "completed"
    },
    "tags": []
   },
   "source": [
    "**Prediction :**"
   ]
  },
  {
   "cell_type": "code",
   "execution_count": 18,
   "id": "0942000b",
   "metadata": {
    "execution": {
     "iopub.execute_input": "2024-10-07T09:52:52.330029Z",
     "iopub.status.busy": "2024-10-07T09:52:52.329585Z",
     "iopub.status.idle": "2024-10-07T09:52:52.373721Z",
     "shell.execute_reply": "2024-10-07T09:52:52.372441Z"
    },
    "papermill": {
     "duration": 0.056269,
     "end_time": "2024-10-07T09:52:52.378022",
     "exception": false,
     "start_time": "2024-10-07T09:52:52.321753",
     "status": "completed"
    },
    "tags": []
   },
   "outputs": [],
   "source": [
    "final_evaluation = grid_search.predict(test_data)"
   ]
  },
  {
   "cell_type": "code",
   "execution_count": 19,
   "id": "75880a3f",
   "metadata": {
    "execution": {
     "iopub.execute_input": "2024-10-07T09:52:52.403251Z",
     "iopub.status.busy": "2024-10-07T09:52:52.401555Z",
     "iopub.status.idle": "2024-10-07T09:52:52.420307Z",
     "shell.execute_reply": "2024-10-07T09:52:52.419079Z"
    },
    "papermill": {
     "duration": 0.034529,
     "end_time": "2024-10-07T09:52:52.423518",
     "exception": false,
     "start_time": "2024-10-07T09:52:52.388989",
     "status": "completed"
    },
    "tags": []
   },
   "outputs": [
    {
     "data": {
      "text/html": [
       "<div>\n",
       "<style scoped>\n",
       "    .dataframe tbody tr th:only-of-type {\n",
       "        vertical-align: middle;\n",
       "    }\n",
       "\n",
       "    .dataframe tbody tr th {\n",
       "        vertical-align: top;\n",
       "    }\n",
       "\n",
       "    .dataframe thead th {\n",
       "        text-align: right;\n",
       "    }\n",
       "</style>\n",
       "<table border=\"1\" class=\"dataframe\">\n",
       "  <thead>\n",
       "    <tr style=\"text-align: right;\">\n",
       "      <th></th>\n",
       "      <th>Id</th>\n",
       "      <th>SalePrice</th>\n",
       "    </tr>\n",
       "  </thead>\n",
       "  <tbody>\n",
       "    <tr>\n",
       "      <th>0</th>\n",
       "      <td>1461</td>\n",
       "      <td>112384.723178</td>\n",
       "    </tr>\n",
       "    <tr>\n",
       "      <th>1</th>\n",
       "      <td>1462</td>\n",
       "      <td>154738.365320</td>\n",
       "    </tr>\n",
       "    <tr>\n",
       "      <th>2</th>\n",
       "      <td>1463</td>\n",
       "      <td>186890.319594</td>\n",
       "    </tr>\n",
       "    <tr>\n",
       "      <th>3</th>\n",
       "      <td>1464</td>\n",
       "      <td>201355.794169</td>\n",
       "    </tr>\n",
       "    <tr>\n",
       "      <th>4</th>\n",
       "      <td>1465</td>\n",
       "      <td>202308.488027</td>\n",
       "    </tr>\n",
       "    <tr>\n",
       "      <th>...</th>\n",
       "      <td>...</td>\n",
       "      <td>...</td>\n",
       "    </tr>\n",
       "    <tr>\n",
       "      <th>1454</th>\n",
       "      <td>2915</td>\n",
       "      <td>80436.079921</td>\n",
       "    </tr>\n",
       "    <tr>\n",
       "      <th>1455</th>\n",
       "      <td>2916</td>\n",
       "      <td>79267.884133</td>\n",
       "    </tr>\n",
       "    <tr>\n",
       "      <th>1456</th>\n",
       "      <td>2917</td>\n",
       "      <td>179097.436488</td>\n",
       "    </tr>\n",
       "    <tr>\n",
       "      <th>1457</th>\n",
       "      <td>2918</td>\n",
       "      <td>108490.825475</td>\n",
       "    </tr>\n",
       "    <tr>\n",
       "      <th>1458</th>\n",
       "      <td>2919</td>\n",
       "      <td>224077.697768</td>\n",
       "    </tr>\n",
       "  </tbody>\n",
       "</table>\n",
       "<p>1459 rows × 2 columns</p>\n",
       "</div>"
      ],
      "text/plain": [
       "        Id      SalePrice\n",
       "0     1461  112384.723178\n",
       "1     1462  154738.365320\n",
       "2     1463  186890.319594\n",
       "3     1464  201355.794169\n",
       "4     1465  202308.488027\n",
       "...    ...            ...\n",
       "1454  2915   80436.079921\n",
       "1455  2916   79267.884133\n",
       "1456  2917  179097.436488\n",
       "1457  2918  108490.825475\n",
       "1458  2919  224077.697768\n",
       "\n",
       "[1459 rows x 2 columns]"
      ]
     },
     "execution_count": 19,
     "metadata": {},
     "output_type": "execute_result"
    }
   ],
   "source": [
    "d = {'Id':np.arange(len(final_evaluation)) + 1461,'SalePrice':final_evaluation}\n",
    "df = pd.DataFrame(data=d)\n",
    "df"
   ]
  },
  {
   "cell_type": "code",
   "execution_count": 20,
   "id": "ee6a5548",
   "metadata": {
    "execution": {
     "iopub.execute_input": "2024-10-07T09:52:52.448518Z",
     "iopub.status.busy": "2024-10-07T09:52:52.447923Z",
     "iopub.status.idle": "2024-10-07T09:52:52.464722Z",
     "shell.execute_reply": "2024-10-07T09:52:52.463403Z"
    },
    "papermill": {
     "duration": 0.033158,
     "end_time": "2024-10-07T09:52:52.468118",
     "exception": false,
     "start_time": "2024-10-07T09:52:52.434960",
     "status": "completed"
    },
    "tags": []
   },
   "outputs": [],
   "source": [
    "df.to_csv('out.csv',index=False)"
   ]
  }
 ],
 "metadata": {
  "kaggle": {
   "accelerator": "none",
   "dataSources": [
    {
     "databundleVersionId": 868283,
     "sourceId": 5407,
     "sourceType": "competition"
    }
   ],
   "dockerImageVersionId": 30786,
   "isGpuEnabled": false,
   "isInternetEnabled": false,
   "language": "python",
   "sourceType": "notebook"
  },
  "kernelspec": {
   "display_name": "Python 3",
   "language": "python",
   "name": "python3"
  },
  "language_info": {
   "codemirror_mode": {
    "name": "ipython",
    "version": 3
   },
   "file_extension": ".py",
   "mimetype": "text/x-python",
   "name": "python",
   "nbconvert_exporter": "python",
   "pygments_lexer": "ipython3",
   "version": "3.10.14"
  },
  "papermill": {
   "default_parameters": {},
   "duration": 9.049169,
   "end_time": "2024-10-07T09:52:53.203566",
   "environment_variables": {},
   "exception": null,
   "input_path": "__notebook__.ipynb",
   "output_path": "__notebook__.ipynb",
   "parameters": {},
   "start_time": "2024-10-07T09:52:44.154397",
   "version": "2.6.0"
  }
 },
 "nbformat": 4,
 "nbformat_minor": 5
}

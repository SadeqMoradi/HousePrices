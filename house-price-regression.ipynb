{
 "cells": [
  {
   "cell_type": "code",
   "execution_count": 1,
   "id": "60fa3154",
   "metadata": {
    "execution": {
     "iopub.execute_input": "2024-10-07T09:49:54.926024Z",
     "iopub.status.busy": "2024-10-07T09:49:54.925523Z",
     "iopub.status.idle": "2024-10-07T09:49:58.053452Z",
     "shell.execute_reply": "2024-10-07T09:49:58.052399Z"
    },
    "papermill": {
     "duration": 3.142054,
     "end_time": "2024-10-07T09:49:58.056395",
     "exception": false,
     "start_time": "2024-10-07T09:49:54.914341",
     "status": "completed"
    },
    "tags": []
   },
   "outputs": [],
   "source": [
    "import numpy as np\n",
    "import pandas as pd\n",
    "import os\n",
    "from pathlib import Path\n",
    "import matplotlib as plt\n",
    "from sklearn.neighbors import KNeighborsClassifier\n",
    "from sklearn.model_selection import cross_val_score\n",
    "from sklearn.model_selection import cross_val_predict\n",
    "from sklearn.metrics import ConfusionMatrixDisplay\n",
    "from sklearn.pipeline import Pipeline\n",
    "from sklearn.model_selection import GridSearchCV\n",
    "from scipy.ndimage import shift\n",
    "from IPython.display import clear_output\n",
    "from sklearn.impute import SimpleImputer\n",
    "from sklearn.preprocessing import OneHotEncoder\n",
    "from sklearn.tree import DecisionTreeClassifier\n",
    "from sklearn.ensemble import RandomForestClassifier\n",
    "from sklearn.preprocessing import OrdinalEncoder\n",
    "import seaborn\n",
    "from sklearn.preprocessing import StandardScaler\n",
    "from sklearn.svm import SVC\n",
    "from sklearn.svm import SVR\n",
    "from sklearn.svm import LinearSVR\n",
    "from sklearn.linear_model import LinearRegression\n",
    "from sklearn.ensemble import RandomForestRegressor\n",
    "from sklearn.preprocessing import PolynomialFeatures"
   ]
  },
  {
   "cell_type": "code",
   "execution_count": 2,
   "id": "9847d6da",
   "metadata": {
    "execution": {
     "iopub.execute_input": "2024-10-07T09:49:58.074735Z",
     "iopub.status.busy": "2024-10-07T09:49:58.074122Z",
     "iopub.status.idle": "2024-10-07T09:49:58.082242Z",
     "shell.execute_reply": "2024-10-07T09:49:58.081012Z"
    },
    "papermill": {
     "duration": 0.02015,
     "end_time": "2024-10-07T09:49:58.084827",
     "exception": false,
     "start_time": "2024-10-07T09:49:58.064677",
     "status": "completed"
    },
    "tags": []
   },
   "outputs": [
    {
     "name": "stdout",
     "output_type": "stream",
     "text": [
      "/kaggle/input/house-prices-advanced-regression-techniques/sample_submission.csv\n",
      "/kaggle/input/house-prices-advanced-regression-techniques/data_description.txt\n",
      "/kaggle/input/house-prices-advanced-regression-techniques/train.csv\n",
      "/kaggle/input/house-prices-advanced-regression-techniques/test.csv\n"
     ]
    }
   ],
   "source": [
    "import os\n",
    "for dirname, _, filenames in os.walk('/kaggle/input'):\n",
    "    for filename in filenames:\n",
    "        print(os.path.join(dirname, filename))"
   ]
  },
  {
   "cell_type": "code",
   "execution_count": 3,
   "id": "4ecca3a7",
   "metadata": {
    "execution": {
     "iopub.execute_input": "2024-10-07T09:49:58.102980Z",
     "iopub.status.busy": "2024-10-07T09:49:58.101912Z",
     "iopub.status.idle": "2024-10-07T09:49:58.205911Z",
     "shell.execute_reply": "2024-10-07T09:49:58.204749Z"
    },
    "papermill": {
     "duration": 0.116184,
     "end_time": "2024-10-07T09:49:58.208905",
     "exception": false,
     "start_time": "2024-10-07T09:49:58.092721",
     "status": "completed"
    },
    "tags": []
   },
   "outputs": [],
   "source": [
    "train_data = pd.read_csv(Path(\"/kaggle/input/house-prices-advanced-regression-techniques/train.csv\"))\n",
    "test_data = pd.read_csv(Path(\"/kaggle/input/house-prices-advanced-regression-techniques/test.csv\"))\n",
    "sample_submission = pd.read_csv(Path(\"/kaggle/input/house-prices-advanced-regression-techniques/sample_submission.csv\"))\n",
    "train_data = train_data.drop(\"Id\",axis=1)\n",
    "test_data = test_data.drop(\"Id\",axis=1)"
   ]
  },
  {
   "cell_type": "code",
   "execution_count": 4,
   "id": "6853c3e7",
   "metadata": {
    "execution": {
     "iopub.execute_input": "2024-10-07T09:49:58.226966Z",
     "iopub.status.busy": "2024-10-07T09:49:58.226510Z",
     "iopub.status.idle": "2024-10-07T09:49:58.234059Z",
     "shell.execute_reply": "2024-10-07T09:49:58.232801Z"
    },
    "papermill": {
     "duration": 0.01929,
     "end_time": "2024-10-07T09:49:58.236553",
     "exception": false,
     "start_time": "2024-10-07T09:49:58.217263",
     "status": "completed"
    },
    "tags": []
   },
   "outputs": [],
   "source": [
    "X_train_data = train_data.drop(\"SalePrice\",axis=1)\n",
    "y_train_data = train_data[\"SalePrice\"]"
   ]
  },
  {
   "cell_type": "markdown",
   "id": "7c43c06c",
   "metadata": {
    "papermill": {
     "duration": 0.007484,
     "end_time": "2024-10-07T09:49:58.251982",
     "exception": false,
     "start_time": "2024-10-07T09:49:58.244498",
     "status": "completed"
    },
    "tags": []
   },
   "source": [
    "**Prepairing the data :**"
   ]
  },
  {
   "cell_type": "code",
   "execution_count": 5,
   "id": "3fdc1659",
   "metadata": {
    "execution": {
     "iopub.execute_input": "2024-10-07T09:49:58.271043Z",
     "iopub.status.busy": "2024-10-07T09:49:58.269854Z",
     "iopub.status.idle": "2024-10-07T09:49:58.351527Z",
     "shell.execute_reply": "2024-10-07T09:49:58.350065Z"
    },
    "papermill": {
     "duration": 0.094414,
     "end_time": "2024-10-07T09:49:58.354155",
     "exception": false,
     "start_time": "2024-10-07T09:49:58.259741",
     "status": "completed"
    },
    "tags": []
   },
   "outputs": [
    {
     "data": {
      "text/html": [
       "<style>#sk-container-id-1 {color: black;background-color: white;}#sk-container-id-1 pre{padding: 0;}#sk-container-id-1 div.sk-toggleable {background-color: white;}#sk-container-id-1 label.sk-toggleable__label {cursor: pointer;display: block;width: 100%;margin-bottom: 0;padding: 0.3em;box-sizing: border-box;text-align: center;}#sk-container-id-1 label.sk-toggleable__label-arrow:before {content: \"▸\";float: left;margin-right: 0.25em;color: #696969;}#sk-container-id-1 label.sk-toggleable__label-arrow:hover:before {color: black;}#sk-container-id-1 div.sk-estimator:hover label.sk-toggleable__label-arrow:before {color: black;}#sk-container-id-1 div.sk-toggleable__content {max-height: 0;max-width: 0;overflow: hidden;text-align: left;background-color: #f0f8ff;}#sk-container-id-1 div.sk-toggleable__content pre {margin: 0.2em;color: black;border-radius: 0.25em;background-color: #f0f8ff;}#sk-container-id-1 input.sk-toggleable__control:checked~div.sk-toggleable__content {max-height: 200px;max-width: 100%;overflow: auto;}#sk-container-id-1 input.sk-toggleable__control:checked~label.sk-toggleable__label-arrow:before {content: \"▾\";}#sk-container-id-1 div.sk-estimator input.sk-toggleable__control:checked~label.sk-toggleable__label {background-color: #d4ebff;}#sk-container-id-1 div.sk-label input.sk-toggleable__control:checked~label.sk-toggleable__label {background-color: #d4ebff;}#sk-container-id-1 input.sk-hidden--visually {border: 0;clip: rect(1px 1px 1px 1px);clip: rect(1px, 1px, 1px, 1px);height: 1px;margin: -1px;overflow: hidden;padding: 0;position: absolute;width: 1px;}#sk-container-id-1 div.sk-estimator {font-family: monospace;background-color: #f0f8ff;border: 1px dotted black;border-radius: 0.25em;box-sizing: border-box;margin-bottom: 0.5em;}#sk-container-id-1 div.sk-estimator:hover {background-color: #d4ebff;}#sk-container-id-1 div.sk-parallel-item::after {content: \"\";width: 100%;border-bottom: 1px solid gray;flex-grow: 1;}#sk-container-id-1 div.sk-label:hover label.sk-toggleable__label {background-color: #d4ebff;}#sk-container-id-1 div.sk-serial::before {content: \"\";position: absolute;border-left: 1px solid gray;box-sizing: border-box;top: 0;bottom: 0;left: 50%;z-index: 0;}#sk-container-id-1 div.sk-serial {display: flex;flex-direction: column;align-items: center;background-color: white;padding-right: 0.2em;padding-left: 0.2em;position: relative;}#sk-container-id-1 div.sk-item {position: relative;z-index: 1;}#sk-container-id-1 div.sk-parallel {display: flex;align-items: stretch;justify-content: center;background-color: white;position: relative;}#sk-container-id-1 div.sk-item::before, #sk-container-id-1 div.sk-parallel-item::before {content: \"\";position: absolute;border-left: 1px solid gray;box-sizing: border-box;top: 0;bottom: 0;left: 50%;z-index: -1;}#sk-container-id-1 div.sk-parallel-item {display: flex;flex-direction: column;z-index: 1;position: relative;background-color: white;}#sk-container-id-1 div.sk-parallel-item:first-child::after {align-self: flex-end;width: 50%;}#sk-container-id-1 div.sk-parallel-item:last-child::after {align-self: flex-start;width: 50%;}#sk-container-id-1 div.sk-parallel-item:only-child::after {width: 0;}#sk-container-id-1 div.sk-dashed-wrapped {border: 1px dashed gray;margin: 0 0.4em 0.5em 0.4em;box-sizing: border-box;padding-bottom: 0.4em;background-color: white;}#sk-container-id-1 div.sk-label label {font-family: monospace;font-weight: bold;display: inline-block;line-height: 1.2em;}#sk-container-id-1 div.sk-label-container {text-align: center;}#sk-container-id-1 div.sk-container {/* jupyter's `normalize.less` sets `[hidden] { display: none; }` but bootstrap.min.css set `[hidden] { display: none !important; }` so we also need the `!important` here to be able to override the default hidden behavior on the sphinx rendered scikit-learn.org. See: https://github.com/scikit-learn/scikit-learn/issues/21755 */display: inline-block !important;position: relative;}#sk-container-id-1 div.sk-text-repr-fallback {display: none;}</style><div id=\"sk-container-id-1\" class=\"sk-top-container\"><div class=\"sk-text-repr-fallback\"><pre>SimpleImputer(strategy=&#x27;most_frequent&#x27;)</pre><b>In a Jupyter environment, please rerun this cell to show the HTML representation or trust the notebook. <br />On GitHub, the HTML representation is unable to render, please try loading this page with nbviewer.org.</b></div><div class=\"sk-container\" hidden><div class=\"sk-item\"><div class=\"sk-estimator sk-toggleable\"><input class=\"sk-toggleable__control sk-hidden--visually\" id=\"sk-estimator-id-1\" type=\"checkbox\" checked><label for=\"sk-estimator-id-1\" class=\"sk-toggleable__label sk-toggleable__label-arrow\">SimpleImputer</label><div class=\"sk-toggleable__content\"><pre>SimpleImputer(strategy=&#x27;most_frequent&#x27;)</pre></div></div></div></div></div>"
      ],
      "text/plain": [
       "SimpleImputer(strategy='most_frequent')"
      ]
     },
     "execution_count": 5,
     "metadata": {},
     "output_type": "execute_result"
    }
   ],
   "source": [
    "imputer = SimpleImputer(strategy=\"most_frequent\")\n",
    "imputer.fit(pd.concat([X_train_data,test_data]))"
   ]
  },
  {
   "cell_type": "code",
   "execution_count": 6,
   "id": "7d9fd8e2",
   "metadata": {
    "execution": {
     "iopub.execute_input": "2024-10-07T09:49:58.372514Z",
     "iopub.status.busy": "2024-10-07T09:49:58.372066Z",
     "iopub.status.idle": "2024-10-07T09:49:58.415833Z",
     "shell.execute_reply": "2024-10-07T09:49:58.414678Z"
    },
    "papermill": {
     "duration": 0.056284,
     "end_time": "2024-10-07T09:49:58.418850",
     "exception": false,
     "start_time": "2024-10-07T09:49:58.362566",
     "status": "completed"
    },
    "tags": []
   },
   "outputs": [],
   "source": [
    "c = X_train_data.columns\n",
    "i_train = X_train_data.index\n",
    "i_test = test_data.index\n",
    "X_train_data = pd.DataFrame(imputer.transform(X_train_data),columns = c,index = i_train)\n",
    "test_data = pd.DataFrame(imputer.transform(test_data),columns = c,index=i_test)"
   ]
  },
  {
   "cell_type": "code",
   "execution_count": 7,
   "id": "92895ef6",
   "metadata": {
    "execution": {
     "iopub.execute_input": "2024-10-07T09:49:58.437362Z",
     "iopub.status.busy": "2024-10-07T09:49:58.436897Z",
     "iopub.status.idle": "2024-10-07T09:49:58.443795Z",
     "shell.execute_reply": "2024-10-07T09:49:58.442769Z"
    },
    "papermill": {
     "duration": 0.0187,
     "end_time": "2024-10-07T09:49:58.446176",
     "exception": false,
     "start_time": "2024-10-07T09:49:58.427476",
     "status": "completed"
    },
    "tags": []
   },
   "outputs": [],
   "source": [
    " str_cat = [ \"MSZoning\",\"Street\",\"Alley\",\"LotShape\",\"LandContour\",\"Utilities\",\"LotConfig\",\"LandSlope\",\n",
    "  \"Neighborhood\",\"Condition1\",\"Condition2\",\"BldgType\",\"HouseStyle\",\"RoofStyle\",\"RoofMatl\",\"Exterior1st\",\n",
    "  \"Exterior2nd\",\"MasVnrType\",\"ExterQual\",\"ExterCond\",\"Foundation\",\"BsmtQual\",\"BsmtCond\",\"BsmtExposure\",\"BsmtFinType1\",\"BsmtFinType2\",\n",
    "  \"Heating\",\"HeatingQC\",\"CentralAir\",\"Electrical\",\"KitchenQual\",\"Functional\",\"FireplaceQu\",\"GarageType\",\n",
    "  \"GarageFinish\",\"GarageQual\",\"GarageCond\",\"PavedDrive\",\"PoolQC\",\"Fence\",\"MiscFeature\",\"SaleCondition\",\"SaleType\"]"
   ]
  },
  {
   "cell_type": "code",
   "execution_count": 8,
   "id": "13ba2486",
   "metadata": {
    "execution": {
     "iopub.execute_input": "2024-10-07T09:49:58.464587Z",
     "iopub.status.busy": "2024-10-07T09:49:58.464137Z",
     "iopub.status.idle": "2024-10-07T09:49:58.474834Z",
     "shell.execute_reply": "2024-10-07T09:49:58.473256Z"
    },
    "papermill": {
     "duration": 0.023074,
     "end_time": "2024-10-07T09:49:58.477437",
     "exception": false,
     "start_time": "2024-10-07T09:49:58.454363",
     "status": "completed"
    },
    "tags": []
   },
   "outputs": [],
   "source": [
    "def OneHotE(dataframe,cat_col,cat_encoder):\n",
    "    poly_features = PolynomialFeatures(degree=2,include_bias=False)\n",
    "    dataframe_num = dataframe.drop(cat_col,axis=1)\n",
    "    dataframe_cat = dataframe[cat_col]\n",
    "    \n",
    "    col = dataframe_num.columns\n",
    "    dataframe_num =  poly_features.fit_transform(dataframe_num)\n",
    "    dataframe_num = pd.DataFrame(dataframe_num,index = dataframe.index , columns = poly_features.get_feature_names_out(col))\n",
    "    \n",
    "    scaler = StandardScaler()\n",
    "    for column in dataframe_num.columns:\n",
    "        dataframe_num[column] = scaler.fit_transform(np.array(dataframe_num[column]).reshape(-1,1))\n",
    "    \n",
    "    dataframe_cat = cat_encoder.transform(dataframe_cat)\n",
    "    dataframe_cat = pd.DataFrame(dataframe_cat.toarray(),columns=cat_encoder.get_feature_names_out(),index=dataframe.index)\n",
    "    dataframe = pd.concat([dataframe_num,dataframe_cat],axis=1)    \n",
    "    return dataframe"
   ]
  },
  {
   "cell_type": "code",
   "execution_count": 9,
   "id": "ecdf806e",
   "metadata": {
    "execution": {
     "iopub.execute_input": "2024-10-07T09:49:58.497301Z",
     "iopub.status.busy": "2024-10-07T09:49:58.496820Z",
     "iopub.status.idle": "2024-10-07T09:49:58.502397Z",
     "shell.execute_reply": "2024-10-07T09:49:58.501325Z"
    },
    "papermill": {
     "duration": 0.018612,
     "end_time": "2024-10-07T09:49:58.504838",
     "exception": false,
     "start_time": "2024-10-07T09:49:58.486226",
     "status": "completed"
    },
    "tags": []
   },
   "outputs": [],
   "source": [
    "cat_encoder = OneHotEncoder()"
   ]
  },
  {
   "cell_type": "code",
   "execution_count": 10,
   "id": "368ff792",
   "metadata": {
    "execution": {
     "iopub.execute_input": "2024-10-07T09:49:58.522969Z",
     "iopub.status.busy": "2024-10-07T09:49:58.522496Z",
     "iopub.status.idle": "2024-10-07T09:49:58.552954Z",
     "shell.execute_reply": "2024-10-07T09:49:58.551693Z"
    },
    "papermill": {
     "duration": 0.042652,
     "end_time": "2024-10-07T09:49:58.555703",
     "exception": false,
     "start_time": "2024-10-07T09:49:58.513051",
     "status": "completed"
    },
    "tags": []
   },
   "outputs": [
    {
     "data": {
      "text/html": [
       "<style>#sk-container-id-2 {color: black;background-color: white;}#sk-container-id-2 pre{padding: 0;}#sk-container-id-2 div.sk-toggleable {background-color: white;}#sk-container-id-2 label.sk-toggleable__label {cursor: pointer;display: block;width: 100%;margin-bottom: 0;padding: 0.3em;box-sizing: border-box;text-align: center;}#sk-container-id-2 label.sk-toggleable__label-arrow:before {content: \"▸\";float: left;margin-right: 0.25em;color: #696969;}#sk-container-id-2 label.sk-toggleable__label-arrow:hover:before {color: black;}#sk-container-id-2 div.sk-estimator:hover label.sk-toggleable__label-arrow:before {color: black;}#sk-container-id-2 div.sk-toggleable__content {max-height: 0;max-width: 0;overflow: hidden;text-align: left;background-color: #f0f8ff;}#sk-container-id-2 div.sk-toggleable__content pre {margin: 0.2em;color: black;border-radius: 0.25em;background-color: #f0f8ff;}#sk-container-id-2 input.sk-toggleable__control:checked~div.sk-toggleable__content {max-height: 200px;max-width: 100%;overflow: auto;}#sk-container-id-2 input.sk-toggleable__control:checked~label.sk-toggleable__label-arrow:before {content: \"▾\";}#sk-container-id-2 div.sk-estimator input.sk-toggleable__control:checked~label.sk-toggleable__label {background-color: #d4ebff;}#sk-container-id-2 div.sk-label input.sk-toggleable__control:checked~label.sk-toggleable__label {background-color: #d4ebff;}#sk-container-id-2 input.sk-hidden--visually {border: 0;clip: rect(1px 1px 1px 1px);clip: rect(1px, 1px, 1px, 1px);height: 1px;margin: -1px;overflow: hidden;padding: 0;position: absolute;width: 1px;}#sk-container-id-2 div.sk-estimator {font-family: monospace;background-color: #f0f8ff;border: 1px dotted black;border-radius: 0.25em;box-sizing: border-box;margin-bottom: 0.5em;}#sk-container-id-2 div.sk-estimator:hover {background-color: #d4ebff;}#sk-container-id-2 div.sk-parallel-item::after {content: \"\";width: 100%;border-bottom: 1px solid gray;flex-grow: 1;}#sk-container-id-2 div.sk-label:hover label.sk-toggleable__label {background-color: #d4ebff;}#sk-container-id-2 div.sk-serial::before {content: \"\";position: absolute;border-left: 1px solid gray;box-sizing: border-box;top: 0;bottom: 0;left: 50%;z-index: 0;}#sk-container-id-2 div.sk-serial {display: flex;flex-direction: column;align-items: center;background-color: white;padding-right: 0.2em;padding-left: 0.2em;position: relative;}#sk-container-id-2 div.sk-item {position: relative;z-index: 1;}#sk-container-id-2 div.sk-parallel {display: flex;align-items: stretch;justify-content: center;background-color: white;position: relative;}#sk-container-id-2 div.sk-item::before, #sk-container-id-2 div.sk-parallel-item::before {content: \"\";position: absolute;border-left: 1px solid gray;box-sizing: border-box;top: 0;bottom: 0;left: 50%;z-index: -1;}#sk-container-id-2 div.sk-parallel-item {display: flex;flex-direction: column;z-index: 1;position: relative;background-color: white;}#sk-container-id-2 div.sk-parallel-item:first-child::after {align-self: flex-end;width: 50%;}#sk-container-id-2 div.sk-parallel-item:last-child::after {align-self: flex-start;width: 50%;}#sk-container-id-2 div.sk-parallel-item:only-child::after {width: 0;}#sk-container-id-2 div.sk-dashed-wrapped {border: 1px dashed gray;margin: 0 0.4em 0.5em 0.4em;box-sizing: border-box;padding-bottom: 0.4em;background-color: white;}#sk-container-id-2 div.sk-label label {font-family: monospace;font-weight: bold;display: inline-block;line-height: 1.2em;}#sk-container-id-2 div.sk-label-container {text-align: center;}#sk-container-id-2 div.sk-container {/* jupyter's `normalize.less` sets `[hidden] { display: none; }` but bootstrap.min.css set `[hidden] { display: none !important; }` so we also need the `!important` here to be able to override the default hidden behavior on the sphinx rendered scikit-learn.org. See: https://github.com/scikit-learn/scikit-learn/issues/21755 */display: inline-block !important;position: relative;}#sk-container-id-2 div.sk-text-repr-fallback {display: none;}</style><div id=\"sk-container-id-2\" class=\"sk-top-container\"><div class=\"sk-text-repr-fallback\"><pre>OneHotEncoder()</pre><b>In a Jupyter environment, please rerun this cell to show the HTML representation or trust the notebook. <br />On GitHub, the HTML representation is unable to render, please try loading this page with nbviewer.org.</b></div><div class=\"sk-container\" hidden><div class=\"sk-item\"><div class=\"sk-estimator sk-toggleable\"><input class=\"sk-toggleable__control sk-hidden--visually\" id=\"sk-estimator-id-2\" type=\"checkbox\" checked><label for=\"sk-estimator-id-2\" class=\"sk-toggleable__label sk-toggleable__label-arrow\">OneHotEncoder</label><div class=\"sk-toggleable__content\"><pre>OneHotEncoder()</pre></div></div></div></div></div>"
      ],
      "text/plain": [
       "OneHotEncoder()"
      ]
     },
     "execution_count": 10,
     "metadata": {},
     "output_type": "execute_result"
    }
   ],
   "source": [
    "cat_encoder.fit(pd.concat([X_train_data[str_cat],test_data[str_cat]]))"
   ]
  },
  {
   "cell_type": "code",
   "execution_count": 11,
   "id": "0d378540",
   "metadata": {
    "execution": {
     "iopub.execute_input": "2024-10-07T09:49:58.575084Z",
     "iopub.status.busy": "2024-10-07T09:49:58.573920Z",
     "iopub.status.idle": "2024-10-07T09:50:00.072077Z",
     "shell.execute_reply": "2024-10-07T09:50:00.070974Z"
    },
    "papermill": {
     "duration": 1.510692,
     "end_time": "2024-10-07T09:50:00.074804",
     "exception": false,
     "start_time": "2024-10-07T09:49:58.564112",
     "status": "completed"
    },
    "tags": []
   },
   "outputs": [],
   "source": [
    "X_train_data = OneHotE(X_train_data,str_cat,cat_encoder)\n",
    "test_data = OneHotE(test_data,str_cat,cat_encoder)"
   ]
  },
  {
   "cell_type": "markdown",
   "id": "e618fe39",
   "metadata": {
    "papermill": {
     "duration": 0.009316,
     "end_time": "2024-10-07T09:50:00.093577",
     "exception": false,
     "start_time": "2024-10-07T09:50:00.084261",
     "status": "completed"
    },
    "tags": []
   },
   "source": [
    "**Training a model:**"
   ]
  },
  {
   "cell_type": "code",
   "execution_count": 12,
   "id": "9702dc06",
   "metadata": {
    "execution": {
     "iopub.execute_input": "2024-10-07T09:50:00.112159Z",
     "iopub.status.busy": "2024-10-07T09:50:00.111645Z",
     "iopub.status.idle": "2024-10-07T09:50:00.117321Z",
     "shell.execute_reply": "2024-10-07T09:50:00.116250Z"
    },
    "papermill": {
     "duration": 0.017959,
     "end_time": "2024-10-07T09:50:00.119848",
     "exception": false,
     "start_time": "2024-10-07T09:50:00.101889",
     "status": "completed"
    },
    "tags": []
   },
   "outputs": [],
   "source": [
    "pipeline = Pipeline([(\"classifier\",LinearRegression())])"
   ]
  },
  {
   "cell_type": "code",
   "execution_count": 13,
   "id": "70392f14",
   "metadata": {
    "execution": {
     "iopub.execute_input": "2024-10-07T09:50:00.138718Z",
     "iopub.status.busy": "2024-10-07T09:50:00.138271Z",
     "iopub.status.idle": "2024-10-07T09:50:00.143975Z",
     "shell.execute_reply": "2024-10-07T09:50:00.142908Z"
    },
    "papermill": {
     "duration": 0.018736,
     "end_time": "2024-10-07T09:50:00.147092",
     "exception": false,
     "start_time": "2024-10-07T09:50:00.128356",
     "status": "completed"
    },
    "tags": []
   },
   "outputs": [],
   "source": [
    "param_grid = [{\"classifier__fit_intercept\":[True,False]}] "
   ]
  },
  {
   "cell_type": "code",
   "execution_count": 14,
   "id": "4ad9e8c3",
   "metadata": {
    "execution": {
     "iopub.execute_input": "2024-10-07T09:50:00.165916Z",
     "iopub.status.busy": "2024-10-07T09:50:00.165476Z",
     "iopub.status.idle": "2024-10-07T09:50:00.171380Z",
     "shell.execute_reply": "2024-10-07T09:50:00.170033Z"
    },
    "papermill": {
     "duration": 0.018262,
     "end_time": "2024-10-07T09:50:00.174147",
     "exception": false,
     "start_time": "2024-10-07T09:50:00.155885",
     "status": "completed"
    },
    "tags": []
   },
   "outputs": [],
   "source": [
    "grid_search = GridSearchCV(pipeline,param_grid,cv=3,scoring=\"r2\")"
   ]
  },
  {
   "cell_type": "code",
   "execution_count": 15,
   "id": "1ae0f2ad",
   "metadata": {
    "execution": {
     "iopub.execute_input": "2024-10-07T09:50:00.192640Z",
     "iopub.status.busy": "2024-10-07T09:50:00.192189Z",
     "iopub.status.idle": "2024-10-07T09:50:03.301546Z",
     "shell.execute_reply": "2024-10-07T09:50:03.300370Z"
    },
    "papermill": {
     "duration": 3.122226,
     "end_time": "2024-10-07T09:50:03.304786",
     "exception": false,
     "start_time": "2024-10-07T09:50:00.182560",
     "status": "completed"
    },
    "tags": []
   },
   "outputs": [
    {
     "data": {
      "text/html": [
       "<style>#sk-container-id-3 {color: black;background-color: white;}#sk-container-id-3 pre{padding: 0;}#sk-container-id-3 div.sk-toggleable {background-color: white;}#sk-container-id-3 label.sk-toggleable__label {cursor: pointer;display: block;width: 100%;margin-bottom: 0;padding: 0.3em;box-sizing: border-box;text-align: center;}#sk-container-id-3 label.sk-toggleable__label-arrow:before {content: \"▸\";float: left;margin-right: 0.25em;color: #696969;}#sk-container-id-3 label.sk-toggleable__label-arrow:hover:before {color: black;}#sk-container-id-3 div.sk-estimator:hover label.sk-toggleable__label-arrow:before {color: black;}#sk-container-id-3 div.sk-toggleable__content {max-height: 0;max-width: 0;overflow: hidden;text-align: left;background-color: #f0f8ff;}#sk-container-id-3 div.sk-toggleable__content pre {margin: 0.2em;color: black;border-radius: 0.25em;background-color: #f0f8ff;}#sk-container-id-3 input.sk-toggleable__control:checked~div.sk-toggleable__content {max-height: 200px;max-width: 100%;overflow: auto;}#sk-container-id-3 input.sk-toggleable__control:checked~label.sk-toggleable__label-arrow:before {content: \"▾\";}#sk-container-id-3 div.sk-estimator input.sk-toggleable__control:checked~label.sk-toggleable__label {background-color: #d4ebff;}#sk-container-id-3 div.sk-label input.sk-toggleable__control:checked~label.sk-toggleable__label {background-color: #d4ebff;}#sk-container-id-3 input.sk-hidden--visually {border: 0;clip: rect(1px 1px 1px 1px);clip: rect(1px, 1px, 1px, 1px);height: 1px;margin: -1px;overflow: hidden;padding: 0;position: absolute;width: 1px;}#sk-container-id-3 div.sk-estimator {font-family: monospace;background-color: #f0f8ff;border: 1px dotted black;border-radius: 0.25em;box-sizing: border-box;margin-bottom: 0.5em;}#sk-container-id-3 div.sk-estimator:hover {background-color: #d4ebff;}#sk-container-id-3 div.sk-parallel-item::after {content: \"\";width: 100%;border-bottom: 1px solid gray;flex-grow: 1;}#sk-container-id-3 div.sk-label:hover label.sk-toggleable__label {background-color: #d4ebff;}#sk-container-id-3 div.sk-serial::before {content: \"\";position: absolute;border-left: 1px solid gray;box-sizing: border-box;top: 0;bottom: 0;left: 50%;z-index: 0;}#sk-container-id-3 div.sk-serial {display: flex;flex-direction: column;align-items: center;background-color: white;padding-right: 0.2em;padding-left: 0.2em;position: relative;}#sk-container-id-3 div.sk-item {position: relative;z-index: 1;}#sk-container-id-3 div.sk-parallel {display: flex;align-items: stretch;justify-content: center;background-color: white;position: relative;}#sk-container-id-3 div.sk-item::before, #sk-container-id-3 div.sk-parallel-item::before {content: \"\";position: absolute;border-left: 1px solid gray;box-sizing: border-box;top: 0;bottom: 0;left: 50%;z-index: -1;}#sk-container-id-3 div.sk-parallel-item {display: flex;flex-direction: column;z-index: 1;position: relative;background-color: white;}#sk-container-id-3 div.sk-parallel-item:first-child::after {align-self: flex-end;width: 50%;}#sk-container-id-3 div.sk-parallel-item:last-child::after {align-self: flex-start;width: 50%;}#sk-container-id-3 div.sk-parallel-item:only-child::after {width: 0;}#sk-container-id-3 div.sk-dashed-wrapped {border: 1px dashed gray;margin: 0 0.4em 0.5em 0.4em;box-sizing: border-box;padding-bottom: 0.4em;background-color: white;}#sk-container-id-3 div.sk-label label {font-family: monospace;font-weight: bold;display: inline-block;line-height: 1.2em;}#sk-container-id-3 div.sk-label-container {text-align: center;}#sk-container-id-3 div.sk-container {/* jupyter's `normalize.less` sets `[hidden] { display: none; }` but bootstrap.min.css set `[hidden] { display: none !important; }` so we also need the `!important` here to be able to override the default hidden behavior on the sphinx rendered scikit-learn.org. See: https://github.com/scikit-learn/scikit-learn/issues/21755 */display: inline-block !important;position: relative;}#sk-container-id-3 div.sk-text-repr-fallback {display: none;}</style><div id=\"sk-container-id-3\" class=\"sk-top-container\"><div class=\"sk-text-repr-fallback\"><pre>GridSearchCV(cv=3,\n",
       "             estimator=Pipeline(steps=[(&#x27;classifier&#x27;, LinearRegression())]),\n",
       "             param_grid=[{&#x27;classifier__fit_intercept&#x27;: [True, False]}],\n",
       "             scoring=&#x27;r2&#x27;)</pre><b>In a Jupyter environment, please rerun this cell to show the HTML representation or trust the notebook. <br />On GitHub, the HTML representation is unable to render, please try loading this page with nbviewer.org.</b></div><div class=\"sk-container\" hidden><div class=\"sk-item sk-dashed-wrapped\"><div class=\"sk-label-container\"><div class=\"sk-label sk-toggleable\"><input class=\"sk-toggleable__control sk-hidden--visually\" id=\"sk-estimator-id-3\" type=\"checkbox\" ><label for=\"sk-estimator-id-3\" class=\"sk-toggleable__label sk-toggleable__label-arrow\">GridSearchCV</label><div class=\"sk-toggleable__content\"><pre>GridSearchCV(cv=3,\n",
       "             estimator=Pipeline(steps=[(&#x27;classifier&#x27;, LinearRegression())]),\n",
       "             param_grid=[{&#x27;classifier__fit_intercept&#x27;: [True, False]}],\n",
       "             scoring=&#x27;r2&#x27;)</pre></div></div></div><div class=\"sk-parallel\"><div class=\"sk-parallel-item\"><div class=\"sk-item\"><div class=\"sk-label-container\"><div class=\"sk-label sk-toggleable\"><input class=\"sk-toggleable__control sk-hidden--visually\" id=\"sk-estimator-id-4\" type=\"checkbox\" ><label for=\"sk-estimator-id-4\" class=\"sk-toggleable__label sk-toggleable__label-arrow\">estimator: Pipeline</label><div class=\"sk-toggleable__content\"><pre>Pipeline(steps=[(&#x27;classifier&#x27;, LinearRegression())])</pre></div></div></div><div class=\"sk-serial\"><div class=\"sk-item\"><div class=\"sk-serial\"><div class=\"sk-item\"><div class=\"sk-estimator sk-toggleable\"><input class=\"sk-toggleable__control sk-hidden--visually\" id=\"sk-estimator-id-5\" type=\"checkbox\" ><label for=\"sk-estimator-id-5\" class=\"sk-toggleable__label sk-toggleable__label-arrow\">LinearRegression</label><div class=\"sk-toggleable__content\"><pre>LinearRegression()</pre></div></div></div></div></div></div></div></div></div></div></div></div>"
      ],
      "text/plain": [
       "GridSearchCV(cv=3,\n",
       "             estimator=Pipeline(steps=[('classifier', LinearRegression())]),\n",
       "             param_grid=[{'classifier__fit_intercept': [True, False]}],\n",
       "             scoring='r2')"
      ]
     },
     "execution_count": 15,
     "metadata": {},
     "output_type": "execute_result"
    }
   ],
   "source": [
    "grid_search.fit(X_train_data,y_train_data)"
   ]
  },
  {
   "cell_type": "code",
   "execution_count": 16,
   "id": "fccce561",
   "metadata": {
    "execution": {
     "iopub.execute_input": "2024-10-07T09:50:03.333563Z",
     "iopub.status.busy": "2024-10-07T09:50:03.332911Z",
     "iopub.status.idle": "2024-10-07T09:50:03.340428Z",
     "shell.execute_reply": "2024-10-07T09:50:03.339336Z"
    },
    "papermill": {
     "duration": 0.027312,
     "end_time": "2024-10-07T09:50:03.346005",
     "exception": false,
     "start_time": "2024-10-07T09:50:03.318693",
     "status": "completed"
    },
    "tags": []
   },
   "outputs": [
    {
     "data": {
      "text/plain": [
       "{'classifier__fit_intercept': True}"
      ]
     },
     "execution_count": 16,
     "metadata": {},
     "output_type": "execute_result"
    }
   ],
   "source": [
    "grid_search.best_params_\n"
   ]
  },
  {
   "cell_type": "code",
   "execution_count": 17,
   "id": "9a828678",
   "metadata": {
    "execution": {
     "iopub.execute_input": "2024-10-07T09:50:03.367326Z",
     "iopub.status.busy": "2024-10-07T09:50:03.366616Z",
     "iopub.status.idle": "2024-10-07T09:50:03.392170Z",
     "shell.execute_reply": "2024-10-07T09:50:03.390979Z"
    },
    "papermill": {
     "duration": 0.037988,
     "end_time": "2024-10-07T09:50:03.394606",
     "exception": false,
     "start_time": "2024-10-07T09:50:03.356618",
     "status": "completed"
    },
    "tags": []
   },
   "outputs": [
    {
     "data": {
      "text/html": [
       "<div>\n",
       "<style scoped>\n",
       "    .dataframe tbody tr th:only-of-type {\n",
       "        vertical-align: middle;\n",
       "    }\n",
       "\n",
       "    .dataframe tbody tr th {\n",
       "        vertical-align: top;\n",
       "    }\n",
       "\n",
       "    .dataframe thead th {\n",
       "        text-align: right;\n",
       "    }\n",
       "</style>\n",
       "<table border=\"1\" class=\"dataframe\">\n",
       "  <thead>\n",
       "    <tr style=\"text-align: right;\">\n",
       "      <th></th>\n",
       "      <th>mean_fit_time</th>\n",
       "      <th>std_fit_time</th>\n",
       "      <th>mean_score_time</th>\n",
       "      <th>std_score_time</th>\n",
       "      <th>param_classifier__fit_intercept</th>\n",
       "      <th>params</th>\n",
       "      <th>split0_test_score</th>\n",
       "      <th>split1_test_score</th>\n",
       "      <th>split2_test_score</th>\n",
       "      <th>mean_test_score</th>\n",
       "      <th>std_test_score</th>\n",
       "      <th>rank_test_score</th>\n",
       "    </tr>\n",
       "  </thead>\n",
       "  <tbody>\n",
       "    <tr>\n",
       "      <th>0</th>\n",
       "      <td>0.440716</td>\n",
       "      <td>0.048726</td>\n",
       "      <td>0.029364</td>\n",
       "      <td>0.001615</td>\n",
       "      <td>True</td>\n",
       "      <td>{'classifier__fit_intercept': True}</td>\n",
       "      <td>-809.375350</td>\n",
       "      <td>-64.671272</td>\n",
       "      <td>-214.583908</td>\n",
       "      <td>-362.876843</td>\n",
       "      <td>321.599271</td>\n",
       "      <td>1</td>\n",
       "    </tr>\n",
       "    <tr>\n",
       "      <th>1</th>\n",
       "      <td>0.369023</td>\n",
       "      <td>0.003173</td>\n",
       "      <td>0.028545</td>\n",
       "      <td>0.000651</td>\n",
       "      <td>False</td>\n",
       "      <td>{'classifier__fit_intercept': False}</td>\n",
       "      <td>-801.401354</td>\n",
       "      <td>-64.673146</td>\n",
       "      <td>-228.249080</td>\n",
       "      <td>-364.774527</td>\n",
       "      <td>315.881319</td>\n",
       "      <td>2</td>\n",
       "    </tr>\n",
       "  </tbody>\n",
       "</table>\n",
       "</div>"
      ],
      "text/plain": [
       "   mean_fit_time  std_fit_time  mean_score_time  std_score_time  \\\n",
       "0       0.440716      0.048726         0.029364        0.001615   \n",
       "1       0.369023      0.003173         0.028545        0.000651   \n",
       "\n",
       "  param_classifier__fit_intercept                                params  \\\n",
       "0                            True   {'classifier__fit_intercept': True}   \n",
       "1                           False  {'classifier__fit_intercept': False}   \n",
       "\n",
       "   split0_test_score  split1_test_score  split2_test_score  mean_test_score  \\\n",
       "0        -809.375350         -64.671272        -214.583908      -362.876843   \n",
       "1        -801.401354         -64.673146        -228.249080      -364.774527   \n",
       "\n",
       "   std_test_score  rank_test_score  \n",
       "0      321.599271                1  \n",
       "1      315.881319                2  "
      ]
     },
     "execution_count": 17,
     "metadata": {},
     "output_type": "execute_result"
    }
   ],
   "source": [
    "cv_res = pd.DataFrame(grid_search.cv_results_)\n",
    "cv_res.sort_values(by=\"mean_test_score\", ascending=False, inplace=True)\n",
    "cv_res.head()"
   ]
  },
  {
   "cell_type": "markdown",
   "id": "5b9f7ecd",
   "metadata": {
    "papermill": {
     "duration": 0.008635,
     "end_time": "2024-10-07T09:50:03.412232",
     "exception": false,
     "start_time": "2024-10-07T09:50:03.403597",
     "status": "completed"
    },
    "tags": []
   },
   "source": [
    "**Prediction :**"
   ]
  },
  {
   "cell_type": "code",
   "execution_count": 18,
   "id": "1fe4eb3e",
   "metadata": {
    "execution": {
     "iopub.execute_input": "2024-10-07T09:50:03.432708Z",
     "iopub.status.busy": "2024-10-07T09:50:03.431744Z",
     "iopub.status.idle": "2024-10-07T09:50:03.463718Z",
     "shell.execute_reply": "2024-10-07T09:50:03.462152Z"
    },
    "papermill": {
     "duration": 0.046306,
     "end_time": "2024-10-07T09:50:03.467782",
     "exception": false,
     "start_time": "2024-10-07T09:50:03.421476",
     "status": "completed"
    },
    "tags": []
   },
   "outputs": [],
   "source": [
    "final_evaluation = grid_search.predict(test_data)"
   ]
  },
  {
   "cell_type": "code",
   "execution_count": 19,
   "id": "a0bed7ac",
   "metadata": {
    "execution": {
     "iopub.execute_input": "2024-10-07T09:50:03.506702Z",
     "iopub.status.busy": "2024-10-07T09:50:03.506003Z",
     "iopub.status.idle": "2024-10-07T09:50:03.527111Z",
     "shell.execute_reply": "2024-10-07T09:50:03.525909Z"
    },
    "papermill": {
     "duration": 0.045004,
     "end_time": "2024-10-07T09:50:03.530928",
     "exception": false,
     "start_time": "2024-10-07T09:50:03.485924",
     "status": "completed"
    },
    "tags": []
   },
   "outputs": [
    {
     "data": {
      "text/html": [
       "<div>\n",
       "<style scoped>\n",
       "    .dataframe tbody tr th:only-of-type {\n",
       "        vertical-align: middle;\n",
       "    }\n",
       "\n",
       "    .dataframe tbody tr th {\n",
       "        vertical-align: top;\n",
       "    }\n",
       "\n",
       "    .dataframe thead th {\n",
       "        text-align: right;\n",
       "    }\n",
       "</style>\n",
       "<table border=\"1\" class=\"dataframe\">\n",
       "  <thead>\n",
       "    <tr style=\"text-align: right;\">\n",
       "      <th></th>\n",
       "      <th>Id</th>\n",
       "      <th>SalePrice</th>\n",
       "    </tr>\n",
       "  </thead>\n",
       "  <tbody>\n",
       "    <tr>\n",
       "      <th>0</th>\n",
       "      <td>1461</td>\n",
       "      <td>53717.955541</td>\n",
       "    </tr>\n",
       "    <tr>\n",
       "      <th>1</th>\n",
       "      <td>1462</td>\n",
       "      <td>149892.954930</td>\n",
       "    </tr>\n",
       "    <tr>\n",
       "      <th>2</th>\n",
       "      <td>1463</td>\n",
       "      <td>166442.511907</td>\n",
       "    </tr>\n",
       "    <tr>\n",
       "      <th>3</th>\n",
       "      <td>1464</td>\n",
       "      <td>181066.556205</td>\n",
       "    </tr>\n",
       "    <tr>\n",
       "      <th>4</th>\n",
       "      <td>1465</td>\n",
       "      <td>198314.350869</td>\n",
       "    </tr>\n",
       "    <tr>\n",
       "      <th>...</th>\n",
       "      <td>...</td>\n",
       "      <td>...</td>\n",
       "    </tr>\n",
       "    <tr>\n",
       "      <th>1454</th>\n",
       "      <td>2915</td>\n",
       "      <td>102401.533737</td>\n",
       "    </tr>\n",
       "    <tr>\n",
       "      <th>1455</th>\n",
       "      <td>2916</td>\n",
       "      <td>75187.430590</td>\n",
       "    </tr>\n",
       "    <tr>\n",
       "      <th>1456</th>\n",
       "      <td>2917</td>\n",
       "      <td>219738.024901</td>\n",
       "    </tr>\n",
       "    <tr>\n",
       "      <th>1457</th>\n",
       "      <td>2918</td>\n",
       "      <td>200454.133040</td>\n",
       "    </tr>\n",
       "    <tr>\n",
       "      <th>1458</th>\n",
       "      <td>2919</td>\n",
       "      <td>285691.988971</td>\n",
       "    </tr>\n",
       "  </tbody>\n",
       "</table>\n",
       "<p>1459 rows × 2 columns</p>\n",
       "</div>"
      ],
      "text/plain": [
       "        Id      SalePrice\n",
       "0     1461   53717.955541\n",
       "1     1462  149892.954930\n",
       "2     1463  166442.511907\n",
       "3     1464  181066.556205\n",
       "4     1465  198314.350869\n",
       "...    ...            ...\n",
       "1454  2915  102401.533737\n",
       "1455  2916   75187.430590\n",
       "1456  2917  219738.024901\n",
       "1457  2918  200454.133040\n",
       "1458  2919  285691.988971\n",
       "\n",
       "[1459 rows x 2 columns]"
      ]
     },
     "execution_count": 19,
     "metadata": {},
     "output_type": "execute_result"
    }
   ],
   "source": [
    "d = {'Id':np.arange(len(final_evaluation)) + 1461,'SalePrice':final_evaluation}\n",
    "df = pd.DataFrame(data=d)\n",
    "df"
   ]
  },
  {
   "cell_type": "code",
   "execution_count": 20,
   "id": "cf4bccb0",
   "metadata": {
    "execution": {
     "iopub.execute_input": "2024-10-07T09:50:03.571144Z",
     "iopub.status.busy": "2024-10-07T09:50:03.570442Z",
     "iopub.status.idle": "2024-10-07T09:50:03.587015Z",
     "shell.execute_reply": "2024-10-07T09:50:03.585490Z"
    },
    "papermill": {
     "duration": 0.040219,
     "end_time": "2024-10-07T09:50:03.589969",
     "exception": false,
     "start_time": "2024-10-07T09:50:03.549750",
     "status": "completed"
    },
    "tags": []
   },
   "outputs": [],
   "source": [
    "df.to_csv('out.csv',index=False)"
   ]
  }
 ],
 "metadata": {
  "kaggle": {
   "accelerator": "none",
   "dataSources": [
    {
     "databundleVersionId": 868283,
     "sourceId": 5407,
     "sourceType": "competition"
    }
   ],
   "dockerImageVersionId": 30786,
   "isGpuEnabled": false,
   "isInternetEnabled": false,
   "language": "python",
   "sourceType": "notebook"
  },
  "kernelspec": {
   "display_name": "Python 3",
   "language": "python",
   "name": "python3"
  },
  "language_info": {
   "codemirror_mode": {
    "name": "ipython",
    "version": 3
   },
   "file_extension": ".py",
   "mimetype": "text/x-python",
   "name": "python",
   "nbconvert_exporter": "python",
   "pygments_lexer": "ipython3",
   "version": "3.10.14"
  },
  "papermill": {
   "default_parameters": {},
   "duration": 12.359432,
   "end_time": "2024-10-07T09:50:04.220653",
   "environment_variables": {},
   "exception": null,
   "input_path": "__notebook__.ipynb",
   "output_path": "__notebook__.ipynb",
   "parameters": {},
   "start_time": "2024-10-07T09:49:51.861221",
   "version": "2.6.0"
  }
 },
 "nbformat": 4,
 "nbformat_minor": 5
}

{
 "cells": [
  {
   "cell_type": "code",
   "execution_count": 1,
   "id": "6de53089",
   "metadata": {
    "execution": {
     "iopub.execute_input": "2024-10-07T09:28:17.753649Z",
     "iopub.status.busy": "2024-10-07T09:28:17.752454Z",
     "iopub.status.idle": "2024-10-07T09:28:21.294097Z",
     "shell.execute_reply": "2024-10-07T09:28:21.292819Z"
    },
    "papermill": {
     "duration": 3.557668,
     "end_time": "2024-10-07T09:28:21.297235",
     "exception": false,
     "start_time": "2024-10-07T09:28:17.739567",
     "status": "completed"
    },
    "tags": []
   },
   "outputs": [],
   "source": [
    "import numpy as np\n",
    "import pandas as pd\n",
    "import os\n",
    "from pathlib import Path\n",
    "import matplotlib as plt\n",
    "from sklearn.neighbors import KNeighborsClassifier\n",
    "from sklearn.model_selection import cross_val_score\n",
    "from sklearn.model_selection import cross_val_predict\n",
    "from sklearn.metrics import ConfusionMatrixDisplay\n",
    "from sklearn.pipeline import Pipeline\n",
    "from sklearn.model_selection import GridSearchCV\n",
    "from scipy.ndimage import shift\n",
    "from IPython.display import clear_output\n",
    "from sklearn.impute import SimpleImputer\n",
    "from sklearn.preprocessing import OneHotEncoder\n",
    "from sklearn.tree import DecisionTreeClassifier\n",
    "from sklearn.ensemble import RandomForestClassifier\n",
    "from sklearn.preprocessing import OrdinalEncoder\n",
    "import seaborn\n",
    "from sklearn.preprocessing import StandardScaler\n",
    "from sklearn.svm import SVC\n",
    "from sklearn.svm import SVR\n",
    "from sklearn.svm import LinearSVR\n",
    "from sklearn.linear_model import LinearRegression\n",
    "from sklearn.ensemble import RandomForestRegressor\n",
    "from sklearn.preprocessing import PolynomialFeatures"
   ]
  },
  {
   "cell_type": "code",
   "execution_count": 2,
   "id": "50344226",
   "metadata": {
    "execution": {
     "iopub.execute_input": "2024-10-07T09:28:21.319599Z",
     "iopub.status.busy": "2024-10-07T09:28:21.318972Z",
     "iopub.status.idle": "2024-10-07T09:28:21.329314Z",
     "shell.execute_reply": "2024-10-07T09:28:21.327846Z"
    },
    "papermill": {
     "duration": 0.024252,
     "end_time": "2024-10-07T09:28:21.331981",
     "exception": false,
     "start_time": "2024-10-07T09:28:21.307729",
     "status": "completed"
    },
    "tags": []
   },
   "outputs": [
    {
     "name": "stdout",
     "output_type": "stream",
     "text": [
      "/kaggle/input/house-prices-advanced-regression-techniques/sample_submission.csv\n",
      "/kaggle/input/house-prices-advanced-regression-techniques/data_description.txt\n",
      "/kaggle/input/house-prices-advanced-regression-techniques/train.csv\n",
      "/kaggle/input/house-prices-advanced-regression-techniques/test.csv\n"
     ]
    }
   ],
   "source": [
    "import os\n",
    "for dirname, _, filenames in os.walk('/kaggle/input'):\n",
    "    for filename in filenames:\n",
    "        print(os.path.join(dirname, filename))"
   ]
  },
  {
   "cell_type": "code",
   "execution_count": 3,
   "id": "a54313bd",
   "metadata": {
    "execution": {
     "iopub.execute_input": "2024-10-07T09:28:21.354329Z",
     "iopub.status.busy": "2024-10-07T09:28:21.353881Z",
     "iopub.status.idle": "2024-10-07T09:28:21.452935Z",
     "shell.execute_reply": "2024-10-07T09:28:21.451799Z"
    },
    "papermill": {
     "duration": 0.11321,
     "end_time": "2024-10-07T09:28:21.455625",
     "exception": false,
     "start_time": "2024-10-07T09:28:21.342415",
     "status": "completed"
    },
    "tags": []
   },
   "outputs": [],
   "source": [
    "train_data = pd.read_csv(Path(\"/kaggle/input/house-prices-advanced-regression-techniques/train.csv\"))\n",
    "test_data = pd.read_csv(Path(\"/kaggle/input/house-prices-advanced-regression-techniques/test.csv\"))\n",
    "sample_submission = pd.read_csv(Path(\"/kaggle/input/house-prices-advanced-regression-techniques/sample_submission.csv\"))\n",
    "train_data = train_data.drop(\"Id\",axis=1)\n",
    "test_data = test_data.drop(\"Id\",axis=1)"
   ]
  },
  {
   "cell_type": "code",
   "execution_count": 4,
   "id": "5b2f85b2",
   "metadata": {
    "execution": {
     "iopub.execute_input": "2024-10-07T09:28:21.477736Z",
     "iopub.status.busy": "2024-10-07T09:28:21.477297Z",
     "iopub.status.idle": "2024-10-07T09:28:21.484559Z",
     "shell.execute_reply": "2024-10-07T09:28:21.483449Z"
    },
    "papermill": {
     "duration": 0.021097,
     "end_time": "2024-10-07T09:28:21.486940",
     "exception": false,
     "start_time": "2024-10-07T09:28:21.465843",
     "status": "completed"
    },
    "tags": []
   },
   "outputs": [],
   "source": [
    "X_train_data = train_data.drop(\"SalePrice\",axis=1)\n",
    "y_train_data = train_data[\"SalePrice\"]"
   ]
  },
  {
   "cell_type": "code",
   "execution_count": 5,
   "id": "39654f4d",
   "metadata": {
    "execution": {
     "iopub.execute_input": "2024-10-07T09:28:21.510490Z",
     "iopub.status.busy": "2024-10-07T09:28:21.510075Z",
     "iopub.status.idle": "2024-10-07T09:28:21.549002Z",
     "shell.execute_reply": "2024-10-07T09:28:21.547807Z"
    },
    "papermill": {
     "duration": 0.054489,
     "end_time": "2024-10-07T09:28:21.552497",
     "exception": false,
     "start_time": "2024-10-07T09:28:21.498008",
     "status": "completed"
    },
    "tags": []
   },
   "outputs": [
    {
     "name": "stdout",
     "output_type": "stream",
     "text": [
      "<class 'pandas.core.frame.DataFrame'>\n",
      "RangeIndex: 1460 entries, 0 to 1459\n",
      "Data columns (total 79 columns):\n",
      " #   Column         Non-Null Count  Dtype  \n",
      "---  ------         --------------  -----  \n",
      " 0   MSSubClass     1460 non-null   int64  \n",
      " 1   MSZoning       1460 non-null   object \n",
      " 2   LotFrontage    1201 non-null   float64\n",
      " 3   LotArea        1460 non-null   int64  \n",
      " 4   Street         1460 non-null   object \n",
      " 5   Alley          91 non-null     object \n",
      " 6   LotShape       1460 non-null   object \n",
      " 7   LandContour    1460 non-null   object \n",
      " 8   Utilities      1460 non-null   object \n",
      " 9   LotConfig      1460 non-null   object \n",
      " 10  LandSlope      1460 non-null   object \n",
      " 11  Neighborhood   1460 non-null   object \n",
      " 12  Condition1     1460 non-null   object \n",
      " 13  Condition2     1460 non-null   object \n",
      " 14  BldgType       1460 non-null   object \n",
      " 15  HouseStyle     1460 non-null   object \n",
      " 16  OverallQual    1460 non-null   int64  \n",
      " 17  OverallCond    1460 non-null   int64  \n",
      " 18  YearBuilt      1460 non-null   int64  \n",
      " 19  YearRemodAdd   1460 non-null   int64  \n",
      " 20  RoofStyle      1460 non-null   object \n",
      " 21  RoofMatl       1460 non-null   object \n",
      " 22  Exterior1st    1460 non-null   object \n",
      " 23  Exterior2nd    1460 non-null   object \n",
      " 24  MasVnrType     588 non-null    object \n",
      " 25  MasVnrArea     1452 non-null   float64\n",
      " 26  ExterQual      1460 non-null   object \n",
      " 27  ExterCond      1460 non-null   object \n",
      " 28  Foundation     1460 non-null   object \n",
      " 29  BsmtQual       1423 non-null   object \n",
      " 30  BsmtCond       1423 non-null   object \n",
      " 31  BsmtExposure   1422 non-null   object \n",
      " 32  BsmtFinType1   1423 non-null   object \n",
      " 33  BsmtFinSF1     1460 non-null   int64  \n",
      " 34  BsmtFinType2   1422 non-null   object \n",
      " 35  BsmtFinSF2     1460 non-null   int64  \n",
      " 36  BsmtUnfSF      1460 non-null   int64  \n",
      " 37  TotalBsmtSF    1460 non-null   int64  \n",
      " 38  Heating        1460 non-null   object \n",
      " 39  HeatingQC      1460 non-null   object \n",
      " 40  CentralAir     1460 non-null   object \n",
      " 41  Electrical     1459 non-null   object \n",
      " 42  1stFlrSF       1460 non-null   int64  \n",
      " 43  2ndFlrSF       1460 non-null   int64  \n",
      " 44  LowQualFinSF   1460 non-null   int64  \n",
      " 45  GrLivArea      1460 non-null   int64  \n",
      " 46  BsmtFullBath   1460 non-null   int64  \n",
      " 47  BsmtHalfBath   1460 non-null   int64  \n",
      " 48  FullBath       1460 non-null   int64  \n",
      " 49  HalfBath       1460 non-null   int64  \n",
      " 50  BedroomAbvGr   1460 non-null   int64  \n",
      " 51  KitchenAbvGr   1460 non-null   int64  \n",
      " 52  KitchenQual    1460 non-null   object \n",
      " 53  TotRmsAbvGrd   1460 non-null   int64  \n",
      " 54  Functional     1460 non-null   object \n",
      " 55  Fireplaces     1460 non-null   int64  \n",
      " 56  FireplaceQu    770 non-null    object \n",
      " 57  GarageType     1379 non-null   object \n",
      " 58  GarageYrBlt    1379 non-null   float64\n",
      " 59  GarageFinish   1379 non-null   object \n",
      " 60  GarageCars     1460 non-null   int64  \n",
      " 61  GarageArea     1460 non-null   int64  \n",
      " 62  GarageQual     1379 non-null   object \n",
      " 63  GarageCond     1379 non-null   object \n",
      " 64  PavedDrive     1460 non-null   object \n",
      " 65  WoodDeckSF     1460 non-null   int64  \n",
      " 66  OpenPorchSF    1460 non-null   int64  \n",
      " 67  EnclosedPorch  1460 non-null   int64  \n",
      " 68  3SsnPorch      1460 non-null   int64  \n",
      " 69  ScreenPorch    1460 non-null   int64  \n",
      " 70  PoolArea       1460 non-null   int64  \n",
      " 71  PoolQC         7 non-null      object \n",
      " 72  Fence          281 non-null    object \n",
      " 73  MiscFeature    54 non-null     object \n",
      " 74  MiscVal        1460 non-null   int64  \n",
      " 75  MoSold         1460 non-null   int64  \n",
      " 76  YrSold         1460 non-null   int64  \n",
      " 77  SaleType       1460 non-null   object \n",
      " 78  SaleCondition  1460 non-null   object \n",
      "dtypes: float64(3), int64(33), object(43)\n",
      "memory usage: 901.2+ KB\n"
     ]
    }
   ],
   "source": [
    "X_train_data.info()"
   ]
  },
  {
   "cell_type": "code",
   "execution_count": 6,
   "id": "e633bfad",
   "metadata": {
    "execution": {
     "iopub.execute_input": "2024-10-07T09:28:21.575591Z",
     "iopub.status.busy": "2024-10-07T09:28:21.574522Z",
     "iopub.status.idle": "2024-10-07T09:28:21.598957Z",
     "shell.execute_reply": "2024-10-07T09:28:21.597701Z"
    },
    "papermill": {
     "duration": 0.038701,
     "end_time": "2024-10-07T09:28:21.601655",
     "exception": false,
     "start_time": "2024-10-07T09:28:21.562954",
     "status": "completed"
    },
    "tags": []
   },
   "outputs": [
    {
     "name": "stdout",
     "output_type": "stream",
     "text": [
      "<class 'pandas.core.frame.DataFrame'>\n",
      "RangeIndex: 1459 entries, 0 to 1458\n",
      "Data columns (total 79 columns):\n",
      " #   Column         Non-Null Count  Dtype  \n",
      "---  ------         --------------  -----  \n",
      " 0   MSSubClass     1459 non-null   int64  \n",
      " 1   MSZoning       1455 non-null   object \n",
      " 2   LotFrontage    1232 non-null   float64\n",
      " 3   LotArea        1459 non-null   int64  \n",
      " 4   Street         1459 non-null   object \n",
      " 5   Alley          107 non-null    object \n",
      " 6   LotShape       1459 non-null   object \n",
      " 7   LandContour    1459 non-null   object \n",
      " 8   Utilities      1457 non-null   object \n",
      " 9   LotConfig      1459 non-null   object \n",
      " 10  LandSlope      1459 non-null   object \n",
      " 11  Neighborhood   1459 non-null   object \n",
      " 12  Condition1     1459 non-null   object \n",
      " 13  Condition2     1459 non-null   object \n",
      " 14  BldgType       1459 non-null   object \n",
      " 15  HouseStyle     1459 non-null   object \n",
      " 16  OverallQual    1459 non-null   int64  \n",
      " 17  OverallCond    1459 non-null   int64  \n",
      " 18  YearBuilt      1459 non-null   int64  \n",
      " 19  YearRemodAdd   1459 non-null   int64  \n",
      " 20  RoofStyle      1459 non-null   object \n",
      " 21  RoofMatl       1459 non-null   object \n",
      " 22  Exterior1st    1458 non-null   object \n",
      " 23  Exterior2nd    1458 non-null   object \n",
      " 24  MasVnrType     565 non-null    object \n",
      " 25  MasVnrArea     1444 non-null   float64\n",
      " 26  ExterQual      1459 non-null   object \n",
      " 27  ExterCond      1459 non-null   object \n",
      " 28  Foundation     1459 non-null   object \n",
      " 29  BsmtQual       1415 non-null   object \n",
      " 30  BsmtCond       1414 non-null   object \n",
      " 31  BsmtExposure   1415 non-null   object \n",
      " 32  BsmtFinType1   1417 non-null   object \n",
      " 33  BsmtFinSF1     1458 non-null   float64\n",
      " 34  BsmtFinType2   1417 non-null   object \n",
      " 35  BsmtFinSF2     1458 non-null   float64\n",
      " 36  BsmtUnfSF      1458 non-null   float64\n",
      " 37  TotalBsmtSF    1458 non-null   float64\n",
      " 38  Heating        1459 non-null   object \n",
      " 39  HeatingQC      1459 non-null   object \n",
      " 40  CentralAir     1459 non-null   object \n",
      " 41  Electrical     1459 non-null   object \n",
      " 42  1stFlrSF       1459 non-null   int64  \n",
      " 43  2ndFlrSF       1459 non-null   int64  \n",
      " 44  LowQualFinSF   1459 non-null   int64  \n",
      " 45  GrLivArea      1459 non-null   int64  \n",
      " 46  BsmtFullBath   1457 non-null   float64\n",
      " 47  BsmtHalfBath   1457 non-null   float64\n",
      " 48  FullBath       1459 non-null   int64  \n",
      " 49  HalfBath       1459 non-null   int64  \n",
      " 50  BedroomAbvGr   1459 non-null   int64  \n",
      " 51  KitchenAbvGr   1459 non-null   int64  \n",
      " 52  KitchenQual    1458 non-null   object \n",
      " 53  TotRmsAbvGrd   1459 non-null   int64  \n",
      " 54  Functional     1457 non-null   object \n",
      " 55  Fireplaces     1459 non-null   int64  \n",
      " 56  FireplaceQu    729 non-null    object \n",
      " 57  GarageType     1383 non-null   object \n",
      " 58  GarageYrBlt    1381 non-null   float64\n",
      " 59  GarageFinish   1381 non-null   object \n",
      " 60  GarageCars     1458 non-null   float64\n",
      " 61  GarageArea     1458 non-null   float64\n",
      " 62  GarageQual     1381 non-null   object \n",
      " 63  GarageCond     1381 non-null   object \n",
      " 64  PavedDrive     1459 non-null   object \n",
      " 65  WoodDeckSF     1459 non-null   int64  \n",
      " 66  OpenPorchSF    1459 non-null   int64  \n",
      " 67  EnclosedPorch  1459 non-null   int64  \n",
      " 68  3SsnPorch      1459 non-null   int64  \n",
      " 69  ScreenPorch    1459 non-null   int64  \n",
      " 70  PoolArea       1459 non-null   int64  \n",
      " 71  PoolQC         3 non-null      object \n",
      " 72  Fence          290 non-null    object \n",
      " 73  MiscFeature    51 non-null     object \n",
      " 74  MiscVal        1459 non-null   int64  \n",
      " 75  MoSold         1459 non-null   int64  \n",
      " 76  YrSold         1459 non-null   int64  \n",
      " 77  SaleType       1458 non-null   object \n",
      " 78  SaleCondition  1459 non-null   object \n",
      "dtypes: float64(11), int64(25), object(43)\n",
      "memory usage: 900.6+ KB\n"
     ]
    }
   ],
   "source": [
    "test_data.info()"
   ]
  },
  {
   "cell_type": "code",
   "execution_count": 7,
   "id": "2d92606b",
   "metadata": {
    "execution": {
     "iopub.execute_input": "2024-10-07T09:28:21.624589Z",
     "iopub.status.busy": "2024-10-07T09:28:21.624076Z",
     "iopub.status.idle": "2024-10-07T09:28:21.655700Z",
     "shell.execute_reply": "2024-10-07T09:28:21.654549Z"
    },
    "papermill": {
     "duration": 0.045876,
     "end_time": "2024-10-07T09:28:21.658187",
     "exception": false,
     "start_time": "2024-10-07T09:28:21.612311",
     "status": "completed"
    },
    "tags": []
   },
   "outputs": [
    {
     "data": {
      "text/html": [
       "<div>\n",
       "<style scoped>\n",
       "    .dataframe tbody tr th:only-of-type {\n",
       "        vertical-align: middle;\n",
       "    }\n",
       "\n",
       "    .dataframe tbody tr th {\n",
       "        vertical-align: top;\n",
       "    }\n",
       "\n",
       "    .dataframe thead th {\n",
       "        text-align: right;\n",
       "    }\n",
       "</style>\n",
       "<table border=\"1\" class=\"dataframe\">\n",
       "  <thead>\n",
       "    <tr style=\"text-align: right;\">\n",
       "      <th></th>\n",
       "      <th>MSSubClass</th>\n",
       "      <th>MSZoning</th>\n",
       "      <th>LotFrontage</th>\n",
       "      <th>LotArea</th>\n",
       "      <th>Street</th>\n",
       "      <th>Alley</th>\n",
       "      <th>LotShape</th>\n",
       "      <th>LandContour</th>\n",
       "      <th>Utilities</th>\n",
       "      <th>LotConfig</th>\n",
       "      <th>...</th>\n",
       "      <th>ScreenPorch</th>\n",
       "      <th>PoolArea</th>\n",
       "      <th>PoolQC</th>\n",
       "      <th>Fence</th>\n",
       "      <th>MiscFeature</th>\n",
       "      <th>MiscVal</th>\n",
       "      <th>MoSold</th>\n",
       "      <th>YrSold</th>\n",
       "      <th>SaleType</th>\n",
       "      <th>SaleCondition</th>\n",
       "    </tr>\n",
       "  </thead>\n",
       "  <tbody>\n",
       "    <tr>\n",
       "      <th>0</th>\n",
       "      <td>60</td>\n",
       "      <td>RL</td>\n",
       "      <td>65.0</td>\n",
       "      <td>8450</td>\n",
       "      <td>Pave</td>\n",
       "      <td>NaN</td>\n",
       "      <td>Reg</td>\n",
       "      <td>Lvl</td>\n",
       "      <td>AllPub</td>\n",
       "      <td>Inside</td>\n",
       "      <td>...</td>\n",
       "      <td>0</td>\n",
       "      <td>0</td>\n",
       "      <td>NaN</td>\n",
       "      <td>NaN</td>\n",
       "      <td>NaN</td>\n",
       "      <td>0</td>\n",
       "      <td>2</td>\n",
       "      <td>2008</td>\n",
       "      <td>WD</td>\n",
       "      <td>Normal</td>\n",
       "    </tr>\n",
       "    <tr>\n",
       "      <th>1</th>\n",
       "      <td>20</td>\n",
       "      <td>RL</td>\n",
       "      <td>80.0</td>\n",
       "      <td>9600</td>\n",
       "      <td>Pave</td>\n",
       "      <td>NaN</td>\n",
       "      <td>Reg</td>\n",
       "      <td>Lvl</td>\n",
       "      <td>AllPub</td>\n",
       "      <td>FR2</td>\n",
       "      <td>...</td>\n",
       "      <td>0</td>\n",
       "      <td>0</td>\n",
       "      <td>NaN</td>\n",
       "      <td>NaN</td>\n",
       "      <td>NaN</td>\n",
       "      <td>0</td>\n",
       "      <td>5</td>\n",
       "      <td>2007</td>\n",
       "      <td>WD</td>\n",
       "      <td>Normal</td>\n",
       "    </tr>\n",
       "    <tr>\n",
       "      <th>2</th>\n",
       "      <td>60</td>\n",
       "      <td>RL</td>\n",
       "      <td>68.0</td>\n",
       "      <td>11250</td>\n",
       "      <td>Pave</td>\n",
       "      <td>NaN</td>\n",
       "      <td>IR1</td>\n",
       "      <td>Lvl</td>\n",
       "      <td>AllPub</td>\n",
       "      <td>Inside</td>\n",
       "      <td>...</td>\n",
       "      <td>0</td>\n",
       "      <td>0</td>\n",
       "      <td>NaN</td>\n",
       "      <td>NaN</td>\n",
       "      <td>NaN</td>\n",
       "      <td>0</td>\n",
       "      <td>9</td>\n",
       "      <td>2008</td>\n",
       "      <td>WD</td>\n",
       "      <td>Normal</td>\n",
       "    </tr>\n",
       "    <tr>\n",
       "      <th>3</th>\n",
       "      <td>70</td>\n",
       "      <td>RL</td>\n",
       "      <td>60.0</td>\n",
       "      <td>9550</td>\n",
       "      <td>Pave</td>\n",
       "      <td>NaN</td>\n",
       "      <td>IR1</td>\n",
       "      <td>Lvl</td>\n",
       "      <td>AllPub</td>\n",
       "      <td>Corner</td>\n",
       "      <td>...</td>\n",
       "      <td>0</td>\n",
       "      <td>0</td>\n",
       "      <td>NaN</td>\n",
       "      <td>NaN</td>\n",
       "      <td>NaN</td>\n",
       "      <td>0</td>\n",
       "      <td>2</td>\n",
       "      <td>2006</td>\n",
       "      <td>WD</td>\n",
       "      <td>Abnorml</td>\n",
       "    </tr>\n",
       "    <tr>\n",
       "      <th>4</th>\n",
       "      <td>60</td>\n",
       "      <td>RL</td>\n",
       "      <td>84.0</td>\n",
       "      <td>14260</td>\n",
       "      <td>Pave</td>\n",
       "      <td>NaN</td>\n",
       "      <td>IR1</td>\n",
       "      <td>Lvl</td>\n",
       "      <td>AllPub</td>\n",
       "      <td>FR2</td>\n",
       "      <td>...</td>\n",
       "      <td>0</td>\n",
       "      <td>0</td>\n",
       "      <td>NaN</td>\n",
       "      <td>NaN</td>\n",
       "      <td>NaN</td>\n",
       "      <td>0</td>\n",
       "      <td>12</td>\n",
       "      <td>2008</td>\n",
       "      <td>WD</td>\n",
       "      <td>Normal</td>\n",
       "    </tr>\n",
       "  </tbody>\n",
       "</table>\n",
       "<p>5 rows × 79 columns</p>\n",
       "</div>"
      ],
      "text/plain": [
       "   MSSubClass MSZoning  LotFrontage  LotArea Street Alley LotShape  \\\n",
       "0          60       RL         65.0     8450   Pave   NaN      Reg   \n",
       "1          20       RL         80.0     9600   Pave   NaN      Reg   \n",
       "2          60       RL         68.0    11250   Pave   NaN      IR1   \n",
       "3          70       RL         60.0     9550   Pave   NaN      IR1   \n",
       "4          60       RL         84.0    14260   Pave   NaN      IR1   \n",
       "\n",
       "  LandContour Utilities LotConfig  ... ScreenPorch PoolArea PoolQC Fence  \\\n",
       "0         Lvl    AllPub    Inside  ...           0        0    NaN   NaN   \n",
       "1         Lvl    AllPub       FR2  ...           0        0    NaN   NaN   \n",
       "2         Lvl    AllPub    Inside  ...           0        0    NaN   NaN   \n",
       "3         Lvl    AllPub    Corner  ...           0        0    NaN   NaN   \n",
       "4         Lvl    AllPub       FR2  ...           0        0    NaN   NaN   \n",
       "\n",
       "  MiscFeature MiscVal  MoSold  YrSold  SaleType  SaleCondition  \n",
       "0         NaN       0       2    2008        WD         Normal  \n",
       "1         NaN       0       5    2007        WD         Normal  \n",
       "2         NaN       0       9    2008        WD         Normal  \n",
       "3         NaN       0       2    2006        WD        Abnorml  \n",
       "4         NaN       0      12    2008        WD         Normal  \n",
       "\n",
       "[5 rows x 79 columns]"
      ]
     },
     "execution_count": 7,
     "metadata": {},
     "output_type": "execute_result"
    }
   ],
   "source": [
    "X_train_data.head()"
   ]
  },
  {
   "cell_type": "markdown",
   "id": "92170340",
   "metadata": {
    "papermill": {
     "duration": 0.010562,
     "end_time": "2024-10-07T09:28:21.679976",
     "exception": false,
     "start_time": "2024-10-07T09:28:21.669414",
     "status": "completed"
    },
    "tags": []
   },
   "source": [
    "**Prepairing the data :**"
   ]
  },
  {
   "cell_type": "code",
   "execution_count": 8,
   "id": "5311b870",
   "metadata": {
    "execution": {
     "iopub.execute_input": "2024-10-07T09:28:21.703798Z",
     "iopub.status.busy": "2024-10-07T09:28:21.703317Z",
     "iopub.status.idle": "2024-10-07T09:28:21.780174Z",
     "shell.execute_reply": "2024-10-07T09:28:21.779087Z"
    },
    "papermill": {
     "duration": 0.091596,
     "end_time": "2024-10-07T09:28:21.782630",
     "exception": false,
     "start_time": "2024-10-07T09:28:21.691034",
     "status": "completed"
    },
    "tags": []
   },
   "outputs": [
    {
     "data": {
      "text/html": [
       "<style>#sk-container-id-1 {color: black;background-color: white;}#sk-container-id-1 pre{padding: 0;}#sk-container-id-1 div.sk-toggleable {background-color: white;}#sk-container-id-1 label.sk-toggleable__label {cursor: pointer;display: block;width: 100%;margin-bottom: 0;padding: 0.3em;box-sizing: border-box;text-align: center;}#sk-container-id-1 label.sk-toggleable__label-arrow:before {content: \"▸\";float: left;margin-right: 0.25em;color: #696969;}#sk-container-id-1 label.sk-toggleable__label-arrow:hover:before {color: black;}#sk-container-id-1 div.sk-estimator:hover label.sk-toggleable__label-arrow:before {color: black;}#sk-container-id-1 div.sk-toggleable__content {max-height: 0;max-width: 0;overflow: hidden;text-align: left;background-color: #f0f8ff;}#sk-container-id-1 div.sk-toggleable__content pre {margin: 0.2em;color: black;border-radius: 0.25em;background-color: #f0f8ff;}#sk-container-id-1 input.sk-toggleable__control:checked~div.sk-toggleable__content {max-height: 200px;max-width: 100%;overflow: auto;}#sk-container-id-1 input.sk-toggleable__control:checked~label.sk-toggleable__label-arrow:before {content: \"▾\";}#sk-container-id-1 div.sk-estimator input.sk-toggleable__control:checked~label.sk-toggleable__label {background-color: #d4ebff;}#sk-container-id-1 div.sk-label input.sk-toggleable__control:checked~label.sk-toggleable__label {background-color: #d4ebff;}#sk-container-id-1 input.sk-hidden--visually {border: 0;clip: rect(1px 1px 1px 1px);clip: rect(1px, 1px, 1px, 1px);height: 1px;margin: -1px;overflow: hidden;padding: 0;position: absolute;width: 1px;}#sk-container-id-1 div.sk-estimator {font-family: monospace;background-color: #f0f8ff;border: 1px dotted black;border-radius: 0.25em;box-sizing: border-box;margin-bottom: 0.5em;}#sk-container-id-1 div.sk-estimator:hover {background-color: #d4ebff;}#sk-container-id-1 div.sk-parallel-item::after {content: \"\";width: 100%;border-bottom: 1px solid gray;flex-grow: 1;}#sk-container-id-1 div.sk-label:hover label.sk-toggleable__label {background-color: #d4ebff;}#sk-container-id-1 div.sk-serial::before {content: \"\";position: absolute;border-left: 1px solid gray;box-sizing: border-box;top: 0;bottom: 0;left: 50%;z-index: 0;}#sk-container-id-1 div.sk-serial {display: flex;flex-direction: column;align-items: center;background-color: white;padding-right: 0.2em;padding-left: 0.2em;position: relative;}#sk-container-id-1 div.sk-item {position: relative;z-index: 1;}#sk-container-id-1 div.sk-parallel {display: flex;align-items: stretch;justify-content: center;background-color: white;position: relative;}#sk-container-id-1 div.sk-item::before, #sk-container-id-1 div.sk-parallel-item::before {content: \"\";position: absolute;border-left: 1px solid gray;box-sizing: border-box;top: 0;bottom: 0;left: 50%;z-index: -1;}#sk-container-id-1 div.sk-parallel-item {display: flex;flex-direction: column;z-index: 1;position: relative;background-color: white;}#sk-container-id-1 div.sk-parallel-item:first-child::after {align-self: flex-end;width: 50%;}#sk-container-id-1 div.sk-parallel-item:last-child::after {align-self: flex-start;width: 50%;}#sk-container-id-1 div.sk-parallel-item:only-child::after {width: 0;}#sk-container-id-1 div.sk-dashed-wrapped {border: 1px dashed gray;margin: 0 0.4em 0.5em 0.4em;box-sizing: border-box;padding-bottom: 0.4em;background-color: white;}#sk-container-id-1 div.sk-label label {font-family: monospace;font-weight: bold;display: inline-block;line-height: 1.2em;}#sk-container-id-1 div.sk-label-container {text-align: center;}#sk-container-id-1 div.sk-container {/* jupyter's `normalize.less` sets `[hidden] { display: none; }` but bootstrap.min.css set `[hidden] { display: none !important; }` so we also need the `!important` here to be able to override the default hidden behavior on the sphinx rendered scikit-learn.org. See: https://github.com/scikit-learn/scikit-learn/issues/21755 */display: inline-block !important;position: relative;}#sk-container-id-1 div.sk-text-repr-fallback {display: none;}</style><div id=\"sk-container-id-1\" class=\"sk-top-container\"><div class=\"sk-text-repr-fallback\"><pre>SimpleImputer(strategy=&#x27;most_frequent&#x27;)</pre><b>In a Jupyter environment, please rerun this cell to show the HTML representation or trust the notebook. <br />On GitHub, the HTML representation is unable to render, please try loading this page with nbviewer.org.</b></div><div class=\"sk-container\" hidden><div class=\"sk-item\"><div class=\"sk-estimator sk-toggleable\"><input class=\"sk-toggleable__control sk-hidden--visually\" id=\"sk-estimator-id-1\" type=\"checkbox\" checked><label for=\"sk-estimator-id-1\" class=\"sk-toggleable__label sk-toggleable__label-arrow\">SimpleImputer</label><div class=\"sk-toggleable__content\"><pre>SimpleImputer(strategy=&#x27;most_frequent&#x27;)</pre></div></div></div></div></div>"
      ],
      "text/plain": [
       "SimpleImputer(strategy='most_frequent')"
      ]
     },
     "execution_count": 8,
     "metadata": {},
     "output_type": "execute_result"
    }
   ],
   "source": [
    "imputer = SimpleImputer(strategy=\"most_frequent\")\n",
    "imputer.fit(pd.concat([X_train_data,test_data]))"
   ]
  },
  {
   "cell_type": "code",
   "execution_count": 9,
   "id": "845d4e02",
   "metadata": {
    "execution": {
     "iopub.execute_input": "2024-10-07T09:28:21.806787Z",
     "iopub.status.busy": "2024-10-07T09:28:21.806348Z",
     "iopub.status.idle": "2024-10-07T09:28:21.846210Z",
     "shell.execute_reply": "2024-10-07T09:28:21.844922Z"
    },
    "papermill": {
     "duration": 0.055425,
     "end_time": "2024-10-07T09:28:21.849199",
     "exception": false,
     "start_time": "2024-10-07T09:28:21.793774",
     "status": "completed"
    },
    "tags": []
   },
   "outputs": [],
   "source": [
    "c = X_train_data.columns\n",
    "i_train = X_train_data.index\n",
    "i_test = test_data.index\n",
    "X_train_data = pd.DataFrame(imputer.transform(X_train_data),columns = c,index = i_train)\n",
    "test_data = pd.DataFrame(imputer.transform(test_data),columns = c,index=i_test)"
   ]
  },
  {
   "cell_type": "code",
   "execution_count": 10,
   "id": "6ad42148",
   "metadata": {
    "execution": {
     "iopub.execute_input": "2024-10-07T09:28:21.873411Z",
     "iopub.status.busy": "2024-10-07T09:28:21.872967Z",
     "iopub.status.idle": "2024-10-07T09:28:21.880959Z",
     "shell.execute_reply": "2024-10-07T09:28:21.879694Z"
    },
    "papermill": {
     "duration": 0.022876,
     "end_time": "2024-10-07T09:28:21.883344",
     "exception": false,
     "start_time": "2024-10-07T09:28:21.860468",
     "status": "completed"
    },
    "tags": []
   },
   "outputs": [],
   "source": [
    " str_cat = [ \"MSZoning\"      ,\n",
    "  \"Street\"        ,\n",
    "  \"Alley\"         ,\n",
    "  \"LotShape\"      ,\n",
    "  \"LandContour\"   ,\n",
    "  \"Utilities\"     ,\n",
    "  \"LotConfig\"     ,\n",
    "  \"LandSlope\"     ,\n",
    "  \"Neighborhood\"  ,\n",
    "  \"Condition1\"    ,\n",
    "  \"Condition2\"    ,\n",
    "  \"BldgType\"      ,\n",
    "  \"HouseStyle\"    ,\n",
    "  \"RoofStyle\"     ,\n",
    "  \"RoofMatl\"      ,\n",
    "  \"Exterior1st\"   ,\n",
    "  \"Exterior2nd\"   ,\n",
    "  \"MasVnrType\"    ,\n",
    "  \"ExterQual\"     ,\n",
    "  \"ExterCond\"     ,\n",
    "  \"Foundation\"    ,\n",
    "  \"BsmtQual\"      ,\n",
    "  \"BsmtCond\"      ,\n",
    "  \"BsmtExposure\"  ,\n",
    "  \"BsmtFinType1\"  ,\n",
    "  \"BsmtFinType2\"  ,\n",
    "  \"Heating\"       ,\n",
    "  \"HeatingQC\"     ,\n",
    "  \"CentralAir\"    ,\n",
    "  \"Electrical\"    ,\n",
    "  \"KitchenQual\"   ,\n",
    "  \"Functional\"    ,\n",
    "  \"FireplaceQu\"   ,\n",
    "  \"GarageType\"    ,\n",
    "  \"GarageFinish\"  ,\n",
    "  \"GarageQual\"    ,\n",
    "  \"GarageCond\"    ,\n",
    "  \"PavedDrive\"    ,\n",
    "  \"PoolQC\"        ,\n",
    "  \"Fence\"         ,\n",
    "  \"MiscFeature\"   ,\n",
    "  \"SaleCondition\" ,\n",
    "  \"SaleType\"      ]"
   ]
  },
  {
   "cell_type": "code",
   "execution_count": 11,
   "id": "6995e8f3",
   "metadata": {
    "execution": {
     "iopub.execute_input": "2024-10-07T09:28:21.908132Z",
     "iopub.status.busy": "2024-10-07T09:28:21.907663Z",
     "iopub.status.idle": "2024-10-07T09:28:21.914737Z",
     "shell.execute_reply": "2024-10-07T09:28:21.913475Z"
    },
    "papermill": {
     "duration": 0.022146,
     "end_time": "2024-10-07T09:28:21.917133",
     "exception": false,
     "start_time": "2024-10-07T09:28:21.894987",
     "status": "completed"
    },
    "tags": []
   },
   "outputs": [],
   "source": [
    "def OneHotE(dataframe,cat_col,cat_encoder):\n",
    "    dataframe_num = dataframe.drop(cat_col,axis=1)\n",
    "    dataframe_cat = dataframe[cat_col]\n",
    "    dataframe_cat = cat_encoder.transform(dataframe_cat)\n",
    "    dataframe_cat = pd.DataFrame(dataframe_cat.toarray(),columns=cat_encoder.get_feature_names_out(),index=dataframe.index)\n",
    "    dataframe = pd.concat([dataframe_num,dataframe_cat],axis=1)    \n",
    "    return dataframe"
   ]
  },
  {
   "cell_type": "code",
   "execution_count": 12,
   "id": "c38cf2e7",
   "metadata": {
    "execution": {
     "iopub.execute_input": "2024-10-07T09:28:21.941294Z",
     "iopub.status.busy": "2024-10-07T09:28:21.940878Z",
     "iopub.status.idle": "2024-10-07T09:28:21.945623Z",
     "shell.execute_reply": "2024-10-07T09:28:21.944502Z"
    },
    "papermill": {
     "duration": 0.019903,
     "end_time": "2024-10-07T09:28:21.948055",
     "exception": false,
     "start_time": "2024-10-07T09:28:21.928152",
     "status": "completed"
    },
    "tags": []
   },
   "outputs": [],
   "source": [
    "cat_encoder = OneHotEncoder()"
   ]
  },
  {
   "cell_type": "code",
   "execution_count": 13,
   "id": "842dbd41",
   "metadata": {
    "execution": {
     "iopub.execute_input": "2024-10-07T09:28:21.971906Z",
     "iopub.status.busy": "2024-10-07T09:28:21.971442Z",
     "iopub.status.idle": "2024-10-07T09:28:22.000395Z",
     "shell.execute_reply": "2024-10-07T09:28:21.999227Z"
    },
    "papermill": {
     "duration": 0.044205,
     "end_time": "2024-10-07T09:28:22.003312",
     "exception": false,
     "start_time": "2024-10-07T09:28:21.959107",
     "status": "completed"
    },
    "tags": []
   },
   "outputs": [
    {
     "data": {
      "text/html": [
       "<style>#sk-container-id-2 {color: black;background-color: white;}#sk-container-id-2 pre{padding: 0;}#sk-container-id-2 div.sk-toggleable {background-color: white;}#sk-container-id-2 label.sk-toggleable__label {cursor: pointer;display: block;width: 100%;margin-bottom: 0;padding: 0.3em;box-sizing: border-box;text-align: center;}#sk-container-id-2 label.sk-toggleable__label-arrow:before {content: \"▸\";float: left;margin-right: 0.25em;color: #696969;}#sk-container-id-2 label.sk-toggleable__label-arrow:hover:before {color: black;}#sk-container-id-2 div.sk-estimator:hover label.sk-toggleable__label-arrow:before {color: black;}#sk-container-id-2 div.sk-toggleable__content {max-height: 0;max-width: 0;overflow: hidden;text-align: left;background-color: #f0f8ff;}#sk-container-id-2 div.sk-toggleable__content pre {margin: 0.2em;color: black;border-radius: 0.25em;background-color: #f0f8ff;}#sk-container-id-2 input.sk-toggleable__control:checked~div.sk-toggleable__content {max-height: 200px;max-width: 100%;overflow: auto;}#sk-container-id-2 input.sk-toggleable__control:checked~label.sk-toggleable__label-arrow:before {content: \"▾\";}#sk-container-id-2 div.sk-estimator input.sk-toggleable__control:checked~label.sk-toggleable__label {background-color: #d4ebff;}#sk-container-id-2 div.sk-label input.sk-toggleable__control:checked~label.sk-toggleable__label {background-color: #d4ebff;}#sk-container-id-2 input.sk-hidden--visually {border: 0;clip: rect(1px 1px 1px 1px);clip: rect(1px, 1px, 1px, 1px);height: 1px;margin: -1px;overflow: hidden;padding: 0;position: absolute;width: 1px;}#sk-container-id-2 div.sk-estimator {font-family: monospace;background-color: #f0f8ff;border: 1px dotted black;border-radius: 0.25em;box-sizing: border-box;margin-bottom: 0.5em;}#sk-container-id-2 div.sk-estimator:hover {background-color: #d4ebff;}#sk-container-id-2 div.sk-parallel-item::after {content: \"\";width: 100%;border-bottom: 1px solid gray;flex-grow: 1;}#sk-container-id-2 div.sk-label:hover label.sk-toggleable__label {background-color: #d4ebff;}#sk-container-id-2 div.sk-serial::before {content: \"\";position: absolute;border-left: 1px solid gray;box-sizing: border-box;top: 0;bottom: 0;left: 50%;z-index: 0;}#sk-container-id-2 div.sk-serial {display: flex;flex-direction: column;align-items: center;background-color: white;padding-right: 0.2em;padding-left: 0.2em;position: relative;}#sk-container-id-2 div.sk-item {position: relative;z-index: 1;}#sk-container-id-2 div.sk-parallel {display: flex;align-items: stretch;justify-content: center;background-color: white;position: relative;}#sk-container-id-2 div.sk-item::before, #sk-container-id-2 div.sk-parallel-item::before {content: \"\";position: absolute;border-left: 1px solid gray;box-sizing: border-box;top: 0;bottom: 0;left: 50%;z-index: -1;}#sk-container-id-2 div.sk-parallel-item {display: flex;flex-direction: column;z-index: 1;position: relative;background-color: white;}#sk-container-id-2 div.sk-parallel-item:first-child::after {align-self: flex-end;width: 50%;}#sk-container-id-2 div.sk-parallel-item:last-child::after {align-self: flex-start;width: 50%;}#sk-container-id-2 div.sk-parallel-item:only-child::after {width: 0;}#sk-container-id-2 div.sk-dashed-wrapped {border: 1px dashed gray;margin: 0 0.4em 0.5em 0.4em;box-sizing: border-box;padding-bottom: 0.4em;background-color: white;}#sk-container-id-2 div.sk-label label {font-family: monospace;font-weight: bold;display: inline-block;line-height: 1.2em;}#sk-container-id-2 div.sk-label-container {text-align: center;}#sk-container-id-2 div.sk-container {/* jupyter's `normalize.less` sets `[hidden] { display: none; }` but bootstrap.min.css set `[hidden] { display: none !important; }` so we also need the `!important` here to be able to override the default hidden behavior on the sphinx rendered scikit-learn.org. See: https://github.com/scikit-learn/scikit-learn/issues/21755 */display: inline-block !important;position: relative;}#sk-container-id-2 div.sk-text-repr-fallback {display: none;}</style><div id=\"sk-container-id-2\" class=\"sk-top-container\"><div class=\"sk-text-repr-fallback\"><pre>OneHotEncoder()</pre><b>In a Jupyter environment, please rerun this cell to show the HTML representation or trust the notebook. <br />On GitHub, the HTML representation is unable to render, please try loading this page with nbviewer.org.</b></div><div class=\"sk-container\" hidden><div class=\"sk-item\"><div class=\"sk-estimator sk-toggleable\"><input class=\"sk-toggleable__control sk-hidden--visually\" id=\"sk-estimator-id-2\" type=\"checkbox\" checked><label for=\"sk-estimator-id-2\" class=\"sk-toggleable__label sk-toggleable__label-arrow\">OneHotEncoder</label><div class=\"sk-toggleable__content\"><pre>OneHotEncoder()</pre></div></div></div></div></div>"
      ],
      "text/plain": [
       "OneHotEncoder()"
      ]
     },
     "execution_count": 13,
     "metadata": {},
     "output_type": "execute_result"
    }
   ],
   "source": [
    "cat_encoder.fit(pd.concat([X_train_data[str_cat],test_data[str_cat]]))"
   ]
  },
  {
   "cell_type": "code",
   "execution_count": 14,
   "id": "b1cfb163",
   "metadata": {
    "execution": {
     "iopub.execute_input": "2024-10-07T09:28:22.028442Z",
     "iopub.status.busy": "2024-10-07T09:28:22.028005Z",
     "iopub.status.idle": "2024-10-07T09:28:22.131023Z",
     "shell.execute_reply": "2024-10-07T09:28:22.129963Z"
    },
    "papermill": {
     "duration": 0.118512,
     "end_time": "2024-10-07T09:28:22.133685",
     "exception": false,
     "start_time": "2024-10-07T09:28:22.015173",
     "status": "completed"
    },
    "tags": []
   },
   "outputs": [],
   "source": [
    "X_train_data = OneHotE(X_train_data,str_cat,cat_encoder)\n",
    "test_data = OneHotE(test_data,str_cat,cat_encoder)"
   ]
  },
  {
   "cell_type": "code",
   "execution_count": 15,
   "id": "e1fe0fd2",
   "metadata": {
    "execution": {
     "iopub.execute_input": "2024-10-07T09:28:22.158890Z",
     "iopub.status.busy": "2024-10-07T09:28:22.158097Z",
     "iopub.status.idle": "2024-10-07T09:28:22.460356Z",
     "shell.execute_reply": "2024-10-07T09:28:22.458842Z"
    },
    "papermill": {
     "duration": 0.318244,
     "end_time": "2024-10-07T09:28:22.463430",
     "exception": false,
     "start_time": "2024-10-07T09:28:22.145186",
     "status": "completed"
    },
    "tags": []
   },
   "outputs": [],
   "source": [
    "scaler = StandardScaler()\n",
    "for column in X_train_data.columns:\n",
    "    X_train_data[column] = scaler.fit_transform(np.array(X_train_data[column]).reshape(-1,1))"
   ]
  },
  {
   "cell_type": "code",
   "execution_count": 16,
   "id": "d237ff17",
   "metadata": {
    "execution": {
     "iopub.execute_input": "2024-10-07T09:28:22.489388Z",
     "iopub.status.busy": "2024-10-07T09:28:22.488230Z",
     "iopub.status.idle": "2024-10-07T09:28:22.831089Z",
     "shell.execute_reply": "2024-10-07T09:28:22.829897Z"
    },
    "papermill": {
     "duration": 0.358771,
     "end_time": "2024-10-07T09:28:22.833884",
     "exception": false,
     "start_time": "2024-10-07T09:28:22.475113",
     "status": "completed"
    },
    "tags": []
   },
   "outputs": [],
   "source": [
    "poly_features = PolynomialFeatures(degree=2,include_bias=False)\n",
    "X_train_data_poly =  poly_features.fit_transform(X_train_data)"
   ]
  },
  {
   "cell_type": "code",
   "execution_count": 17,
   "id": "27693150",
   "metadata": {
    "execution": {
     "iopub.execute_input": "2024-10-07T09:28:22.860095Z",
     "iopub.status.busy": "2024-10-07T09:28:22.858934Z",
     "iopub.status.idle": "2024-10-07T09:28:23.531965Z",
     "shell.execute_reply": "2024-10-07T09:28:23.530847Z"
    },
    "papermill": {
     "duration": 0.689381,
     "end_time": "2024-10-07T09:28:23.534853",
     "exception": false,
     "start_time": "2024-10-07T09:28:22.845472",
     "status": "completed"
    },
    "tags": []
   },
   "outputs": [],
   "source": [
    "X_train_data_poly = pd.DataFrame(X_train_data_poly,index = X_train_data.index , columns = poly_features.get_feature_names_out(X_train_data.columns))"
   ]
  },
  {
   "cell_type": "code",
   "execution_count": 18,
   "id": "fc6df2b6",
   "metadata": {
    "execution": {
     "iopub.execute_input": "2024-10-07T09:28:23.559217Z",
     "iopub.status.busy": "2024-10-07T09:28:23.558801Z",
     "iopub.status.idle": "2024-10-07T09:28:23.597355Z",
     "shell.execute_reply": "2024-10-07T09:28:23.596217Z"
    },
    "papermill": {
     "duration": 0.053784,
     "end_time": "2024-10-07T09:28:23.599872",
     "exception": false,
     "start_time": "2024-10-07T09:28:23.546088",
     "status": "completed"
    },
    "tags": []
   },
   "outputs": [
    {
     "data": {
      "text/html": [
       "<div>\n",
       "<style scoped>\n",
       "    .dataframe tbody tr th:only-of-type {\n",
       "        vertical-align: middle;\n",
       "    }\n",
       "\n",
       "    .dataframe tbody tr th {\n",
       "        vertical-align: top;\n",
       "    }\n",
       "\n",
       "    .dataframe thead th {\n",
       "        text-align: right;\n",
       "    }\n",
       "</style>\n",
       "<table border=\"1\" class=\"dataframe\">\n",
       "  <thead>\n",
       "    <tr style=\"text-align: right;\">\n",
       "      <th></th>\n",
       "      <th>MSSubClass</th>\n",
       "      <th>LotFrontage</th>\n",
       "      <th>LotArea</th>\n",
       "      <th>OverallQual</th>\n",
       "      <th>OverallCond</th>\n",
       "      <th>YearBuilt</th>\n",
       "      <th>YearRemodAdd</th>\n",
       "      <th>MasVnrArea</th>\n",
       "      <th>BsmtFinSF1</th>\n",
       "      <th>BsmtFinSF2</th>\n",
       "      <th>...</th>\n",
       "      <th>SaleType_ConLw^2</th>\n",
       "      <th>SaleType_ConLw SaleType_New</th>\n",
       "      <th>SaleType_ConLw SaleType_Oth</th>\n",
       "      <th>SaleType_ConLw SaleType_WD</th>\n",
       "      <th>SaleType_New^2</th>\n",
       "      <th>SaleType_New SaleType_Oth</th>\n",
       "      <th>SaleType_New SaleType_WD</th>\n",
       "      <th>SaleType_Oth^2</th>\n",
       "      <th>SaleType_Oth SaleType_WD</th>\n",
       "      <th>SaleType_WD^2</th>\n",
       "    </tr>\n",
       "  </thead>\n",
       "  <tbody>\n",
       "    <tr>\n",
       "      <th>0</th>\n",
       "      <td>0.073375</td>\n",
       "      <td>-0.146189</td>\n",
       "      <td>-0.207142</td>\n",
       "      <td>0.651479</td>\n",
       "      <td>-0.517200</td>\n",
       "      <td>1.050994</td>\n",
       "      <td>0.878668</td>\n",
       "      <td>0.514104</td>\n",
       "      <td>0.575425</td>\n",
       "      <td>-0.288653</td>\n",
       "      <td>...</td>\n",
       "      <td>0.003436</td>\n",
       "      <td>0.017701</td>\n",
       "      <td>0.00266</td>\n",
       "      <td>-0.022879</td>\n",
       "      <td>0.091181</td>\n",
       "      <td>0.013702</td>\n",
       "      <td>-0.117853</td>\n",
       "      <td>0.002059</td>\n",
       "      <td>-0.01771</td>\n",
       "      <td>0.152328</td>\n",
       "    </tr>\n",
       "    <tr>\n",
       "      <th>1</th>\n",
       "      <td>-0.872563</td>\n",
       "      <td>0.524992</td>\n",
       "      <td>-0.091886</td>\n",
       "      <td>-0.071836</td>\n",
       "      <td>2.179628</td>\n",
       "      <td>0.156734</td>\n",
       "      <td>-0.429577</td>\n",
       "      <td>-0.570750</td>\n",
       "      <td>1.171992</td>\n",
       "      <td>-0.288653</td>\n",
       "      <td>...</td>\n",
       "      <td>0.003436</td>\n",
       "      <td>0.017701</td>\n",
       "      <td>0.00266</td>\n",
       "      <td>-0.022879</td>\n",
       "      <td>0.091181</td>\n",
       "      <td>0.013702</td>\n",
       "      <td>-0.117853</td>\n",
       "      <td>0.002059</td>\n",
       "      <td>-0.01771</td>\n",
       "      <td>0.152328</td>\n",
       "    </tr>\n",
       "    <tr>\n",
       "      <th>2</th>\n",
       "      <td>0.073375</td>\n",
       "      <td>-0.011953</td>\n",
       "      <td>0.073480</td>\n",
       "      <td>0.651479</td>\n",
       "      <td>-0.517200</td>\n",
       "      <td>0.984752</td>\n",
       "      <td>0.830215</td>\n",
       "      <td>0.325915</td>\n",
       "      <td>0.092907</td>\n",
       "      <td>-0.288653</td>\n",
       "      <td>...</td>\n",
       "      <td>0.003436</td>\n",
       "      <td>0.017701</td>\n",
       "      <td>0.00266</td>\n",
       "      <td>-0.022879</td>\n",
       "      <td>0.091181</td>\n",
       "      <td>0.013702</td>\n",
       "      <td>-0.117853</td>\n",
       "      <td>0.002059</td>\n",
       "      <td>-0.01771</td>\n",
       "      <td>0.152328</td>\n",
       "    </tr>\n",
       "    <tr>\n",
       "      <th>3</th>\n",
       "      <td>0.309859</td>\n",
       "      <td>-0.369915</td>\n",
       "      <td>-0.096897</td>\n",
       "      <td>0.651479</td>\n",
       "      <td>-0.517200</td>\n",
       "      <td>-1.863632</td>\n",
       "      <td>-0.720298</td>\n",
       "      <td>-0.570750</td>\n",
       "      <td>-0.499274</td>\n",
       "      <td>-0.288653</td>\n",
       "      <td>...</td>\n",
       "      <td>0.003436</td>\n",
       "      <td>0.017701</td>\n",
       "      <td>0.00266</td>\n",
       "      <td>-0.022879</td>\n",
       "      <td>0.091181</td>\n",
       "      <td>0.013702</td>\n",
       "      <td>-0.117853</td>\n",
       "      <td>0.002059</td>\n",
       "      <td>-0.01771</td>\n",
       "      <td>0.152328</td>\n",
       "    </tr>\n",
       "    <tr>\n",
       "      <th>4</th>\n",
       "      <td>0.073375</td>\n",
       "      <td>0.703973</td>\n",
       "      <td>0.375148</td>\n",
       "      <td>1.374795</td>\n",
       "      <td>-0.517200</td>\n",
       "      <td>0.951632</td>\n",
       "      <td>0.733308</td>\n",
       "      <td>1.366489</td>\n",
       "      <td>0.463568</td>\n",
       "      <td>-0.288653</td>\n",
       "      <td>...</td>\n",
       "      <td>0.003436</td>\n",
       "      <td>0.017701</td>\n",
       "      <td>0.00266</td>\n",
       "      <td>-0.022879</td>\n",
       "      <td>0.091181</td>\n",
       "      <td>0.013702</td>\n",
       "      <td>-0.117853</td>\n",
       "      <td>0.002059</td>\n",
       "      <td>-0.01771</td>\n",
       "      <td>0.152328</td>\n",
       "    </tr>\n",
       "  </tbody>\n",
       "</table>\n",
       "<p>5 rows × 41615 columns</p>\n",
       "</div>"
      ],
      "text/plain": [
       "   MSSubClass  LotFrontage   LotArea  OverallQual  OverallCond  YearBuilt  \\\n",
       "0    0.073375    -0.146189 -0.207142     0.651479    -0.517200   1.050994   \n",
       "1   -0.872563     0.524992 -0.091886    -0.071836     2.179628   0.156734   \n",
       "2    0.073375    -0.011953  0.073480     0.651479    -0.517200   0.984752   \n",
       "3    0.309859    -0.369915 -0.096897     0.651479    -0.517200  -1.863632   \n",
       "4    0.073375     0.703973  0.375148     1.374795    -0.517200   0.951632   \n",
       "\n",
       "   YearRemodAdd  MasVnrArea  BsmtFinSF1  BsmtFinSF2  ...  SaleType_ConLw^2  \\\n",
       "0      0.878668    0.514104    0.575425   -0.288653  ...          0.003436   \n",
       "1     -0.429577   -0.570750    1.171992   -0.288653  ...          0.003436   \n",
       "2      0.830215    0.325915    0.092907   -0.288653  ...          0.003436   \n",
       "3     -0.720298   -0.570750   -0.499274   -0.288653  ...          0.003436   \n",
       "4      0.733308    1.366489    0.463568   -0.288653  ...          0.003436   \n",
       "\n",
       "   SaleType_ConLw SaleType_New  SaleType_ConLw SaleType_Oth  \\\n",
       "0                     0.017701                      0.00266   \n",
       "1                     0.017701                      0.00266   \n",
       "2                     0.017701                      0.00266   \n",
       "3                     0.017701                      0.00266   \n",
       "4                     0.017701                      0.00266   \n",
       "\n",
       "   SaleType_ConLw SaleType_WD  SaleType_New^2  SaleType_New SaleType_Oth  \\\n",
       "0                   -0.022879        0.091181                   0.013702   \n",
       "1                   -0.022879        0.091181                   0.013702   \n",
       "2                   -0.022879        0.091181                   0.013702   \n",
       "3                   -0.022879        0.091181                   0.013702   \n",
       "4                   -0.022879        0.091181                   0.013702   \n",
       "\n",
       "   SaleType_New SaleType_WD  SaleType_Oth^2  SaleType_Oth SaleType_WD  \\\n",
       "0                 -0.117853        0.002059                  -0.01771   \n",
       "1                 -0.117853        0.002059                  -0.01771   \n",
       "2                 -0.117853        0.002059                  -0.01771   \n",
       "3                 -0.117853        0.002059                  -0.01771   \n",
       "4                 -0.117853        0.002059                  -0.01771   \n",
       "\n",
       "   SaleType_WD^2  \n",
       "0       0.152328  \n",
       "1       0.152328  \n",
       "2       0.152328  \n",
       "3       0.152328  \n",
       "4       0.152328  \n",
       "\n",
       "[5 rows x 41615 columns]"
      ]
     },
     "execution_count": 18,
     "metadata": {},
     "output_type": "execute_result"
    }
   ],
   "source": [
    "X_train_data_poly.head()"
   ]
  },
  {
   "cell_type": "markdown",
   "id": "c9600b6a",
   "metadata": {
    "papermill": {
     "duration": 0.011348,
     "end_time": "2024-10-07T09:28:23.622934",
     "exception": false,
     "start_time": "2024-10-07T09:28:23.611586",
     "status": "completed"
    },
    "tags": []
   },
   "source": [
    "**Training a model:**"
   ]
  },
  {
   "cell_type": "code",
   "execution_count": 19,
   "id": "65626c48",
   "metadata": {
    "execution": {
     "iopub.execute_input": "2024-10-07T09:28:23.648029Z",
     "iopub.status.busy": "2024-10-07T09:28:23.647609Z",
     "iopub.status.idle": "2024-10-07T09:28:23.653034Z",
     "shell.execute_reply": "2024-10-07T09:28:23.651873Z"
    },
    "papermill": {
     "duration": 0.020697,
     "end_time": "2024-10-07T09:28:23.655337",
     "exception": false,
     "start_time": "2024-10-07T09:28:23.634640",
     "status": "completed"
    },
    "tags": []
   },
   "outputs": [],
   "source": [
    "pipeline = Pipeline([(\"classifier\",LinearRegression())])"
   ]
  },
  {
   "cell_type": "code",
   "execution_count": 20,
   "id": "86dbe4db",
   "metadata": {
    "execution": {
     "iopub.execute_input": "2024-10-07T09:28:23.680694Z",
     "iopub.status.busy": "2024-10-07T09:28:23.680147Z",
     "iopub.status.idle": "2024-10-07T09:28:23.685725Z",
     "shell.execute_reply": "2024-10-07T09:28:23.684634Z"
    },
    "papermill": {
     "duration": 0.02112,
     "end_time": "2024-10-07T09:28:23.688184",
     "exception": false,
     "start_time": "2024-10-07T09:28:23.667064",
     "status": "completed"
    },
    "tags": []
   },
   "outputs": [],
   "source": [
    "param_grid = [{\"classifier__fit_intercept\":[True,False]}] "
   ]
  },
  {
   "cell_type": "code",
   "execution_count": 21,
   "id": "e0a12cba",
   "metadata": {
    "execution": {
     "iopub.execute_input": "2024-10-07T09:28:23.714204Z",
     "iopub.status.busy": "2024-10-07T09:28:23.713226Z",
     "iopub.status.idle": "2024-10-07T09:28:23.718868Z",
     "shell.execute_reply": "2024-10-07T09:28:23.717712Z"
    },
    "papermill": {
     "duration": 0.021419,
     "end_time": "2024-10-07T09:28:23.721367",
     "exception": false,
     "start_time": "2024-10-07T09:28:23.699948",
     "status": "completed"
    },
    "tags": []
   },
   "outputs": [],
   "source": [
    "grid_search = GridSearchCV(pipeline,param_grid,cv=3,scoring=\"r2\")"
   ]
  },
  {
   "cell_type": "code",
   "execution_count": 22,
   "id": "adc4d48e",
   "metadata": {
    "execution": {
     "iopub.execute_input": "2024-10-07T09:28:23.748017Z",
     "iopub.status.busy": "2024-10-07T09:28:23.747038Z",
     "iopub.status.idle": "2024-10-07T09:28:24.842985Z",
     "shell.execute_reply": "2024-10-07T09:28:24.841843Z"
    },
    "papermill": {
     "duration": 1.112544,
     "end_time": "2024-10-07T09:28:24.845953",
     "exception": false,
     "start_time": "2024-10-07T09:28:23.733409",
     "status": "completed"
    },
    "tags": []
   },
   "outputs": [
    {
     "data": {
      "text/html": [
       "<style>#sk-container-id-3 {color: black;background-color: white;}#sk-container-id-3 pre{padding: 0;}#sk-container-id-3 div.sk-toggleable {background-color: white;}#sk-container-id-3 label.sk-toggleable__label {cursor: pointer;display: block;width: 100%;margin-bottom: 0;padding: 0.3em;box-sizing: border-box;text-align: center;}#sk-container-id-3 label.sk-toggleable__label-arrow:before {content: \"▸\";float: left;margin-right: 0.25em;color: #696969;}#sk-container-id-3 label.sk-toggleable__label-arrow:hover:before {color: black;}#sk-container-id-3 div.sk-estimator:hover label.sk-toggleable__label-arrow:before {color: black;}#sk-container-id-3 div.sk-toggleable__content {max-height: 0;max-width: 0;overflow: hidden;text-align: left;background-color: #f0f8ff;}#sk-container-id-3 div.sk-toggleable__content pre {margin: 0.2em;color: black;border-radius: 0.25em;background-color: #f0f8ff;}#sk-container-id-3 input.sk-toggleable__control:checked~div.sk-toggleable__content {max-height: 200px;max-width: 100%;overflow: auto;}#sk-container-id-3 input.sk-toggleable__control:checked~label.sk-toggleable__label-arrow:before {content: \"▾\";}#sk-container-id-3 div.sk-estimator input.sk-toggleable__control:checked~label.sk-toggleable__label {background-color: #d4ebff;}#sk-container-id-3 div.sk-label input.sk-toggleable__control:checked~label.sk-toggleable__label {background-color: #d4ebff;}#sk-container-id-3 input.sk-hidden--visually {border: 0;clip: rect(1px 1px 1px 1px);clip: rect(1px, 1px, 1px, 1px);height: 1px;margin: -1px;overflow: hidden;padding: 0;position: absolute;width: 1px;}#sk-container-id-3 div.sk-estimator {font-family: monospace;background-color: #f0f8ff;border: 1px dotted black;border-radius: 0.25em;box-sizing: border-box;margin-bottom: 0.5em;}#sk-container-id-3 div.sk-estimator:hover {background-color: #d4ebff;}#sk-container-id-3 div.sk-parallel-item::after {content: \"\";width: 100%;border-bottom: 1px solid gray;flex-grow: 1;}#sk-container-id-3 div.sk-label:hover label.sk-toggleable__label {background-color: #d4ebff;}#sk-container-id-3 div.sk-serial::before {content: \"\";position: absolute;border-left: 1px solid gray;box-sizing: border-box;top: 0;bottom: 0;left: 50%;z-index: 0;}#sk-container-id-3 div.sk-serial {display: flex;flex-direction: column;align-items: center;background-color: white;padding-right: 0.2em;padding-left: 0.2em;position: relative;}#sk-container-id-3 div.sk-item {position: relative;z-index: 1;}#sk-container-id-3 div.sk-parallel {display: flex;align-items: stretch;justify-content: center;background-color: white;position: relative;}#sk-container-id-3 div.sk-item::before, #sk-container-id-3 div.sk-parallel-item::before {content: \"\";position: absolute;border-left: 1px solid gray;box-sizing: border-box;top: 0;bottom: 0;left: 50%;z-index: -1;}#sk-container-id-3 div.sk-parallel-item {display: flex;flex-direction: column;z-index: 1;position: relative;background-color: white;}#sk-container-id-3 div.sk-parallel-item:first-child::after {align-self: flex-end;width: 50%;}#sk-container-id-3 div.sk-parallel-item:last-child::after {align-self: flex-start;width: 50%;}#sk-container-id-3 div.sk-parallel-item:only-child::after {width: 0;}#sk-container-id-3 div.sk-dashed-wrapped {border: 1px dashed gray;margin: 0 0.4em 0.5em 0.4em;box-sizing: border-box;padding-bottom: 0.4em;background-color: white;}#sk-container-id-3 div.sk-label label {font-family: monospace;font-weight: bold;display: inline-block;line-height: 1.2em;}#sk-container-id-3 div.sk-label-container {text-align: center;}#sk-container-id-3 div.sk-container {/* jupyter's `normalize.less` sets `[hidden] { display: none; }` but bootstrap.min.css set `[hidden] { display: none !important; }` so we also need the `!important` here to be able to override the default hidden behavior on the sphinx rendered scikit-learn.org. See: https://github.com/scikit-learn/scikit-learn/issues/21755 */display: inline-block !important;position: relative;}#sk-container-id-3 div.sk-text-repr-fallback {display: none;}</style><div id=\"sk-container-id-3\" class=\"sk-top-container\"><div class=\"sk-text-repr-fallback\"><pre>GridSearchCV(cv=3,\n",
       "             estimator=Pipeline(steps=[(&#x27;classifier&#x27;, LinearRegression())]),\n",
       "             param_grid=[{&#x27;classifier__fit_intercept&#x27;: [True, False]}],\n",
       "             scoring=&#x27;r2&#x27;)</pre><b>In a Jupyter environment, please rerun this cell to show the HTML representation or trust the notebook. <br />On GitHub, the HTML representation is unable to render, please try loading this page with nbviewer.org.</b></div><div class=\"sk-container\" hidden><div class=\"sk-item sk-dashed-wrapped\"><div class=\"sk-label-container\"><div class=\"sk-label sk-toggleable\"><input class=\"sk-toggleable__control sk-hidden--visually\" id=\"sk-estimator-id-3\" type=\"checkbox\" ><label for=\"sk-estimator-id-3\" class=\"sk-toggleable__label sk-toggleable__label-arrow\">GridSearchCV</label><div class=\"sk-toggleable__content\"><pre>GridSearchCV(cv=3,\n",
       "             estimator=Pipeline(steps=[(&#x27;classifier&#x27;, LinearRegression())]),\n",
       "             param_grid=[{&#x27;classifier__fit_intercept&#x27;: [True, False]}],\n",
       "             scoring=&#x27;r2&#x27;)</pre></div></div></div><div class=\"sk-parallel\"><div class=\"sk-parallel-item\"><div class=\"sk-item\"><div class=\"sk-label-container\"><div class=\"sk-label sk-toggleable\"><input class=\"sk-toggleable__control sk-hidden--visually\" id=\"sk-estimator-id-4\" type=\"checkbox\" ><label for=\"sk-estimator-id-4\" class=\"sk-toggleable__label sk-toggleable__label-arrow\">estimator: Pipeline</label><div class=\"sk-toggleable__content\"><pre>Pipeline(steps=[(&#x27;classifier&#x27;, LinearRegression())])</pre></div></div></div><div class=\"sk-serial\"><div class=\"sk-item\"><div class=\"sk-serial\"><div class=\"sk-item\"><div class=\"sk-estimator sk-toggleable\"><input class=\"sk-toggleable__control sk-hidden--visually\" id=\"sk-estimator-id-5\" type=\"checkbox\" ><label for=\"sk-estimator-id-5\" class=\"sk-toggleable__label sk-toggleable__label-arrow\">LinearRegression</label><div class=\"sk-toggleable__content\"><pre>LinearRegression()</pre></div></div></div></div></div></div></div></div></div></div></div></div>"
      ],
      "text/plain": [
       "GridSearchCV(cv=3,\n",
       "             estimator=Pipeline(steps=[('classifier', LinearRegression())]),\n",
       "             param_grid=[{'classifier__fit_intercept': [True, False]}],\n",
       "             scoring='r2')"
      ]
     },
     "execution_count": 22,
     "metadata": {},
     "output_type": "execute_result"
    }
   ],
   "source": [
    "grid_search.fit(X_train_data,y_train_data)"
   ]
  },
  {
   "cell_type": "code",
   "execution_count": 23,
   "id": "b16454b9",
   "metadata": {
    "execution": {
     "iopub.execute_input": "2024-10-07T09:28:24.880435Z",
     "iopub.status.busy": "2024-10-07T09:28:24.879962Z",
     "iopub.status.idle": "2024-10-07T09:28:24.886963Z",
     "shell.execute_reply": "2024-10-07T09:28:24.885985Z"
    },
    "papermill": {
     "duration": 0.031124,
     "end_time": "2024-10-07T09:28:24.893617",
     "exception": false,
     "start_time": "2024-10-07T09:28:24.862493",
     "status": "completed"
    },
    "tags": []
   },
   "outputs": [
    {
     "data": {
      "text/plain": [
       "{'classifier__fit_intercept': True}"
      ]
     },
     "execution_count": 23,
     "metadata": {},
     "output_type": "execute_result"
    }
   ],
   "source": [
    "grid_search.best_params_\n"
   ]
  },
  {
   "cell_type": "code",
   "execution_count": 24,
   "id": "4540c0a4",
   "metadata": {
    "execution": {
     "iopub.execute_input": "2024-10-07T09:28:24.927763Z",
     "iopub.status.busy": "2024-10-07T09:28:24.927276Z",
     "iopub.status.idle": "2024-10-07T09:28:24.955821Z",
     "shell.execute_reply": "2024-10-07T09:28:24.954986Z"
    },
    "papermill": {
     "duration": 0.048268,
     "end_time": "2024-10-07T09:28:24.958041",
     "exception": false,
     "start_time": "2024-10-07T09:28:24.909773",
     "status": "completed"
    },
    "tags": []
   },
   "outputs": [
    {
     "data": {
      "text/html": [
       "<div>\n",
       "<style scoped>\n",
       "    .dataframe tbody tr th:only-of-type {\n",
       "        vertical-align: middle;\n",
       "    }\n",
       "\n",
       "    .dataframe tbody tr th {\n",
       "        vertical-align: top;\n",
       "    }\n",
       "\n",
       "    .dataframe thead th {\n",
       "        text-align: right;\n",
       "    }\n",
       "</style>\n",
       "<table border=\"1\" class=\"dataframe\">\n",
       "  <thead>\n",
       "    <tr style=\"text-align: right;\">\n",
       "      <th></th>\n",
       "      <th>mean_fit_time</th>\n",
       "      <th>std_fit_time</th>\n",
       "      <th>mean_score_time</th>\n",
       "      <th>std_score_time</th>\n",
       "      <th>param_classifier__fit_intercept</th>\n",
       "      <th>params</th>\n",
       "      <th>split0_test_score</th>\n",
       "      <th>split1_test_score</th>\n",
       "      <th>split2_test_score</th>\n",
       "      <th>mean_test_score</th>\n",
       "      <th>std_test_score</th>\n",
       "      <th>rank_test_score</th>\n",
       "    </tr>\n",
       "  </thead>\n",
       "  <tbody>\n",
       "    <tr>\n",
       "      <th>0</th>\n",
       "      <td>0.110026</td>\n",
       "      <td>0.018369</td>\n",
       "      <td>0.025138</td>\n",
       "      <td>0.002001</td>\n",
       "      <td>True</td>\n",
       "      <td>{'classifier__fit_intercept': True}</td>\n",
       "      <td>-6.722176e+24</td>\n",
       "      <td>-8.903528e+25</td>\n",
       "      <td>-1.262500e+21</td>\n",
       "      <td>-3.191957e+25</td>\n",
       "      <td>4.048000e+25</td>\n",
       "      <td>1</td>\n",
       "    </tr>\n",
       "    <tr>\n",
       "      <th>1</th>\n",
       "      <td>0.147687</td>\n",
       "      <td>0.001203</td>\n",
       "      <td>0.025451</td>\n",
       "      <td>0.002741</td>\n",
       "      <td>False</td>\n",
       "      <td>{'classifier__fit_intercept': False}</td>\n",
       "      <td>-4.167458e+25</td>\n",
       "      <td>-7.241799e+21</td>\n",
       "      <td>-1.608103e+26</td>\n",
       "      <td>-6.749736e+25</td>\n",
       "      <td>6.813964e+25</td>\n",
       "      <td>2</td>\n",
       "    </tr>\n",
       "  </tbody>\n",
       "</table>\n",
       "</div>"
      ],
      "text/plain": [
       "   mean_fit_time  std_fit_time  mean_score_time  std_score_time  \\\n",
       "0       0.110026      0.018369         0.025138        0.002001   \n",
       "1       0.147687      0.001203         0.025451        0.002741   \n",
       "\n",
       "  param_classifier__fit_intercept                                params  \\\n",
       "0                            True   {'classifier__fit_intercept': True}   \n",
       "1                           False  {'classifier__fit_intercept': False}   \n",
       "\n",
       "   split0_test_score  split1_test_score  split2_test_score  mean_test_score  \\\n",
       "0      -6.722176e+24      -8.903528e+25      -1.262500e+21    -3.191957e+25   \n",
       "1      -4.167458e+25      -7.241799e+21      -1.608103e+26    -6.749736e+25   \n",
       "\n",
       "   std_test_score  rank_test_score  \n",
       "0    4.048000e+25                1  \n",
       "1    6.813964e+25                2  "
      ]
     },
     "execution_count": 24,
     "metadata": {},
     "output_type": "execute_result"
    }
   ],
   "source": [
    "cv_res = pd.DataFrame(grid_search.cv_results_)\n",
    "cv_res.sort_values(by=\"mean_test_score\", ascending=False, inplace=True)\n",
    "cv_res.head()"
   ]
  },
  {
   "cell_type": "markdown",
   "id": "0164b4d4",
   "metadata": {
    "papermill": {
     "duration": 0.011887,
     "end_time": "2024-10-07T09:28:24.982491",
     "exception": false,
     "start_time": "2024-10-07T09:28:24.970604",
     "status": "completed"
    },
    "tags": []
   },
   "source": [
    "**Prediction :**"
   ]
  },
  {
   "cell_type": "code",
   "execution_count": 25,
   "id": "15b993f1",
   "metadata": {
    "execution": {
     "iopub.execute_input": "2024-10-07T09:28:25.009736Z",
     "iopub.status.busy": "2024-10-07T09:28:25.008700Z",
     "iopub.status.idle": "2024-10-07T09:28:25.079311Z",
     "shell.execute_reply": "2024-10-07T09:28:25.077830Z"
    },
    "papermill": {
     "duration": 0.089216,
     "end_time": "2024-10-07T09:28:25.084064",
     "exception": false,
     "start_time": "2024-10-07T09:28:24.994848",
     "status": "completed"
    },
    "tags": []
   },
   "outputs": [],
   "source": [
    "final_evaluation = grid_search.predict(test_data)"
   ]
  },
  {
   "cell_type": "code",
   "execution_count": 26,
   "id": "e6e1c257",
   "metadata": {
    "execution": {
     "iopub.execute_input": "2024-10-07T09:28:25.137818Z",
     "iopub.status.busy": "2024-10-07T09:28:25.136879Z",
     "iopub.status.idle": "2024-10-07T09:28:25.169384Z",
     "shell.execute_reply": "2024-10-07T09:28:25.167908Z"
    },
    "papermill": {
     "duration": 0.064201,
     "end_time": "2024-10-07T09:28:25.173733",
     "exception": false,
     "start_time": "2024-10-07T09:28:25.109532",
     "status": "completed"
    },
    "tags": []
   },
   "outputs": [
    {
     "data": {
      "text/html": [
       "<div>\n",
       "<style scoped>\n",
       "    .dataframe tbody tr th:only-of-type {\n",
       "        vertical-align: middle;\n",
       "    }\n",
       "\n",
       "    .dataframe tbody tr th {\n",
       "        vertical-align: top;\n",
       "    }\n",
       "\n",
       "    .dataframe thead th {\n",
       "        text-align: right;\n",
       "    }\n",
       "</style>\n",
       "<table border=\"1\" class=\"dataframe\">\n",
       "  <thead>\n",
       "    <tr style=\"text-align: right;\">\n",
       "      <th></th>\n",
       "      <th>Id</th>\n",
       "      <th>SalePrice</th>\n",
       "    </tr>\n",
       "  </thead>\n",
       "  <tbody>\n",
       "    <tr>\n",
       "      <th>0</th>\n",
       "      <td>1461</td>\n",
       "      <td>2.214269e+19</td>\n",
       "    </tr>\n",
       "    <tr>\n",
       "      <th>1</th>\n",
       "      <td>1462</td>\n",
       "      <td>5.630712e+19</td>\n",
       "    </tr>\n",
       "    <tr>\n",
       "      <th>2</th>\n",
       "      <td>1463</td>\n",
       "      <td>5.696008e+19</td>\n",
       "    </tr>\n",
       "    <tr>\n",
       "      <th>3</th>\n",
       "      <td>1464</td>\n",
       "      <td>5.533491e+19</td>\n",
       "    </tr>\n",
       "    <tr>\n",
       "      <th>4</th>\n",
       "      <td>1465</td>\n",
       "      <td>5.082372e+19</td>\n",
       "    </tr>\n",
       "    <tr>\n",
       "      <th>...</th>\n",
       "      <td>...</td>\n",
       "      <td>...</td>\n",
       "    </tr>\n",
       "    <tr>\n",
       "      <th>1454</th>\n",
       "      <td>2915</td>\n",
       "      <td>3.446998e+19</td>\n",
       "    </tr>\n",
       "    <tr>\n",
       "      <th>1455</th>\n",
       "      <td>2916</td>\n",
       "      <td>3.554393e+19</td>\n",
       "    </tr>\n",
       "    <tr>\n",
       "      <th>1456</th>\n",
       "      <td>2917</td>\n",
       "      <td>5.394381e+19</td>\n",
       "    </tr>\n",
       "    <tr>\n",
       "      <th>1457</th>\n",
       "      <td>2918</td>\n",
       "      <td>3.951578e+19</td>\n",
       "    </tr>\n",
       "    <tr>\n",
       "      <th>1458</th>\n",
       "      <td>2919</td>\n",
       "      <td>6.641694e+19</td>\n",
       "    </tr>\n",
       "  </tbody>\n",
       "</table>\n",
       "<p>1459 rows × 2 columns</p>\n",
       "</div>"
      ],
      "text/plain": [
       "        Id     SalePrice\n",
       "0     1461  2.214269e+19\n",
       "1     1462  5.630712e+19\n",
       "2     1463  5.696008e+19\n",
       "3     1464  5.533491e+19\n",
       "4     1465  5.082372e+19\n",
       "...    ...           ...\n",
       "1454  2915  3.446998e+19\n",
       "1455  2916  3.554393e+19\n",
       "1456  2917  5.394381e+19\n",
       "1457  2918  3.951578e+19\n",
       "1458  2919  6.641694e+19\n",
       "\n",
       "[1459 rows x 2 columns]"
      ]
     },
     "execution_count": 26,
     "metadata": {},
     "output_type": "execute_result"
    }
   ],
   "source": [
    "d = {'Id':np.arange(len(final_evaluation)) + 1461,'SalePrice':final_evaluation}\n",
    "df = pd.DataFrame(data=d)\n",
    "df"
   ]
  },
  {
   "cell_type": "code",
   "execution_count": 27,
   "id": "77ae8bb4",
   "metadata": {
    "execution": {
     "iopub.execute_input": "2024-10-07T09:28:25.213821Z",
     "iopub.status.busy": "2024-10-07T09:28:25.213383Z",
     "iopub.status.idle": "2024-10-07T09:28:25.226578Z",
     "shell.execute_reply": "2024-10-07T09:28:25.225590Z"
    },
    "papermill": {
     "duration": 0.029823,
     "end_time": "2024-10-07T09:28:25.229149",
     "exception": false,
     "start_time": "2024-10-07T09:28:25.199326",
     "status": "completed"
    },
    "tags": []
   },
   "outputs": [],
   "source": [
    "df.to_csv('out.csv',index=False)"
   ]
  },
  {
   "cell_type": "code",
   "execution_count": null,
   "id": "6b4ce5c6",
   "metadata": {
    "papermill": {
     "duration": 0.012578,
     "end_time": "2024-10-07T09:28:25.254595",
     "exception": false,
     "start_time": "2024-10-07T09:28:25.242017",
     "status": "completed"
    },
    "tags": []
   },
   "outputs": [],
   "source": []
  }
 ],
 "metadata": {
  "kaggle": {
   "accelerator": "none",
   "dataSources": [
    {
     "databundleVersionId": 868283,
     "sourceId": 5407,
     "sourceType": "competition"
    }
   ],
   "dockerImageVersionId": 30786,
   "isGpuEnabled": false,
   "isInternetEnabled": false,
   "language": "python",
   "sourceType": "notebook"
  },
  "kernelspec": {
   "display_name": "Python 3",
   "language": "python",
   "name": "python3"
  },
  "language_info": {
   "codemirror_mode": {
    "name": "ipython",
    "version": 3
   },
   "file_extension": ".py",
   "mimetype": "text/x-python",
   "name": "python",
   "nbconvert_exporter": "python",
   "pygments_lexer": "ipython3",
   "version": "3.10.14"
  },
  "papermill": {
   "default_parameters": {},
   "duration": 11.823422,
   "end_time": "2024-10-07T09:28:25.991790",
   "environment_variables": {},
   "exception": null,
   "input_path": "__notebook__.ipynb",
   "output_path": "__notebook__.ipynb",
   "parameters": {},
   "start_time": "2024-10-07T09:28:14.168368",
   "version": "2.6.0"
  }
 },
 "nbformat": 4,
 "nbformat_minor": 5
}

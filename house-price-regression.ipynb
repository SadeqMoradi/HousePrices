{
 "cells": [
  {
   "cell_type": "code",
   "execution_count": 1,
   "id": "35286e9d",
   "metadata": {
    "execution": {
     "iopub.execute_input": "2024-10-07T09:33:31.276402Z",
     "iopub.status.busy": "2024-10-07T09:33:31.275204Z",
     "iopub.status.idle": "2024-10-07T09:33:34.401301Z",
     "shell.execute_reply": "2024-10-07T09:33:34.400116Z"
    },
    "papermill": {
     "duration": 3.142011,
     "end_time": "2024-10-07T09:33:34.404254",
     "exception": false,
     "start_time": "2024-10-07T09:33:31.262243",
     "status": "completed"
    },
    "tags": []
   },
   "outputs": [],
   "source": [
    "import numpy as np\n",
    "import pandas as pd\n",
    "import os\n",
    "from pathlib import Path\n",
    "import matplotlib as plt\n",
    "from sklearn.neighbors import KNeighborsClassifier\n",
    "from sklearn.model_selection import cross_val_score\n",
    "from sklearn.model_selection import cross_val_predict\n",
    "from sklearn.metrics import ConfusionMatrixDisplay\n",
    "from sklearn.pipeline import Pipeline\n",
    "from sklearn.model_selection import GridSearchCV\n",
    "from scipy.ndimage import shift\n",
    "from IPython.display import clear_output\n",
    "from sklearn.impute import SimpleImputer\n",
    "from sklearn.preprocessing import OneHotEncoder\n",
    "from sklearn.tree import DecisionTreeClassifier\n",
    "from sklearn.ensemble import RandomForestClassifier\n",
    "from sklearn.preprocessing import OrdinalEncoder\n",
    "import seaborn\n",
    "from sklearn.preprocessing import StandardScaler\n",
    "from sklearn.svm import SVC\n",
    "from sklearn.svm import SVR\n",
    "from sklearn.svm import LinearSVR\n",
    "from sklearn.linear_model import LinearRegression\n",
    "from sklearn.ensemble import RandomForestRegressor\n",
    "from sklearn.preprocessing import PolynomialFeatures"
   ]
  },
  {
   "cell_type": "code",
   "execution_count": 2,
   "id": "f2d6e604",
   "metadata": {
    "execution": {
     "iopub.execute_input": "2024-10-07T09:33:34.427473Z",
     "iopub.status.busy": "2024-10-07T09:33:34.426902Z",
     "iopub.status.idle": "2024-10-07T09:33:34.435891Z",
     "shell.execute_reply": "2024-10-07T09:33:34.434640Z"
    },
    "papermill": {
     "duration": 0.023144,
     "end_time": "2024-10-07T09:33:34.438196",
     "exception": false,
     "start_time": "2024-10-07T09:33:34.415052",
     "status": "completed"
    },
    "tags": []
   },
   "outputs": [
    {
     "name": "stdout",
     "output_type": "stream",
     "text": [
      "/kaggle/input/house-prices-advanced-regression-techniques/sample_submission.csv\n",
      "/kaggle/input/house-prices-advanced-regression-techniques/data_description.txt\n",
      "/kaggle/input/house-prices-advanced-regression-techniques/train.csv\n",
      "/kaggle/input/house-prices-advanced-regression-techniques/test.csv\n"
     ]
    }
   ],
   "source": [
    "import os\n",
    "for dirname, _, filenames in os.walk('/kaggle/input'):\n",
    "    for filename in filenames:\n",
    "        print(os.path.join(dirname, filename))"
   ]
  },
  {
   "cell_type": "code",
   "execution_count": 3,
   "id": "d59acb25",
   "metadata": {
    "execution": {
     "iopub.execute_input": "2024-10-07T09:33:34.460686Z",
     "iopub.status.busy": "2024-10-07T09:33:34.459842Z",
     "iopub.status.idle": "2024-10-07T09:33:34.567497Z",
     "shell.execute_reply": "2024-10-07T09:33:34.566466Z"
    },
    "papermill": {
     "duration": 0.121673,
     "end_time": "2024-10-07T09:33:34.570139",
     "exception": false,
     "start_time": "2024-10-07T09:33:34.448466",
     "status": "completed"
    },
    "tags": []
   },
   "outputs": [],
   "source": [
    "train_data = pd.read_csv(Path(\"/kaggle/input/house-prices-advanced-regression-techniques/train.csv\"))\n",
    "test_data = pd.read_csv(Path(\"/kaggle/input/house-prices-advanced-regression-techniques/test.csv\"))\n",
    "sample_submission = pd.read_csv(Path(\"/kaggle/input/house-prices-advanced-regression-techniques/sample_submission.csv\"))\n",
    "train_data = train_data.drop(\"Id\",axis=1)\n",
    "test_data = test_data.drop(\"Id\",axis=1)"
   ]
  },
  {
   "cell_type": "code",
   "execution_count": 4,
   "id": "2565cd3e",
   "metadata": {
    "execution": {
     "iopub.execute_input": "2024-10-07T09:33:34.593650Z",
     "iopub.status.busy": "2024-10-07T09:33:34.593205Z",
     "iopub.status.idle": "2024-10-07T09:33:34.601022Z",
     "shell.execute_reply": "2024-10-07T09:33:34.600007Z"
    },
    "papermill": {
     "duration": 0.022029,
     "end_time": "2024-10-07T09:33:34.603491",
     "exception": false,
     "start_time": "2024-10-07T09:33:34.581462",
     "status": "completed"
    },
    "tags": []
   },
   "outputs": [],
   "source": [
    "X_train_data = train_data.drop(\"SalePrice\",axis=1)\n",
    "y_train_data = train_data[\"SalePrice\"]"
   ]
  },
  {
   "cell_type": "code",
   "execution_count": 5,
   "id": "60c868ed",
   "metadata": {
    "execution": {
     "iopub.execute_input": "2024-10-07T09:33:34.626724Z",
     "iopub.status.busy": "2024-10-07T09:33:34.626273Z",
     "iopub.status.idle": "2024-10-07T09:33:34.664958Z",
     "shell.execute_reply": "2024-10-07T09:33:34.663860Z"
    },
    "papermill": {
     "duration": 0.053194,
     "end_time": "2024-10-07T09:33:34.667904",
     "exception": false,
     "start_time": "2024-10-07T09:33:34.614710",
     "status": "completed"
    },
    "tags": []
   },
   "outputs": [
    {
     "name": "stdout",
     "output_type": "stream",
     "text": [
      "<class 'pandas.core.frame.DataFrame'>\n",
      "RangeIndex: 1460 entries, 0 to 1459\n",
      "Data columns (total 79 columns):\n",
      " #   Column         Non-Null Count  Dtype  \n",
      "---  ------         --------------  -----  \n",
      " 0   MSSubClass     1460 non-null   int64  \n",
      " 1   MSZoning       1460 non-null   object \n",
      " 2   LotFrontage    1201 non-null   float64\n",
      " 3   LotArea        1460 non-null   int64  \n",
      " 4   Street         1460 non-null   object \n",
      " 5   Alley          91 non-null     object \n",
      " 6   LotShape       1460 non-null   object \n",
      " 7   LandContour    1460 non-null   object \n",
      " 8   Utilities      1460 non-null   object \n",
      " 9   LotConfig      1460 non-null   object \n",
      " 10  LandSlope      1460 non-null   object \n",
      " 11  Neighborhood   1460 non-null   object \n",
      " 12  Condition1     1460 non-null   object \n",
      " 13  Condition2     1460 non-null   object \n",
      " 14  BldgType       1460 non-null   object \n",
      " 15  HouseStyle     1460 non-null   object \n",
      " 16  OverallQual    1460 non-null   int64  \n",
      " 17  OverallCond    1460 non-null   int64  \n",
      " 18  YearBuilt      1460 non-null   int64  \n",
      " 19  YearRemodAdd   1460 non-null   int64  \n",
      " 20  RoofStyle      1460 non-null   object \n",
      " 21  RoofMatl       1460 non-null   object \n",
      " 22  Exterior1st    1460 non-null   object \n",
      " 23  Exterior2nd    1460 non-null   object \n",
      " 24  MasVnrType     588 non-null    object \n",
      " 25  MasVnrArea     1452 non-null   float64\n",
      " 26  ExterQual      1460 non-null   object \n",
      " 27  ExterCond      1460 non-null   object \n",
      " 28  Foundation     1460 non-null   object \n",
      " 29  BsmtQual       1423 non-null   object \n",
      " 30  BsmtCond       1423 non-null   object \n",
      " 31  BsmtExposure   1422 non-null   object \n",
      " 32  BsmtFinType1   1423 non-null   object \n",
      " 33  BsmtFinSF1     1460 non-null   int64  \n",
      " 34  BsmtFinType2   1422 non-null   object \n",
      " 35  BsmtFinSF2     1460 non-null   int64  \n",
      " 36  BsmtUnfSF      1460 non-null   int64  \n",
      " 37  TotalBsmtSF    1460 non-null   int64  \n",
      " 38  Heating        1460 non-null   object \n",
      " 39  HeatingQC      1460 non-null   object \n",
      " 40  CentralAir     1460 non-null   object \n",
      " 41  Electrical     1459 non-null   object \n",
      " 42  1stFlrSF       1460 non-null   int64  \n",
      " 43  2ndFlrSF       1460 non-null   int64  \n",
      " 44  LowQualFinSF   1460 non-null   int64  \n",
      " 45  GrLivArea      1460 non-null   int64  \n",
      " 46  BsmtFullBath   1460 non-null   int64  \n",
      " 47  BsmtHalfBath   1460 non-null   int64  \n",
      " 48  FullBath       1460 non-null   int64  \n",
      " 49  HalfBath       1460 non-null   int64  \n",
      " 50  BedroomAbvGr   1460 non-null   int64  \n",
      " 51  KitchenAbvGr   1460 non-null   int64  \n",
      " 52  KitchenQual    1460 non-null   object \n",
      " 53  TotRmsAbvGrd   1460 non-null   int64  \n",
      " 54  Functional     1460 non-null   object \n",
      " 55  Fireplaces     1460 non-null   int64  \n",
      " 56  FireplaceQu    770 non-null    object \n",
      " 57  GarageType     1379 non-null   object \n",
      " 58  GarageYrBlt    1379 non-null   float64\n",
      " 59  GarageFinish   1379 non-null   object \n",
      " 60  GarageCars     1460 non-null   int64  \n",
      " 61  GarageArea     1460 non-null   int64  \n",
      " 62  GarageQual     1379 non-null   object \n",
      " 63  GarageCond     1379 non-null   object \n",
      " 64  PavedDrive     1460 non-null   object \n",
      " 65  WoodDeckSF     1460 non-null   int64  \n",
      " 66  OpenPorchSF    1460 non-null   int64  \n",
      " 67  EnclosedPorch  1460 non-null   int64  \n",
      " 68  3SsnPorch      1460 non-null   int64  \n",
      " 69  ScreenPorch    1460 non-null   int64  \n",
      " 70  PoolArea       1460 non-null   int64  \n",
      " 71  PoolQC         7 non-null      object \n",
      " 72  Fence          281 non-null    object \n",
      " 73  MiscFeature    54 non-null     object \n",
      " 74  MiscVal        1460 non-null   int64  \n",
      " 75  MoSold         1460 non-null   int64  \n",
      " 76  YrSold         1460 non-null   int64  \n",
      " 77  SaleType       1460 non-null   object \n",
      " 78  SaleCondition  1460 non-null   object \n",
      "dtypes: float64(3), int64(33), object(43)\n",
      "memory usage: 901.2+ KB\n"
     ]
    }
   ],
   "source": [
    "X_train_data.info()"
   ]
  },
  {
   "cell_type": "code",
   "execution_count": 6,
   "id": "116933ae",
   "metadata": {
    "execution": {
     "iopub.execute_input": "2024-10-07T09:33:34.693856Z",
     "iopub.status.busy": "2024-10-07T09:33:34.692291Z",
     "iopub.status.idle": "2024-10-07T09:33:34.722291Z",
     "shell.execute_reply": "2024-10-07T09:33:34.720954Z"
    },
    "papermill": {
     "duration": 0.047296,
     "end_time": "2024-10-07T09:33:34.726543",
     "exception": false,
     "start_time": "2024-10-07T09:33:34.679247",
     "status": "completed"
    },
    "tags": []
   },
   "outputs": [
    {
     "name": "stdout",
     "output_type": "stream",
     "text": [
      "<class 'pandas.core.frame.DataFrame'>\n",
      "RangeIndex: 1459 entries, 0 to 1458\n",
      "Data columns (total 79 columns):\n",
      " #   Column         Non-Null Count  Dtype  \n",
      "---  ------         --------------  -----  \n",
      " 0   MSSubClass     1459 non-null   int64  \n",
      " 1   MSZoning       1455 non-null   object \n",
      " 2   LotFrontage    1232 non-null   float64\n",
      " 3   LotArea        1459 non-null   int64  \n",
      " 4   Street         1459 non-null   object \n",
      " 5   Alley          107 non-null    object \n",
      " 6   LotShape       1459 non-null   object \n",
      " 7   LandContour    1459 non-null   object \n",
      " 8   Utilities      1457 non-null   object \n",
      " 9   LotConfig      1459 non-null   object \n",
      " 10  LandSlope      1459 non-null   object \n",
      " 11  Neighborhood   1459 non-null   object \n",
      " 12  Condition1     1459 non-null   object \n",
      " 13  Condition2     1459 non-null   object \n",
      " 14  BldgType       1459 non-null   object \n",
      " 15  HouseStyle     1459 non-null   object \n",
      " 16  OverallQual    1459 non-null   int64  \n",
      " 17  OverallCond    1459 non-null   int64  \n",
      " 18  YearBuilt      1459 non-null   int64  \n",
      " 19  YearRemodAdd   1459 non-null   int64  \n",
      " 20  RoofStyle      1459 non-null   object \n",
      " 21  RoofMatl       1459 non-null   object \n",
      " 22  Exterior1st    1458 non-null   object \n",
      " 23  Exterior2nd    1458 non-null   object \n",
      " 24  MasVnrType     565 non-null    object \n",
      " 25  MasVnrArea     1444 non-null   float64\n",
      " 26  ExterQual      1459 non-null   object \n",
      " 27  ExterCond      1459 non-null   object \n",
      " 28  Foundation     1459 non-null   object \n",
      " 29  BsmtQual       1415 non-null   object \n",
      " 30  BsmtCond       1414 non-null   object \n",
      " 31  BsmtExposure   1415 non-null   object \n",
      " 32  BsmtFinType1   1417 non-null   object \n",
      " 33  BsmtFinSF1     1458 non-null   float64\n",
      " 34  BsmtFinType2   1417 non-null   object \n",
      " 35  BsmtFinSF2     1458 non-null   float64\n",
      " 36  BsmtUnfSF      1458 non-null   float64\n",
      " 37  TotalBsmtSF    1458 non-null   float64\n",
      " 38  Heating        1459 non-null   object \n",
      " 39  HeatingQC      1459 non-null   object \n",
      " 40  CentralAir     1459 non-null   object \n",
      " 41  Electrical     1459 non-null   object \n",
      " 42  1stFlrSF       1459 non-null   int64  \n",
      " 43  2ndFlrSF       1459 non-null   int64  \n",
      " 44  LowQualFinSF   1459 non-null   int64  \n",
      " 45  GrLivArea      1459 non-null   int64  \n",
      " 46  BsmtFullBath   1457 non-null   float64\n",
      " 47  BsmtHalfBath   1457 non-null   float64\n",
      " 48  FullBath       1459 non-null   int64  \n",
      " 49  HalfBath       1459 non-null   int64  \n",
      " 50  BedroomAbvGr   1459 non-null   int64  \n",
      " 51  KitchenAbvGr   1459 non-null   int64  \n",
      " 52  KitchenQual    1458 non-null   object \n",
      " 53  TotRmsAbvGrd   1459 non-null   int64  \n",
      " 54  Functional     1457 non-null   object \n",
      " 55  Fireplaces     1459 non-null   int64  \n",
      " 56  FireplaceQu    729 non-null    object \n",
      " 57  GarageType     1383 non-null   object \n",
      " 58  GarageYrBlt    1381 non-null   float64\n",
      " 59  GarageFinish   1381 non-null   object \n",
      " 60  GarageCars     1458 non-null   float64\n",
      " 61  GarageArea     1458 non-null   float64\n",
      " 62  GarageQual     1381 non-null   object \n",
      " 63  GarageCond     1381 non-null   object \n",
      " 64  PavedDrive     1459 non-null   object \n",
      " 65  WoodDeckSF     1459 non-null   int64  \n",
      " 66  OpenPorchSF    1459 non-null   int64  \n",
      " 67  EnclosedPorch  1459 non-null   int64  \n",
      " 68  3SsnPorch      1459 non-null   int64  \n",
      " 69  ScreenPorch    1459 non-null   int64  \n",
      " 70  PoolArea       1459 non-null   int64  \n",
      " 71  PoolQC         3 non-null      object \n",
      " 72  Fence          290 non-null    object \n",
      " 73  MiscFeature    51 non-null     object \n",
      " 74  MiscVal        1459 non-null   int64  \n",
      " 75  MoSold         1459 non-null   int64  \n",
      " 76  YrSold         1459 non-null   int64  \n",
      " 77  SaleType       1458 non-null   object \n",
      " 78  SaleCondition  1459 non-null   object \n",
      "dtypes: float64(11), int64(25), object(43)\n",
      "memory usage: 900.6+ KB\n"
     ]
    }
   ],
   "source": [
    "test_data.info()"
   ]
  },
  {
   "cell_type": "code",
   "execution_count": 7,
   "id": "a360a765",
   "metadata": {
    "execution": {
     "iopub.execute_input": "2024-10-07T09:33:34.756049Z",
     "iopub.status.busy": "2024-10-07T09:33:34.755611Z",
     "iopub.status.idle": "2024-10-07T09:33:34.786669Z",
     "shell.execute_reply": "2024-10-07T09:33:34.785507Z"
    },
    "papermill": {
     "duration": 0.050299,
     "end_time": "2024-10-07T09:33:34.789279",
     "exception": false,
     "start_time": "2024-10-07T09:33:34.738980",
     "status": "completed"
    },
    "tags": []
   },
   "outputs": [
    {
     "data": {
      "text/html": [
       "<div>\n",
       "<style scoped>\n",
       "    .dataframe tbody tr th:only-of-type {\n",
       "        vertical-align: middle;\n",
       "    }\n",
       "\n",
       "    .dataframe tbody tr th {\n",
       "        vertical-align: top;\n",
       "    }\n",
       "\n",
       "    .dataframe thead th {\n",
       "        text-align: right;\n",
       "    }\n",
       "</style>\n",
       "<table border=\"1\" class=\"dataframe\">\n",
       "  <thead>\n",
       "    <tr style=\"text-align: right;\">\n",
       "      <th></th>\n",
       "      <th>MSSubClass</th>\n",
       "      <th>MSZoning</th>\n",
       "      <th>LotFrontage</th>\n",
       "      <th>LotArea</th>\n",
       "      <th>Street</th>\n",
       "      <th>Alley</th>\n",
       "      <th>LotShape</th>\n",
       "      <th>LandContour</th>\n",
       "      <th>Utilities</th>\n",
       "      <th>LotConfig</th>\n",
       "      <th>...</th>\n",
       "      <th>ScreenPorch</th>\n",
       "      <th>PoolArea</th>\n",
       "      <th>PoolQC</th>\n",
       "      <th>Fence</th>\n",
       "      <th>MiscFeature</th>\n",
       "      <th>MiscVal</th>\n",
       "      <th>MoSold</th>\n",
       "      <th>YrSold</th>\n",
       "      <th>SaleType</th>\n",
       "      <th>SaleCondition</th>\n",
       "    </tr>\n",
       "  </thead>\n",
       "  <tbody>\n",
       "    <tr>\n",
       "      <th>0</th>\n",
       "      <td>60</td>\n",
       "      <td>RL</td>\n",
       "      <td>65.0</td>\n",
       "      <td>8450</td>\n",
       "      <td>Pave</td>\n",
       "      <td>NaN</td>\n",
       "      <td>Reg</td>\n",
       "      <td>Lvl</td>\n",
       "      <td>AllPub</td>\n",
       "      <td>Inside</td>\n",
       "      <td>...</td>\n",
       "      <td>0</td>\n",
       "      <td>0</td>\n",
       "      <td>NaN</td>\n",
       "      <td>NaN</td>\n",
       "      <td>NaN</td>\n",
       "      <td>0</td>\n",
       "      <td>2</td>\n",
       "      <td>2008</td>\n",
       "      <td>WD</td>\n",
       "      <td>Normal</td>\n",
       "    </tr>\n",
       "    <tr>\n",
       "      <th>1</th>\n",
       "      <td>20</td>\n",
       "      <td>RL</td>\n",
       "      <td>80.0</td>\n",
       "      <td>9600</td>\n",
       "      <td>Pave</td>\n",
       "      <td>NaN</td>\n",
       "      <td>Reg</td>\n",
       "      <td>Lvl</td>\n",
       "      <td>AllPub</td>\n",
       "      <td>FR2</td>\n",
       "      <td>...</td>\n",
       "      <td>0</td>\n",
       "      <td>0</td>\n",
       "      <td>NaN</td>\n",
       "      <td>NaN</td>\n",
       "      <td>NaN</td>\n",
       "      <td>0</td>\n",
       "      <td>5</td>\n",
       "      <td>2007</td>\n",
       "      <td>WD</td>\n",
       "      <td>Normal</td>\n",
       "    </tr>\n",
       "    <tr>\n",
       "      <th>2</th>\n",
       "      <td>60</td>\n",
       "      <td>RL</td>\n",
       "      <td>68.0</td>\n",
       "      <td>11250</td>\n",
       "      <td>Pave</td>\n",
       "      <td>NaN</td>\n",
       "      <td>IR1</td>\n",
       "      <td>Lvl</td>\n",
       "      <td>AllPub</td>\n",
       "      <td>Inside</td>\n",
       "      <td>...</td>\n",
       "      <td>0</td>\n",
       "      <td>0</td>\n",
       "      <td>NaN</td>\n",
       "      <td>NaN</td>\n",
       "      <td>NaN</td>\n",
       "      <td>0</td>\n",
       "      <td>9</td>\n",
       "      <td>2008</td>\n",
       "      <td>WD</td>\n",
       "      <td>Normal</td>\n",
       "    </tr>\n",
       "    <tr>\n",
       "      <th>3</th>\n",
       "      <td>70</td>\n",
       "      <td>RL</td>\n",
       "      <td>60.0</td>\n",
       "      <td>9550</td>\n",
       "      <td>Pave</td>\n",
       "      <td>NaN</td>\n",
       "      <td>IR1</td>\n",
       "      <td>Lvl</td>\n",
       "      <td>AllPub</td>\n",
       "      <td>Corner</td>\n",
       "      <td>...</td>\n",
       "      <td>0</td>\n",
       "      <td>0</td>\n",
       "      <td>NaN</td>\n",
       "      <td>NaN</td>\n",
       "      <td>NaN</td>\n",
       "      <td>0</td>\n",
       "      <td>2</td>\n",
       "      <td>2006</td>\n",
       "      <td>WD</td>\n",
       "      <td>Abnorml</td>\n",
       "    </tr>\n",
       "    <tr>\n",
       "      <th>4</th>\n",
       "      <td>60</td>\n",
       "      <td>RL</td>\n",
       "      <td>84.0</td>\n",
       "      <td>14260</td>\n",
       "      <td>Pave</td>\n",
       "      <td>NaN</td>\n",
       "      <td>IR1</td>\n",
       "      <td>Lvl</td>\n",
       "      <td>AllPub</td>\n",
       "      <td>FR2</td>\n",
       "      <td>...</td>\n",
       "      <td>0</td>\n",
       "      <td>0</td>\n",
       "      <td>NaN</td>\n",
       "      <td>NaN</td>\n",
       "      <td>NaN</td>\n",
       "      <td>0</td>\n",
       "      <td>12</td>\n",
       "      <td>2008</td>\n",
       "      <td>WD</td>\n",
       "      <td>Normal</td>\n",
       "    </tr>\n",
       "  </tbody>\n",
       "</table>\n",
       "<p>5 rows × 79 columns</p>\n",
       "</div>"
      ],
      "text/plain": [
       "   MSSubClass MSZoning  LotFrontage  LotArea Street Alley LotShape  \\\n",
       "0          60       RL         65.0     8450   Pave   NaN      Reg   \n",
       "1          20       RL         80.0     9600   Pave   NaN      Reg   \n",
       "2          60       RL         68.0    11250   Pave   NaN      IR1   \n",
       "3          70       RL         60.0     9550   Pave   NaN      IR1   \n",
       "4          60       RL         84.0    14260   Pave   NaN      IR1   \n",
       "\n",
       "  LandContour Utilities LotConfig  ... ScreenPorch PoolArea PoolQC Fence  \\\n",
       "0         Lvl    AllPub    Inside  ...           0        0    NaN   NaN   \n",
       "1         Lvl    AllPub       FR2  ...           0        0    NaN   NaN   \n",
       "2         Lvl    AllPub    Inside  ...           0        0    NaN   NaN   \n",
       "3         Lvl    AllPub    Corner  ...           0        0    NaN   NaN   \n",
       "4         Lvl    AllPub       FR2  ...           0        0    NaN   NaN   \n",
       "\n",
       "  MiscFeature MiscVal  MoSold  YrSold  SaleType  SaleCondition  \n",
       "0         NaN       0       2    2008        WD         Normal  \n",
       "1         NaN       0       5    2007        WD         Normal  \n",
       "2         NaN       0       9    2008        WD         Normal  \n",
       "3         NaN       0       2    2006        WD        Abnorml  \n",
       "4         NaN       0      12    2008        WD         Normal  \n",
       "\n",
       "[5 rows x 79 columns]"
      ]
     },
     "execution_count": 7,
     "metadata": {},
     "output_type": "execute_result"
    }
   ],
   "source": [
    "X_train_data.head()"
   ]
  },
  {
   "cell_type": "markdown",
   "id": "9c2751f0",
   "metadata": {
    "papermill": {
     "duration": 0.013889,
     "end_time": "2024-10-07T09:33:34.814672",
     "exception": false,
     "start_time": "2024-10-07T09:33:34.800783",
     "status": "completed"
    },
    "tags": []
   },
   "source": [
    "**Prepairing the data :**"
   ]
  },
  {
   "cell_type": "code",
   "execution_count": 8,
   "id": "8c197a31",
   "metadata": {
    "execution": {
     "iopub.execute_input": "2024-10-07T09:33:34.843093Z",
     "iopub.status.busy": "2024-10-07T09:33:34.842569Z",
     "iopub.status.idle": "2024-10-07T09:33:34.946531Z",
     "shell.execute_reply": "2024-10-07T09:33:34.945202Z"
    },
    "papermill": {
     "duration": 0.121551,
     "end_time": "2024-10-07T09:33:34.950389",
     "exception": false,
     "start_time": "2024-10-07T09:33:34.828838",
     "status": "completed"
    },
    "tags": []
   },
   "outputs": [
    {
     "data": {
      "text/html": [
       "<style>#sk-container-id-1 {color: black;background-color: white;}#sk-container-id-1 pre{padding: 0;}#sk-container-id-1 div.sk-toggleable {background-color: white;}#sk-container-id-1 label.sk-toggleable__label {cursor: pointer;display: block;width: 100%;margin-bottom: 0;padding: 0.3em;box-sizing: border-box;text-align: center;}#sk-container-id-1 label.sk-toggleable__label-arrow:before {content: \"▸\";float: left;margin-right: 0.25em;color: #696969;}#sk-container-id-1 label.sk-toggleable__label-arrow:hover:before {color: black;}#sk-container-id-1 div.sk-estimator:hover label.sk-toggleable__label-arrow:before {color: black;}#sk-container-id-1 div.sk-toggleable__content {max-height: 0;max-width: 0;overflow: hidden;text-align: left;background-color: #f0f8ff;}#sk-container-id-1 div.sk-toggleable__content pre {margin: 0.2em;color: black;border-radius: 0.25em;background-color: #f0f8ff;}#sk-container-id-1 input.sk-toggleable__control:checked~div.sk-toggleable__content {max-height: 200px;max-width: 100%;overflow: auto;}#sk-container-id-1 input.sk-toggleable__control:checked~label.sk-toggleable__label-arrow:before {content: \"▾\";}#sk-container-id-1 div.sk-estimator input.sk-toggleable__control:checked~label.sk-toggleable__label {background-color: #d4ebff;}#sk-container-id-1 div.sk-label input.sk-toggleable__control:checked~label.sk-toggleable__label {background-color: #d4ebff;}#sk-container-id-1 input.sk-hidden--visually {border: 0;clip: rect(1px 1px 1px 1px);clip: rect(1px, 1px, 1px, 1px);height: 1px;margin: -1px;overflow: hidden;padding: 0;position: absolute;width: 1px;}#sk-container-id-1 div.sk-estimator {font-family: monospace;background-color: #f0f8ff;border: 1px dotted black;border-radius: 0.25em;box-sizing: border-box;margin-bottom: 0.5em;}#sk-container-id-1 div.sk-estimator:hover {background-color: #d4ebff;}#sk-container-id-1 div.sk-parallel-item::after {content: \"\";width: 100%;border-bottom: 1px solid gray;flex-grow: 1;}#sk-container-id-1 div.sk-label:hover label.sk-toggleable__label {background-color: #d4ebff;}#sk-container-id-1 div.sk-serial::before {content: \"\";position: absolute;border-left: 1px solid gray;box-sizing: border-box;top: 0;bottom: 0;left: 50%;z-index: 0;}#sk-container-id-1 div.sk-serial {display: flex;flex-direction: column;align-items: center;background-color: white;padding-right: 0.2em;padding-left: 0.2em;position: relative;}#sk-container-id-1 div.sk-item {position: relative;z-index: 1;}#sk-container-id-1 div.sk-parallel {display: flex;align-items: stretch;justify-content: center;background-color: white;position: relative;}#sk-container-id-1 div.sk-item::before, #sk-container-id-1 div.sk-parallel-item::before {content: \"\";position: absolute;border-left: 1px solid gray;box-sizing: border-box;top: 0;bottom: 0;left: 50%;z-index: -1;}#sk-container-id-1 div.sk-parallel-item {display: flex;flex-direction: column;z-index: 1;position: relative;background-color: white;}#sk-container-id-1 div.sk-parallel-item:first-child::after {align-self: flex-end;width: 50%;}#sk-container-id-1 div.sk-parallel-item:last-child::after {align-self: flex-start;width: 50%;}#sk-container-id-1 div.sk-parallel-item:only-child::after {width: 0;}#sk-container-id-1 div.sk-dashed-wrapped {border: 1px dashed gray;margin: 0 0.4em 0.5em 0.4em;box-sizing: border-box;padding-bottom: 0.4em;background-color: white;}#sk-container-id-1 div.sk-label label {font-family: monospace;font-weight: bold;display: inline-block;line-height: 1.2em;}#sk-container-id-1 div.sk-label-container {text-align: center;}#sk-container-id-1 div.sk-container {/* jupyter's `normalize.less` sets `[hidden] { display: none; }` but bootstrap.min.css set `[hidden] { display: none !important; }` so we also need the `!important` here to be able to override the default hidden behavior on the sphinx rendered scikit-learn.org. See: https://github.com/scikit-learn/scikit-learn/issues/21755 */display: inline-block !important;position: relative;}#sk-container-id-1 div.sk-text-repr-fallback {display: none;}</style><div id=\"sk-container-id-1\" class=\"sk-top-container\"><div class=\"sk-text-repr-fallback\"><pre>SimpleImputer(strategy=&#x27;most_frequent&#x27;)</pre><b>In a Jupyter environment, please rerun this cell to show the HTML representation or trust the notebook. <br />On GitHub, the HTML representation is unable to render, please try loading this page with nbviewer.org.</b></div><div class=\"sk-container\" hidden><div class=\"sk-item\"><div class=\"sk-estimator sk-toggleable\"><input class=\"sk-toggleable__control sk-hidden--visually\" id=\"sk-estimator-id-1\" type=\"checkbox\" checked><label for=\"sk-estimator-id-1\" class=\"sk-toggleable__label sk-toggleable__label-arrow\">SimpleImputer</label><div class=\"sk-toggleable__content\"><pre>SimpleImputer(strategy=&#x27;most_frequent&#x27;)</pre></div></div></div></div></div>"
      ],
      "text/plain": [
       "SimpleImputer(strategy='most_frequent')"
      ]
     },
     "execution_count": 8,
     "metadata": {},
     "output_type": "execute_result"
    }
   ],
   "source": [
    "imputer = SimpleImputer(strategy=\"most_frequent\")\n",
    "imputer.fit(pd.concat([X_train_data,test_data]))"
   ]
  },
  {
   "cell_type": "code",
   "execution_count": 9,
   "id": "635ac335",
   "metadata": {
    "execution": {
     "iopub.execute_input": "2024-10-07T09:33:34.990132Z",
     "iopub.status.busy": "2024-10-07T09:33:34.989681Z",
     "iopub.status.idle": "2024-10-07T09:33:35.033428Z",
     "shell.execute_reply": "2024-10-07T09:33:35.031641Z"
    },
    "papermill": {
     "duration": 0.06442,
     "end_time": "2024-10-07T09:33:35.036643",
     "exception": false,
     "start_time": "2024-10-07T09:33:34.972223",
     "status": "completed"
    },
    "tags": []
   },
   "outputs": [],
   "source": [
    "c = X_train_data.columns\n",
    "i_train = X_train_data.index\n",
    "i_test = test_data.index\n",
    "X_train_data = pd.DataFrame(imputer.transform(X_train_data),columns = c,index = i_train)\n",
    "test_data = pd.DataFrame(imputer.transform(test_data),columns = c,index=i_test)"
   ]
  },
  {
   "cell_type": "code",
   "execution_count": 10,
   "id": "8305aec9",
   "metadata": {
    "execution": {
     "iopub.execute_input": "2024-10-07T09:33:35.062264Z",
     "iopub.status.busy": "2024-10-07T09:33:35.061168Z",
     "iopub.status.idle": "2024-10-07T09:33:35.068914Z",
     "shell.execute_reply": "2024-10-07T09:33:35.067814Z"
    },
    "papermill": {
     "duration": 0.023019,
     "end_time": "2024-10-07T09:33:35.071190",
     "exception": false,
     "start_time": "2024-10-07T09:33:35.048171",
     "status": "completed"
    },
    "tags": []
   },
   "outputs": [],
   "source": [
    " str_cat = [ \"MSZoning\"      ,\n",
    "  \"Street\"        ,\n",
    "  \"Alley\"         ,\n",
    "  \"LotShape\"      ,\n",
    "  \"LandContour\"   ,\n",
    "  \"Utilities\"     ,\n",
    "  \"LotConfig\"     ,\n",
    "  \"LandSlope\"     ,\n",
    "  \"Neighborhood\"  ,\n",
    "  \"Condition1\"    ,\n",
    "  \"Condition2\"    ,\n",
    "  \"BldgType\"      ,\n",
    "  \"HouseStyle\"    ,\n",
    "  \"RoofStyle\"     ,\n",
    "  \"RoofMatl\"      ,\n",
    "  \"Exterior1st\"   ,\n",
    "  \"Exterior2nd\"   ,\n",
    "  \"MasVnrType\"    ,\n",
    "  \"ExterQual\"     ,\n",
    "  \"ExterCond\"     ,\n",
    "  \"Foundation\"    ,\n",
    "  \"BsmtQual\"      ,\n",
    "  \"BsmtCond\"      ,\n",
    "  \"BsmtExposure\"  ,\n",
    "  \"BsmtFinType1\"  ,\n",
    "  \"BsmtFinType2\"  ,\n",
    "  \"Heating\"       ,\n",
    "  \"HeatingQC\"     ,\n",
    "  \"CentralAir\"    ,\n",
    "  \"Electrical\"    ,\n",
    "  \"KitchenQual\"   ,\n",
    "  \"Functional\"    ,\n",
    "  \"FireplaceQu\"   ,\n",
    "  \"GarageType\"    ,\n",
    "  \"GarageFinish\"  ,\n",
    "  \"GarageQual\"    ,\n",
    "  \"GarageCond\"    ,\n",
    "  \"PavedDrive\"    ,\n",
    "  \"PoolQC\"        ,\n",
    "  \"Fence\"         ,\n",
    "  \"MiscFeature\"   ,\n",
    "  \"SaleCondition\" ,\n",
    "  \"SaleType\"      ]"
   ]
  },
  {
   "cell_type": "code",
   "execution_count": 11,
   "id": "09ff46db",
   "metadata": {
    "execution": {
     "iopub.execute_input": "2024-10-07T09:33:35.096534Z",
     "iopub.status.busy": "2024-10-07T09:33:35.095392Z",
     "iopub.status.idle": "2024-10-07T09:33:35.102917Z",
     "shell.execute_reply": "2024-10-07T09:33:35.101663Z"
    },
    "papermill": {
     "duration": 0.022899,
     "end_time": "2024-10-07T09:33:35.105496",
     "exception": false,
     "start_time": "2024-10-07T09:33:35.082597",
     "status": "completed"
    },
    "tags": []
   },
   "outputs": [],
   "source": [
    "def OneHotE(dataframe,cat_col,cat_encoder):\n",
    "    dataframe_num = dataframe.drop(cat_col,axis=1)\n",
    "    dataframe_cat = dataframe[cat_col]\n",
    "    dataframe_cat = cat_encoder.transform(dataframe_cat)\n",
    "    dataframe_cat = pd.DataFrame(dataframe_cat.toarray(),columns=cat_encoder.get_feature_names_out(),index=dataframe.index)\n",
    "    dataframe = pd.concat([dataframe_num,dataframe_cat],axis=1)    \n",
    "    return dataframe"
   ]
  },
  {
   "cell_type": "code",
   "execution_count": 12,
   "id": "55a066c7",
   "metadata": {
    "execution": {
     "iopub.execute_input": "2024-10-07T09:33:35.130651Z",
     "iopub.status.busy": "2024-10-07T09:33:35.129433Z",
     "iopub.status.idle": "2024-10-07T09:33:35.134985Z",
     "shell.execute_reply": "2024-10-07T09:33:35.133902Z"
    },
    "papermill": {
     "duration": 0.020566,
     "end_time": "2024-10-07T09:33:35.137464",
     "exception": false,
     "start_time": "2024-10-07T09:33:35.116898",
     "status": "completed"
    },
    "tags": []
   },
   "outputs": [],
   "source": [
    "cat_encoder = OneHotEncoder()"
   ]
  },
  {
   "cell_type": "code",
   "execution_count": 13,
   "id": "3d38740e",
   "metadata": {
    "execution": {
     "iopub.execute_input": "2024-10-07T09:33:35.162106Z",
     "iopub.status.busy": "2024-10-07T09:33:35.161650Z",
     "iopub.status.idle": "2024-10-07T09:33:35.190048Z",
     "shell.execute_reply": "2024-10-07T09:33:35.188986Z"
    },
    "papermill": {
     "duration": 0.043867,
     "end_time": "2024-10-07T09:33:35.192751",
     "exception": false,
     "start_time": "2024-10-07T09:33:35.148884",
     "status": "completed"
    },
    "tags": []
   },
   "outputs": [
    {
     "data": {
      "text/html": [
       "<style>#sk-container-id-2 {color: black;background-color: white;}#sk-container-id-2 pre{padding: 0;}#sk-container-id-2 div.sk-toggleable {background-color: white;}#sk-container-id-2 label.sk-toggleable__label {cursor: pointer;display: block;width: 100%;margin-bottom: 0;padding: 0.3em;box-sizing: border-box;text-align: center;}#sk-container-id-2 label.sk-toggleable__label-arrow:before {content: \"▸\";float: left;margin-right: 0.25em;color: #696969;}#sk-container-id-2 label.sk-toggleable__label-arrow:hover:before {color: black;}#sk-container-id-2 div.sk-estimator:hover label.sk-toggleable__label-arrow:before {color: black;}#sk-container-id-2 div.sk-toggleable__content {max-height: 0;max-width: 0;overflow: hidden;text-align: left;background-color: #f0f8ff;}#sk-container-id-2 div.sk-toggleable__content pre {margin: 0.2em;color: black;border-radius: 0.25em;background-color: #f0f8ff;}#sk-container-id-2 input.sk-toggleable__control:checked~div.sk-toggleable__content {max-height: 200px;max-width: 100%;overflow: auto;}#sk-container-id-2 input.sk-toggleable__control:checked~label.sk-toggleable__label-arrow:before {content: \"▾\";}#sk-container-id-2 div.sk-estimator input.sk-toggleable__control:checked~label.sk-toggleable__label {background-color: #d4ebff;}#sk-container-id-2 div.sk-label input.sk-toggleable__control:checked~label.sk-toggleable__label {background-color: #d4ebff;}#sk-container-id-2 input.sk-hidden--visually {border: 0;clip: rect(1px 1px 1px 1px);clip: rect(1px, 1px, 1px, 1px);height: 1px;margin: -1px;overflow: hidden;padding: 0;position: absolute;width: 1px;}#sk-container-id-2 div.sk-estimator {font-family: monospace;background-color: #f0f8ff;border: 1px dotted black;border-radius: 0.25em;box-sizing: border-box;margin-bottom: 0.5em;}#sk-container-id-2 div.sk-estimator:hover {background-color: #d4ebff;}#sk-container-id-2 div.sk-parallel-item::after {content: \"\";width: 100%;border-bottom: 1px solid gray;flex-grow: 1;}#sk-container-id-2 div.sk-label:hover label.sk-toggleable__label {background-color: #d4ebff;}#sk-container-id-2 div.sk-serial::before {content: \"\";position: absolute;border-left: 1px solid gray;box-sizing: border-box;top: 0;bottom: 0;left: 50%;z-index: 0;}#sk-container-id-2 div.sk-serial {display: flex;flex-direction: column;align-items: center;background-color: white;padding-right: 0.2em;padding-left: 0.2em;position: relative;}#sk-container-id-2 div.sk-item {position: relative;z-index: 1;}#sk-container-id-2 div.sk-parallel {display: flex;align-items: stretch;justify-content: center;background-color: white;position: relative;}#sk-container-id-2 div.sk-item::before, #sk-container-id-2 div.sk-parallel-item::before {content: \"\";position: absolute;border-left: 1px solid gray;box-sizing: border-box;top: 0;bottom: 0;left: 50%;z-index: -1;}#sk-container-id-2 div.sk-parallel-item {display: flex;flex-direction: column;z-index: 1;position: relative;background-color: white;}#sk-container-id-2 div.sk-parallel-item:first-child::after {align-self: flex-end;width: 50%;}#sk-container-id-2 div.sk-parallel-item:last-child::after {align-self: flex-start;width: 50%;}#sk-container-id-2 div.sk-parallel-item:only-child::after {width: 0;}#sk-container-id-2 div.sk-dashed-wrapped {border: 1px dashed gray;margin: 0 0.4em 0.5em 0.4em;box-sizing: border-box;padding-bottom: 0.4em;background-color: white;}#sk-container-id-2 div.sk-label label {font-family: monospace;font-weight: bold;display: inline-block;line-height: 1.2em;}#sk-container-id-2 div.sk-label-container {text-align: center;}#sk-container-id-2 div.sk-container {/* jupyter's `normalize.less` sets `[hidden] { display: none; }` but bootstrap.min.css set `[hidden] { display: none !important; }` so we also need the `!important` here to be able to override the default hidden behavior on the sphinx rendered scikit-learn.org. See: https://github.com/scikit-learn/scikit-learn/issues/21755 */display: inline-block !important;position: relative;}#sk-container-id-2 div.sk-text-repr-fallback {display: none;}</style><div id=\"sk-container-id-2\" class=\"sk-top-container\"><div class=\"sk-text-repr-fallback\"><pre>OneHotEncoder()</pre><b>In a Jupyter environment, please rerun this cell to show the HTML representation or trust the notebook. <br />On GitHub, the HTML representation is unable to render, please try loading this page with nbviewer.org.</b></div><div class=\"sk-container\" hidden><div class=\"sk-item\"><div class=\"sk-estimator sk-toggleable\"><input class=\"sk-toggleable__control sk-hidden--visually\" id=\"sk-estimator-id-2\" type=\"checkbox\" checked><label for=\"sk-estimator-id-2\" class=\"sk-toggleable__label sk-toggleable__label-arrow\">OneHotEncoder</label><div class=\"sk-toggleable__content\"><pre>OneHotEncoder()</pre></div></div></div></div></div>"
      ],
      "text/plain": [
       "OneHotEncoder()"
      ]
     },
     "execution_count": 13,
     "metadata": {},
     "output_type": "execute_result"
    }
   ],
   "source": [
    "cat_encoder.fit(pd.concat([X_train_data[str_cat],test_data[str_cat]]))"
   ]
  },
  {
   "cell_type": "code",
   "execution_count": 14,
   "id": "7cb40b73",
   "metadata": {
    "execution": {
     "iopub.execute_input": "2024-10-07T09:33:35.217739Z",
     "iopub.status.busy": "2024-10-07T09:33:35.217260Z",
     "iopub.status.idle": "2024-10-07T09:33:35.308319Z",
     "shell.execute_reply": "2024-10-07T09:33:35.307091Z"
    },
    "papermill": {
     "duration": 0.106785,
     "end_time": "2024-10-07T09:33:35.311083",
     "exception": false,
     "start_time": "2024-10-07T09:33:35.204298",
     "status": "completed"
    },
    "tags": []
   },
   "outputs": [],
   "source": [
    "X_train_data = OneHotE(X_train_data,str_cat,cat_encoder)\n",
    "test_data = OneHotE(test_data,str_cat,cat_encoder)"
   ]
  },
  {
   "cell_type": "code",
   "execution_count": 15,
   "id": "ff2e11ce",
   "metadata": {
    "execution": {
     "iopub.execute_input": "2024-10-07T09:33:35.336767Z",
     "iopub.status.busy": "2024-10-07T09:33:35.336296Z",
     "iopub.status.idle": "2024-10-07T09:33:35.610835Z",
     "shell.execute_reply": "2024-10-07T09:33:35.609596Z"
    },
    "papermill": {
     "duration": 0.290718,
     "end_time": "2024-10-07T09:33:35.613725",
     "exception": false,
     "start_time": "2024-10-07T09:33:35.323007",
     "status": "completed"
    },
    "tags": []
   },
   "outputs": [],
   "source": [
    "scaler = StandardScaler()\n",
    "for column in X_train_data.columns:\n",
    "    X_train_data[column] = scaler.fit_transform(np.array(X_train_data[column]).reshape(-1,1))"
   ]
  },
  {
   "cell_type": "code",
   "execution_count": 16,
   "id": "629dffea",
   "metadata": {
    "execution": {
     "iopub.execute_input": "2024-10-07T09:33:35.639001Z",
     "iopub.status.busy": "2024-10-07T09:33:35.638511Z",
     "iopub.status.idle": "2024-10-07T09:33:35.986641Z",
     "shell.execute_reply": "2024-10-07T09:33:35.985330Z"
    },
    "papermill": {
     "duration": 0.364089,
     "end_time": "2024-10-07T09:33:35.989546",
     "exception": false,
     "start_time": "2024-10-07T09:33:35.625457",
     "status": "completed"
    },
    "tags": []
   },
   "outputs": [],
   "source": [
    "poly_features = PolynomialFeatures(degree=2,include_bias=False)\n",
    "X_train_data_poly =  poly_features.fit_transform(X_train_data)"
   ]
  },
  {
   "cell_type": "code",
   "execution_count": 17,
   "id": "165e4c46",
   "metadata": {
    "execution": {
     "iopub.execute_input": "2024-10-07T09:33:36.014495Z",
     "iopub.status.busy": "2024-10-07T09:33:36.014043Z",
     "iopub.status.idle": "2024-10-07T09:33:36.660207Z",
     "shell.execute_reply": "2024-10-07T09:33:36.659183Z"
    },
    "papermill": {
     "duration": 0.661984,
     "end_time": "2024-10-07T09:33:36.663035",
     "exception": false,
     "start_time": "2024-10-07T09:33:36.001051",
     "status": "completed"
    },
    "tags": []
   },
   "outputs": [],
   "source": [
    "X_train_data_poly = pd.DataFrame(X_train_data_poly,index = X_train_data.index , columns = poly_features.get_feature_names_out(X_train_data.columns))"
   ]
  },
  {
   "cell_type": "code",
   "execution_count": 18,
   "id": "d7172e6e",
   "metadata": {
    "execution": {
     "iopub.execute_input": "2024-10-07T09:33:36.688815Z",
     "iopub.status.busy": "2024-10-07T09:33:36.688358Z",
     "iopub.status.idle": "2024-10-07T09:33:37.713158Z",
     "shell.execute_reply": "2024-10-07T09:33:37.712082Z"
    },
    "papermill": {
     "duration": 1.040661,
     "end_time": "2024-10-07T09:33:37.715994",
     "exception": false,
     "start_time": "2024-10-07T09:33:36.675333",
     "status": "completed"
    },
    "tags": []
   },
   "outputs": [],
   "source": [
    "test_data_poly =  poly_features.fit_transform(test_data)\n",
    "test_data_poly = pd.DataFrame(test_data_poly,index = test_data.index , columns = poly_features.get_feature_names_out(test_data.columns))"
   ]
  },
  {
   "cell_type": "code",
   "execution_count": 19,
   "id": "088bd7bf",
   "metadata": {
    "execution": {
     "iopub.execute_input": "2024-10-07T09:33:37.742300Z",
     "iopub.status.busy": "2024-10-07T09:33:37.741878Z",
     "iopub.status.idle": "2024-10-07T09:33:37.786711Z",
     "shell.execute_reply": "2024-10-07T09:33:37.785399Z"
    },
    "papermill": {
     "duration": 0.06164,
     "end_time": "2024-10-07T09:33:37.789150",
     "exception": false,
     "start_time": "2024-10-07T09:33:37.727510",
     "status": "completed"
    },
    "tags": []
   },
   "outputs": [
    {
     "data": {
      "text/html": [
       "<div>\n",
       "<style scoped>\n",
       "    .dataframe tbody tr th:only-of-type {\n",
       "        vertical-align: middle;\n",
       "    }\n",
       "\n",
       "    .dataframe tbody tr th {\n",
       "        vertical-align: top;\n",
       "    }\n",
       "\n",
       "    .dataframe thead th {\n",
       "        text-align: right;\n",
       "    }\n",
       "</style>\n",
       "<table border=\"1\" class=\"dataframe\">\n",
       "  <thead>\n",
       "    <tr style=\"text-align: right;\">\n",
       "      <th></th>\n",
       "      <th>MSSubClass</th>\n",
       "      <th>LotFrontage</th>\n",
       "      <th>LotArea</th>\n",
       "      <th>OverallQual</th>\n",
       "      <th>OverallCond</th>\n",
       "      <th>YearBuilt</th>\n",
       "      <th>YearRemodAdd</th>\n",
       "      <th>MasVnrArea</th>\n",
       "      <th>BsmtFinSF1</th>\n",
       "      <th>BsmtFinSF2</th>\n",
       "      <th>...</th>\n",
       "      <th>SaleType_ConLw^2</th>\n",
       "      <th>SaleType_ConLw SaleType_New</th>\n",
       "      <th>SaleType_ConLw SaleType_Oth</th>\n",
       "      <th>SaleType_ConLw SaleType_WD</th>\n",
       "      <th>SaleType_New^2</th>\n",
       "      <th>SaleType_New SaleType_Oth</th>\n",
       "      <th>SaleType_New SaleType_WD</th>\n",
       "      <th>SaleType_Oth^2</th>\n",
       "      <th>SaleType_Oth SaleType_WD</th>\n",
       "      <th>SaleType_WD^2</th>\n",
       "    </tr>\n",
       "  </thead>\n",
       "  <tbody>\n",
       "    <tr>\n",
       "      <th>0</th>\n",
       "      <td>20.0</td>\n",
       "      <td>80.0</td>\n",
       "      <td>11622.0</td>\n",
       "      <td>5.0</td>\n",
       "      <td>6.0</td>\n",
       "      <td>1961.0</td>\n",
       "      <td>1961.0</td>\n",
       "      <td>0.0</td>\n",
       "      <td>468.0</td>\n",
       "      <td>144.0</td>\n",
       "      <td>...</td>\n",
       "      <td>0.0</td>\n",
       "      <td>0.0</td>\n",
       "      <td>0.0</td>\n",
       "      <td>0.0</td>\n",
       "      <td>0.0</td>\n",
       "      <td>0.0</td>\n",
       "      <td>0.0</td>\n",
       "      <td>0.0</td>\n",
       "      <td>0.0</td>\n",
       "      <td>1.0</td>\n",
       "    </tr>\n",
       "    <tr>\n",
       "      <th>1</th>\n",
       "      <td>20.0</td>\n",
       "      <td>81.0</td>\n",
       "      <td>14267.0</td>\n",
       "      <td>6.0</td>\n",
       "      <td>6.0</td>\n",
       "      <td>1958.0</td>\n",
       "      <td>1958.0</td>\n",
       "      <td>108.0</td>\n",
       "      <td>923.0</td>\n",
       "      <td>0.0</td>\n",
       "      <td>...</td>\n",
       "      <td>0.0</td>\n",
       "      <td>0.0</td>\n",
       "      <td>0.0</td>\n",
       "      <td>0.0</td>\n",
       "      <td>0.0</td>\n",
       "      <td>0.0</td>\n",
       "      <td>0.0</td>\n",
       "      <td>0.0</td>\n",
       "      <td>0.0</td>\n",
       "      <td>1.0</td>\n",
       "    </tr>\n",
       "    <tr>\n",
       "      <th>2</th>\n",
       "      <td>60.0</td>\n",
       "      <td>74.0</td>\n",
       "      <td>13830.0</td>\n",
       "      <td>5.0</td>\n",
       "      <td>5.0</td>\n",
       "      <td>1997.0</td>\n",
       "      <td>1998.0</td>\n",
       "      <td>0.0</td>\n",
       "      <td>791.0</td>\n",
       "      <td>0.0</td>\n",
       "      <td>...</td>\n",
       "      <td>0.0</td>\n",
       "      <td>0.0</td>\n",
       "      <td>0.0</td>\n",
       "      <td>0.0</td>\n",
       "      <td>0.0</td>\n",
       "      <td>0.0</td>\n",
       "      <td>0.0</td>\n",
       "      <td>0.0</td>\n",
       "      <td>0.0</td>\n",
       "      <td>1.0</td>\n",
       "    </tr>\n",
       "    <tr>\n",
       "      <th>3</th>\n",
       "      <td>60.0</td>\n",
       "      <td>78.0</td>\n",
       "      <td>9978.0</td>\n",
       "      <td>6.0</td>\n",
       "      <td>6.0</td>\n",
       "      <td>1998.0</td>\n",
       "      <td>1998.0</td>\n",
       "      <td>20.0</td>\n",
       "      <td>602.0</td>\n",
       "      <td>0.0</td>\n",
       "      <td>...</td>\n",
       "      <td>0.0</td>\n",
       "      <td>0.0</td>\n",
       "      <td>0.0</td>\n",
       "      <td>0.0</td>\n",
       "      <td>0.0</td>\n",
       "      <td>0.0</td>\n",
       "      <td>0.0</td>\n",
       "      <td>0.0</td>\n",
       "      <td>0.0</td>\n",
       "      <td>1.0</td>\n",
       "    </tr>\n",
       "    <tr>\n",
       "      <th>4</th>\n",
       "      <td>120.0</td>\n",
       "      <td>43.0</td>\n",
       "      <td>5005.0</td>\n",
       "      <td>8.0</td>\n",
       "      <td>5.0</td>\n",
       "      <td>1992.0</td>\n",
       "      <td>1992.0</td>\n",
       "      <td>0.0</td>\n",
       "      <td>263.0</td>\n",
       "      <td>0.0</td>\n",
       "      <td>...</td>\n",
       "      <td>0.0</td>\n",
       "      <td>0.0</td>\n",
       "      <td>0.0</td>\n",
       "      <td>0.0</td>\n",
       "      <td>0.0</td>\n",
       "      <td>0.0</td>\n",
       "      <td>0.0</td>\n",
       "      <td>0.0</td>\n",
       "      <td>0.0</td>\n",
       "      <td>1.0</td>\n",
       "    </tr>\n",
       "  </tbody>\n",
       "</table>\n",
       "<p>5 rows × 41615 columns</p>\n",
       "</div>"
      ],
      "text/plain": [
       "   MSSubClass  LotFrontage  LotArea  OverallQual  OverallCond  YearBuilt  \\\n",
       "0        20.0         80.0  11622.0          5.0          6.0     1961.0   \n",
       "1        20.0         81.0  14267.0          6.0          6.0     1958.0   \n",
       "2        60.0         74.0  13830.0          5.0          5.0     1997.0   \n",
       "3        60.0         78.0   9978.0          6.0          6.0     1998.0   \n",
       "4       120.0         43.0   5005.0          8.0          5.0     1992.0   \n",
       "\n",
       "   YearRemodAdd  MasVnrArea  BsmtFinSF1  BsmtFinSF2  ...  SaleType_ConLw^2  \\\n",
       "0        1961.0         0.0       468.0       144.0  ...               0.0   \n",
       "1        1958.0       108.0       923.0         0.0  ...               0.0   \n",
       "2        1998.0         0.0       791.0         0.0  ...               0.0   \n",
       "3        1998.0        20.0       602.0         0.0  ...               0.0   \n",
       "4        1992.0         0.0       263.0         0.0  ...               0.0   \n",
       "\n",
       "   SaleType_ConLw SaleType_New  SaleType_ConLw SaleType_Oth  \\\n",
       "0                          0.0                          0.0   \n",
       "1                          0.0                          0.0   \n",
       "2                          0.0                          0.0   \n",
       "3                          0.0                          0.0   \n",
       "4                          0.0                          0.0   \n",
       "\n",
       "   SaleType_ConLw SaleType_WD  SaleType_New^2  SaleType_New SaleType_Oth  \\\n",
       "0                         0.0             0.0                        0.0   \n",
       "1                         0.0             0.0                        0.0   \n",
       "2                         0.0             0.0                        0.0   \n",
       "3                         0.0             0.0                        0.0   \n",
       "4                         0.0             0.0                        0.0   \n",
       "\n",
       "   SaleType_New SaleType_WD  SaleType_Oth^2  SaleType_Oth SaleType_WD  \\\n",
       "0                       0.0             0.0                       0.0   \n",
       "1                       0.0             0.0                       0.0   \n",
       "2                       0.0             0.0                       0.0   \n",
       "3                       0.0             0.0                       0.0   \n",
       "4                       0.0             0.0                       0.0   \n",
       "\n",
       "   SaleType_WD^2  \n",
       "0            1.0  \n",
       "1            1.0  \n",
       "2            1.0  \n",
       "3            1.0  \n",
       "4            1.0  \n",
       "\n",
       "[5 rows x 41615 columns]"
      ]
     },
     "execution_count": 19,
     "metadata": {},
     "output_type": "execute_result"
    }
   ],
   "source": [
    "test_data_poly.head()"
   ]
  },
  {
   "cell_type": "markdown",
   "id": "7d1d23c9",
   "metadata": {
    "papermill": {
     "duration": 0.011621,
     "end_time": "2024-10-07T09:33:37.812677",
     "exception": false,
     "start_time": "2024-10-07T09:33:37.801056",
     "status": "completed"
    },
    "tags": []
   },
   "source": [
    "**Training a model:**"
   ]
  },
  {
   "cell_type": "code",
   "execution_count": 20,
   "id": "dad3415b",
   "metadata": {
    "execution": {
     "iopub.execute_input": "2024-10-07T09:33:37.838562Z",
     "iopub.status.busy": "2024-10-07T09:33:37.837678Z",
     "iopub.status.idle": "2024-10-07T09:33:37.843005Z",
     "shell.execute_reply": "2024-10-07T09:33:37.841955Z"
    },
    "papermill": {
     "duration": 0.02082,
     "end_time": "2024-10-07T09:33:37.845356",
     "exception": false,
     "start_time": "2024-10-07T09:33:37.824536",
     "status": "completed"
    },
    "tags": []
   },
   "outputs": [],
   "source": [
    "pipeline = Pipeline([(\"classifier\",LinearRegression())])"
   ]
  },
  {
   "cell_type": "code",
   "execution_count": 21,
   "id": "e7808358",
   "metadata": {
    "execution": {
     "iopub.execute_input": "2024-10-07T09:33:37.871260Z",
     "iopub.status.busy": "2024-10-07T09:33:37.870834Z",
     "iopub.status.idle": "2024-10-07T09:33:37.876397Z",
     "shell.execute_reply": "2024-10-07T09:33:37.875001Z"
    },
    "papermill": {
     "duration": 0.021179,
     "end_time": "2024-10-07T09:33:37.878866",
     "exception": false,
     "start_time": "2024-10-07T09:33:37.857687",
     "status": "completed"
    },
    "tags": []
   },
   "outputs": [],
   "source": [
    "param_grid = [{\"classifier__fit_intercept\":[True,False]}] "
   ]
  },
  {
   "cell_type": "code",
   "execution_count": 22,
   "id": "8e46ed1d",
   "metadata": {
    "execution": {
     "iopub.execute_input": "2024-10-07T09:33:37.904687Z",
     "iopub.status.busy": "2024-10-07T09:33:37.904243Z",
     "iopub.status.idle": "2024-10-07T09:33:37.909832Z",
     "shell.execute_reply": "2024-10-07T09:33:37.908504Z"
    },
    "papermill": {
     "duration": 0.021462,
     "end_time": "2024-10-07T09:33:37.912262",
     "exception": false,
     "start_time": "2024-10-07T09:33:37.890800",
     "status": "completed"
    },
    "tags": []
   },
   "outputs": [],
   "source": [
    "grid_search = GridSearchCV(pipeline,param_grid,cv=3,scoring=\"r2\")"
   ]
  },
  {
   "cell_type": "code",
   "execution_count": 23,
   "id": "ac1d2ea4",
   "metadata": {
    "execution": {
     "iopub.execute_input": "2024-10-07T09:33:37.938390Z",
     "iopub.status.busy": "2024-10-07T09:33:37.937571Z",
     "iopub.status.idle": "2024-10-07T09:34:51.760031Z",
     "shell.execute_reply": "2024-10-07T09:34:51.758679Z"
    },
    "papermill": {
     "duration": 73.842982,
     "end_time": "2024-10-07T09:34:51.767207",
     "exception": false,
     "start_time": "2024-10-07T09:33:37.924225",
     "status": "completed"
    },
    "tags": []
   },
   "outputs": [
    {
     "data": {
      "text/html": [
       "<style>#sk-container-id-3 {color: black;background-color: white;}#sk-container-id-3 pre{padding: 0;}#sk-container-id-3 div.sk-toggleable {background-color: white;}#sk-container-id-3 label.sk-toggleable__label {cursor: pointer;display: block;width: 100%;margin-bottom: 0;padding: 0.3em;box-sizing: border-box;text-align: center;}#sk-container-id-3 label.sk-toggleable__label-arrow:before {content: \"▸\";float: left;margin-right: 0.25em;color: #696969;}#sk-container-id-3 label.sk-toggleable__label-arrow:hover:before {color: black;}#sk-container-id-3 div.sk-estimator:hover label.sk-toggleable__label-arrow:before {color: black;}#sk-container-id-3 div.sk-toggleable__content {max-height: 0;max-width: 0;overflow: hidden;text-align: left;background-color: #f0f8ff;}#sk-container-id-3 div.sk-toggleable__content pre {margin: 0.2em;color: black;border-radius: 0.25em;background-color: #f0f8ff;}#sk-container-id-3 input.sk-toggleable__control:checked~div.sk-toggleable__content {max-height: 200px;max-width: 100%;overflow: auto;}#sk-container-id-3 input.sk-toggleable__control:checked~label.sk-toggleable__label-arrow:before {content: \"▾\";}#sk-container-id-3 div.sk-estimator input.sk-toggleable__control:checked~label.sk-toggleable__label {background-color: #d4ebff;}#sk-container-id-3 div.sk-label input.sk-toggleable__control:checked~label.sk-toggleable__label {background-color: #d4ebff;}#sk-container-id-3 input.sk-hidden--visually {border: 0;clip: rect(1px 1px 1px 1px);clip: rect(1px, 1px, 1px, 1px);height: 1px;margin: -1px;overflow: hidden;padding: 0;position: absolute;width: 1px;}#sk-container-id-3 div.sk-estimator {font-family: monospace;background-color: #f0f8ff;border: 1px dotted black;border-radius: 0.25em;box-sizing: border-box;margin-bottom: 0.5em;}#sk-container-id-3 div.sk-estimator:hover {background-color: #d4ebff;}#sk-container-id-3 div.sk-parallel-item::after {content: \"\";width: 100%;border-bottom: 1px solid gray;flex-grow: 1;}#sk-container-id-3 div.sk-label:hover label.sk-toggleable__label {background-color: #d4ebff;}#sk-container-id-3 div.sk-serial::before {content: \"\";position: absolute;border-left: 1px solid gray;box-sizing: border-box;top: 0;bottom: 0;left: 50%;z-index: 0;}#sk-container-id-3 div.sk-serial {display: flex;flex-direction: column;align-items: center;background-color: white;padding-right: 0.2em;padding-left: 0.2em;position: relative;}#sk-container-id-3 div.sk-item {position: relative;z-index: 1;}#sk-container-id-3 div.sk-parallel {display: flex;align-items: stretch;justify-content: center;background-color: white;position: relative;}#sk-container-id-3 div.sk-item::before, #sk-container-id-3 div.sk-parallel-item::before {content: \"\";position: absolute;border-left: 1px solid gray;box-sizing: border-box;top: 0;bottom: 0;left: 50%;z-index: -1;}#sk-container-id-3 div.sk-parallel-item {display: flex;flex-direction: column;z-index: 1;position: relative;background-color: white;}#sk-container-id-3 div.sk-parallel-item:first-child::after {align-self: flex-end;width: 50%;}#sk-container-id-3 div.sk-parallel-item:last-child::after {align-self: flex-start;width: 50%;}#sk-container-id-3 div.sk-parallel-item:only-child::after {width: 0;}#sk-container-id-3 div.sk-dashed-wrapped {border: 1px dashed gray;margin: 0 0.4em 0.5em 0.4em;box-sizing: border-box;padding-bottom: 0.4em;background-color: white;}#sk-container-id-3 div.sk-label label {font-family: monospace;font-weight: bold;display: inline-block;line-height: 1.2em;}#sk-container-id-3 div.sk-label-container {text-align: center;}#sk-container-id-3 div.sk-container {/* jupyter's `normalize.less` sets `[hidden] { display: none; }` but bootstrap.min.css set `[hidden] { display: none !important; }` so we also need the `!important` here to be able to override the default hidden behavior on the sphinx rendered scikit-learn.org. See: https://github.com/scikit-learn/scikit-learn/issues/21755 */display: inline-block !important;position: relative;}#sk-container-id-3 div.sk-text-repr-fallback {display: none;}</style><div id=\"sk-container-id-3\" class=\"sk-top-container\"><div class=\"sk-text-repr-fallback\"><pre>GridSearchCV(cv=3,\n",
       "             estimator=Pipeline(steps=[(&#x27;classifier&#x27;, LinearRegression())]),\n",
       "             param_grid=[{&#x27;classifier__fit_intercept&#x27;: [True, False]}],\n",
       "             scoring=&#x27;r2&#x27;)</pre><b>In a Jupyter environment, please rerun this cell to show the HTML representation or trust the notebook. <br />On GitHub, the HTML representation is unable to render, please try loading this page with nbviewer.org.</b></div><div class=\"sk-container\" hidden><div class=\"sk-item sk-dashed-wrapped\"><div class=\"sk-label-container\"><div class=\"sk-label sk-toggleable\"><input class=\"sk-toggleable__control sk-hidden--visually\" id=\"sk-estimator-id-3\" type=\"checkbox\" ><label for=\"sk-estimator-id-3\" class=\"sk-toggleable__label sk-toggleable__label-arrow\">GridSearchCV</label><div class=\"sk-toggleable__content\"><pre>GridSearchCV(cv=3,\n",
       "             estimator=Pipeline(steps=[(&#x27;classifier&#x27;, LinearRegression())]),\n",
       "             param_grid=[{&#x27;classifier__fit_intercept&#x27;: [True, False]}],\n",
       "             scoring=&#x27;r2&#x27;)</pre></div></div></div><div class=\"sk-parallel\"><div class=\"sk-parallel-item\"><div class=\"sk-item\"><div class=\"sk-label-container\"><div class=\"sk-label sk-toggleable\"><input class=\"sk-toggleable__control sk-hidden--visually\" id=\"sk-estimator-id-4\" type=\"checkbox\" ><label for=\"sk-estimator-id-4\" class=\"sk-toggleable__label sk-toggleable__label-arrow\">estimator: Pipeline</label><div class=\"sk-toggleable__content\"><pre>Pipeline(steps=[(&#x27;classifier&#x27;, LinearRegression())])</pre></div></div></div><div class=\"sk-serial\"><div class=\"sk-item\"><div class=\"sk-serial\"><div class=\"sk-item\"><div class=\"sk-estimator sk-toggleable\"><input class=\"sk-toggleable__control sk-hidden--visually\" id=\"sk-estimator-id-5\" type=\"checkbox\" ><label for=\"sk-estimator-id-5\" class=\"sk-toggleable__label sk-toggleable__label-arrow\">LinearRegression</label><div class=\"sk-toggleable__content\"><pre>LinearRegression()</pre></div></div></div></div></div></div></div></div></div></div></div></div>"
      ],
      "text/plain": [
       "GridSearchCV(cv=3,\n",
       "             estimator=Pipeline(steps=[('classifier', LinearRegression())]),\n",
       "             param_grid=[{'classifier__fit_intercept': [True, False]}],\n",
       "             scoring='r2')"
      ]
     },
     "execution_count": 23,
     "metadata": {},
     "output_type": "execute_result"
    }
   ],
   "source": [
    "grid_search.fit(X_train_data_poly,y_train_data)"
   ]
  },
  {
   "cell_type": "code",
   "execution_count": 24,
   "id": "71fd6962",
   "metadata": {
    "execution": {
     "iopub.execute_input": "2024-10-07T09:34:51.801728Z",
     "iopub.status.busy": "2024-10-07T09:34:51.801213Z",
     "iopub.status.idle": "2024-10-07T09:34:51.808588Z",
     "shell.execute_reply": "2024-10-07T09:34:51.807589Z"
    },
    "papermill": {
     "duration": 0.031049,
     "end_time": "2024-10-07T09:34:51.814503",
     "exception": false,
     "start_time": "2024-10-07T09:34:51.783454",
     "status": "completed"
    },
    "tags": []
   },
   "outputs": [
    {
     "data": {
      "text/plain": [
       "{'classifier__fit_intercept': True}"
      ]
     },
     "execution_count": 24,
     "metadata": {},
     "output_type": "execute_result"
    }
   ],
   "source": [
    "grid_search.best_params_\n"
   ]
  },
  {
   "cell_type": "code",
   "execution_count": 25,
   "id": "305652bd",
   "metadata": {
    "execution": {
     "iopub.execute_input": "2024-10-07T09:34:51.841876Z",
     "iopub.status.busy": "2024-10-07T09:34:51.840918Z",
     "iopub.status.idle": "2024-10-07T09:34:51.861836Z",
     "shell.execute_reply": "2024-10-07T09:34:51.860636Z"
    },
    "papermill": {
     "duration": 0.037328,
     "end_time": "2024-10-07T09:34:51.864477",
     "exception": false,
     "start_time": "2024-10-07T09:34:51.827149",
     "status": "completed"
    },
    "tags": []
   },
   "outputs": [
    {
     "data": {
      "text/html": [
       "<div>\n",
       "<style scoped>\n",
       "    .dataframe tbody tr th:only-of-type {\n",
       "        vertical-align: middle;\n",
       "    }\n",
       "\n",
       "    .dataframe tbody tr th {\n",
       "        vertical-align: top;\n",
       "    }\n",
       "\n",
       "    .dataframe thead th {\n",
       "        text-align: right;\n",
       "    }\n",
       "</style>\n",
       "<table border=\"1\" class=\"dataframe\">\n",
       "  <thead>\n",
       "    <tr style=\"text-align: right;\">\n",
       "      <th></th>\n",
       "      <th>mean_fit_time</th>\n",
       "      <th>std_fit_time</th>\n",
       "      <th>mean_score_time</th>\n",
       "      <th>std_score_time</th>\n",
       "      <th>param_classifier__fit_intercept</th>\n",
       "      <th>params</th>\n",
       "      <th>split0_test_score</th>\n",
       "      <th>split1_test_score</th>\n",
       "      <th>split2_test_score</th>\n",
       "      <th>mean_test_score</th>\n",
       "      <th>std_test_score</th>\n",
       "      <th>rank_test_score</th>\n",
       "    </tr>\n",
       "  </thead>\n",
       "  <tbody>\n",
       "    <tr>\n",
       "      <th>0</th>\n",
       "      <td>9.383453</td>\n",
       "      <td>1.232223</td>\n",
       "      <td>0.775046</td>\n",
       "      <td>0.006112</td>\n",
       "      <td>True</td>\n",
       "      <td>{'classifier__fit_intercept': True}</td>\n",
       "      <td>0.759714</td>\n",
       "      <td>0.746709</td>\n",
       "      <td>0.645182</td>\n",
       "      <td>0.717202</td>\n",
       "      <td>0.051202</td>\n",
       "      <td>1</td>\n",
       "    </tr>\n",
       "    <tr>\n",
       "      <th>1</th>\n",
       "      <td>9.056386</td>\n",
       "      <td>1.102167</td>\n",
       "      <td>0.758638</td>\n",
       "      <td>0.002992</td>\n",
       "      <td>False</td>\n",
       "      <td>{'classifier__fit_intercept': False}</td>\n",
       "      <td>0.694994</td>\n",
       "      <td>0.679981</td>\n",
       "      <td>0.407341</td>\n",
       "      <td>0.594105</td>\n",
       "      <td>0.132205</td>\n",
       "      <td>2</td>\n",
       "    </tr>\n",
       "  </tbody>\n",
       "</table>\n",
       "</div>"
      ],
      "text/plain": [
       "   mean_fit_time  std_fit_time  mean_score_time  std_score_time  \\\n",
       "0       9.383453      1.232223         0.775046        0.006112   \n",
       "1       9.056386      1.102167         0.758638        0.002992   \n",
       "\n",
       "  param_classifier__fit_intercept                                params  \\\n",
       "0                            True   {'classifier__fit_intercept': True}   \n",
       "1                           False  {'classifier__fit_intercept': False}   \n",
       "\n",
       "   split0_test_score  split1_test_score  split2_test_score  mean_test_score  \\\n",
       "0           0.759714           0.746709           0.645182         0.717202   \n",
       "1           0.694994           0.679981           0.407341         0.594105   \n",
       "\n",
       "   std_test_score  rank_test_score  \n",
       "0        0.051202                1  \n",
       "1        0.132205                2  "
      ]
     },
     "execution_count": 25,
     "metadata": {},
     "output_type": "execute_result"
    }
   ],
   "source": [
    "cv_res = pd.DataFrame(grid_search.cv_results_)\n",
    "cv_res.sort_values(by=\"mean_test_score\", ascending=False, inplace=True)\n",
    "cv_res.head()"
   ]
  },
  {
   "cell_type": "markdown",
   "id": "10d0fa52",
   "metadata": {
    "papermill": {
     "duration": 0.012597,
     "end_time": "2024-10-07T09:34:51.889983",
     "exception": false,
     "start_time": "2024-10-07T09:34:51.877386",
     "status": "completed"
    },
    "tags": []
   },
   "source": [
    "**Prediction :**"
   ]
  },
  {
   "cell_type": "code",
   "execution_count": 26,
   "id": "9b6a053d",
   "metadata": {
    "execution": {
     "iopub.execute_input": "2024-10-07T09:34:51.918132Z",
     "iopub.status.busy": "2024-10-07T09:34:51.916833Z",
     "iopub.status.idle": "2024-10-07T09:34:52.699965Z",
     "shell.execute_reply": "2024-10-07T09:34:52.698059Z"
    },
    "papermill": {
     "duration": 0.801926,
     "end_time": "2024-10-07T09:34:52.704480",
     "exception": false,
     "start_time": "2024-10-07T09:34:51.902554",
     "status": "completed"
    },
    "tags": []
   },
   "outputs": [],
   "source": [
    "final_evaluation = grid_search.predict(test_data_poly)"
   ]
  },
  {
   "cell_type": "code",
   "execution_count": 27,
   "id": "daeb7b9d",
   "metadata": {
    "execution": {
     "iopub.execute_input": "2024-10-07T09:34:52.761928Z",
     "iopub.status.busy": "2024-10-07T09:34:52.761190Z",
     "iopub.status.idle": "2024-10-07T09:34:52.783225Z",
     "shell.execute_reply": "2024-10-07T09:34:52.782018Z"
    },
    "papermill": {
     "duration": 0.054326,
     "end_time": "2024-10-07T09:34:52.787238",
     "exception": false,
     "start_time": "2024-10-07T09:34:52.732912",
     "status": "completed"
    },
    "tags": []
   },
   "outputs": [
    {
     "data": {
      "text/html": [
       "<div>\n",
       "<style scoped>\n",
       "    .dataframe tbody tr th:only-of-type {\n",
       "        vertical-align: middle;\n",
       "    }\n",
       "\n",
       "    .dataframe tbody tr th {\n",
       "        vertical-align: top;\n",
       "    }\n",
       "\n",
       "    .dataframe thead th {\n",
       "        text-align: right;\n",
       "    }\n",
       "</style>\n",
       "<table border=\"1\" class=\"dataframe\">\n",
       "  <thead>\n",
       "    <tr style=\"text-align: right;\">\n",
       "      <th></th>\n",
       "      <th>Id</th>\n",
       "      <th>SalePrice</th>\n",
       "    </tr>\n",
       "  </thead>\n",
       "  <tbody>\n",
       "    <tr>\n",
       "      <th>0</th>\n",
       "      <td>1461</td>\n",
       "      <td>4.361029e+10</td>\n",
       "    </tr>\n",
       "    <tr>\n",
       "      <th>1</th>\n",
       "      <td>1462</td>\n",
       "      <td>7.724727e+10</td>\n",
       "    </tr>\n",
       "    <tr>\n",
       "      <th>2</th>\n",
       "      <td>1463</td>\n",
       "      <td>6.854862e+10</td>\n",
       "    </tr>\n",
       "    <tr>\n",
       "      <th>3</th>\n",
       "      <td>1464</td>\n",
       "      <td>4.102125e+10</td>\n",
       "    </tr>\n",
       "    <tr>\n",
       "      <th>4</th>\n",
       "      <td>1465</td>\n",
       "      <td>1.465509e+10</td>\n",
       "    </tr>\n",
       "    <tr>\n",
       "      <th>...</th>\n",
       "      <td>...</td>\n",
       "      <td>...</td>\n",
       "    </tr>\n",
       "    <tr>\n",
       "      <th>1454</th>\n",
       "      <td>2915</td>\n",
       "      <td>8.438898e+09</td>\n",
       "    </tr>\n",
       "    <tr>\n",
       "      <th>1455</th>\n",
       "      <td>2916</td>\n",
       "      <td>9.134880e+09</td>\n",
       "    </tr>\n",
       "    <tr>\n",
       "      <th>1456</th>\n",
       "      <td>2917</td>\n",
       "      <td>1.298461e+11</td>\n",
       "    </tr>\n",
       "    <tr>\n",
       "      <th>1457</th>\n",
       "      <td>2918</td>\n",
       "      <td>3.489404e+10</td>\n",
       "    </tr>\n",
       "    <tr>\n",
       "      <th>1458</th>\n",
       "      <td>2919</td>\n",
       "      <td>4.397505e+10</td>\n",
       "    </tr>\n",
       "  </tbody>\n",
       "</table>\n",
       "<p>1459 rows × 2 columns</p>\n",
       "</div>"
      ],
      "text/plain": [
       "        Id     SalePrice\n",
       "0     1461  4.361029e+10\n",
       "1     1462  7.724727e+10\n",
       "2     1463  6.854862e+10\n",
       "3     1464  4.102125e+10\n",
       "4     1465  1.465509e+10\n",
       "...    ...           ...\n",
       "1454  2915  8.438898e+09\n",
       "1455  2916  9.134880e+09\n",
       "1456  2917  1.298461e+11\n",
       "1457  2918  3.489404e+10\n",
       "1458  2919  4.397505e+10\n",
       "\n",
       "[1459 rows x 2 columns]"
      ]
     },
     "execution_count": 27,
     "metadata": {},
     "output_type": "execute_result"
    }
   ],
   "source": [
    "d = {'Id':np.arange(len(final_evaluation)) + 1461,'SalePrice':final_evaluation}\n",
    "df = pd.DataFrame(data=d)\n",
    "df"
   ]
  },
  {
   "cell_type": "code",
   "execution_count": 28,
   "id": "aee31b32",
   "metadata": {
    "execution": {
     "iopub.execute_input": "2024-10-07T09:34:52.830790Z",
     "iopub.status.busy": "2024-10-07T09:34:52.830348Z",
     "iopub.status.idle": "2024-10-07T09:34:52.842986Z",
     "shell.execute_reply": "2024-10-07T09:34:52.841833Z"
    },
    "papermill": {
     "duration": 0.031853,
     "end_time": "2024-10-07T09:34:52.845836",
     "exception": false,
     "start_time": "2024-10-07T09:34:52.813983",
     "status": "completed"
    },
    "tags": []
   },
   "outputs": [],
   "source": [
    "df.to_csv('out.csv',index=False)"
   ]
  },
  {
   "cell_type": "code",
   "execution_count": null,
   "id": "ded5b445",
   "metadata": {
    "papermill": {
     "duration": 0.013268,
     "end_time": "2024-10-07T09:34:52.872118",
     "exception": false,
     "start_time": "2024-10-07T09:34:52.858850",
     "status": "completed"
    },
    "tags": []
   },
   "outputs": [],
   "source": []
  }
 ],
 "metadata": {
  "kaggle": {
   "accelerator": "none",
   "dataSources": [
    {
     "databundleVersionId": 868283,
     "sourceId": 5407,
     "sourceType": "competition"
    }
   ],
   "dockerImageVersionId": 30786,
   "isGpuEnabled": false,
   "isInternetEnabled": false,
   "language": "python",
   "sourceType": "notebook"
  },
  "kernelspec": {
   "display_name": "Python 3",
   "language": "python",
   "name": "python3"
  },
  "language_info": {
   "codemirror_mode": {
    "name": "ipython",
    "version": 3
   },
   "file_extension": ".py",
   "mimetype": "text/x-python",
   "name": "python",
   "nbconvert_exporter": "python",
   "pygments_lexer": "ipython3",
   "version": "3.10.14"
  },
  "papermill": {
   "default_parameters": {},
   "duration": 85.77093,
   "end_time": "2024-10-07T09:34:53.607025",
   "environment_variables": {},
   "exception": null,
   "input_path": "__notebook__.ipynb",
   "output_path": "__notebook__.ipynb",
   "parameters": {},
   "start_time": "2024-10-07T09:33:27.836095",
   "version": "2.6.0"
  }
 },
 "nbformat": 4,
 "nbformat_minor": 5
}

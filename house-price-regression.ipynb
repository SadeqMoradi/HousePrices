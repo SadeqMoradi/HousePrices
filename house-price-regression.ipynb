{
 "cells": [
  {
   "cell_type": "code",
   "execution_count": 1,
   "id": "c25a65aa",
   "metadata": {
    "execution": {
     "iopub.execute_input": "2024-10-07T09:06:12.091152Z",
     "iopub.status.busy": "2024-10-07T09:06:12.090134Z",
     "iopub.status.idle": "2024-10-07T09:06:14.800518Z",
     "shell.execute_reply": "2024-10-07T09:06:14.799528Z"
    },
    "papermill": {
     "duration": 2.721295,
     "end_time": "2024-10-07T09:06:14.803025",
     "exception": false,
     "start_time": "2024-10-07T09:06:12.081730",
     "status": "completed"
    },
    "tags": []
   },
   "outputs": [],
   "source": [
    "import numpy as np\n",
    "import pandas as pd\n",
    "import os\n",
    "from pathlib import Path\n",
    "import matplotlib as plt\n",
    "from sklearn.neighbors import KNeighborsClassifier\n",
    "from sklearn.model_selection import cross_val_score\n",
    "from sklearn.model_selection import cross_val_predict\n",
    "from sklearn.metrics import ConfusionMatrixDisplay\n",
    "from sklearn.pipeline import Pipeline\n",
    "from sklearn.model_selection import GridSearchCV\n",
    "from scipy.ndimage import shift\n",
    "from IPython.display import clear_output\n",
    "from sklearn.impute import SimpleImputer\n",
    "from sklearn.preprocessing import OneHotEncoder\n",
    "from sklearn.tree import DecisionTreeClassifier\n",
    "from sklearn.ensemble import RandomForestClassifier\n",
    "from sklearn.preprocessing import OrdinalEncoder\n",
    "import seaborn\n",
    "from sklearn.preprocessing import StandardScaler\n",
    "from sklearn.svm import SVC\n",
    "from sklearn.svm import SVR\n",
    "from sklearn.svm import LinearSVR\n",
    "from sklearn.linear_model import LinearRegression\n",
    "from sklearn.ensemble import RandomForestRegressor"
   ]
  },
  {
   "cell_type": "code",
   "execution_count": 2,
   "id": "54cf3234",
   "metadata": {
    "execution": {
     "iopub.execute_input": "2024-10-07T09:06:14.817704Z",
     "iopub.status.busy": "2024-10-07T09:06:14.816638Z",
     "iopub.status.idle": "2024-10-07T09:06:14.823682Z",
     "shell.execute_reply": "2024-10-07T09:06:14.822666Z"
    },
    "papermill": {
     "duration": 0.016441,
     "end_time": "2024-10-07T09:06:14.825871",
     "exception": false,
     "start_time": "2024-10-07T09:06:14.809430",
     "status": "completed"
    },
    "tags": []
   },
   "outputs": [
    {
     "name": "stdout",
     "output_type": "stream",
     "text": [
      "/kaggle/input/house-prices-advanced-regression-techniques/sample_submission.csv\n",
      "/kaggle/input/house-prices-advanced-regression-techniques/data_description.txt\n",
      "/kaggle/input/house-prices-advanced-regression-techniques/train.csv\n",
      "/kaggle/input/house-prices-advanced-regression-techniques/test.csv\n"
     ]
    }
   ],
   "source": [
    "import os\n",
    "for dirname, _, filenames in os.walk('/kaggle/input'):\n",
    "    for filename in filenames:\n",
    "        print(os.path.join(dirname, filename))"
   ]
  },
  {
   "cell_type": "code",
   "execution_count": 3,
   "id": "363ef9c5",
   "metadata": {
    "execution": {
     "iopub.execute_input": "2024-10-07T09:06:14.839917Z",
     "iopub.status.busy": "2024-10-07T09:06:14.839532Z",
     "iopub.status.idle": "2024-10-07T09:06:14.917193Z",
     "shell.execute_reply": "2024-10-07T09:06:14.916260Z"
    },
    "papermill": {
     "duration": 0.087784,
     "end_time": "2024-10-07T09:06:14.919899",
     "exception": false,
     "start_time": "2024-10-07T09:06:14.832115",
     "status": "completed"
    },
    "tags": []
   },
   "outputs": [],
   "source": [
    "train_data = pd.read_csv(Path(\"/kaggle/input/house-prices-advanced-regression-techniques/train.csv\"))\n",
    "test_data = pd.read_csv(Path(\"/kaggle/input/house-prices-advanced-regression-techniques/test.csv\"))\n",
    "sample_submission = pd.read_csv(Path(\"/kaggle/input/house-prices-advanced-regression-techniques/sample_submission.csv\"))\n",
    "train_data = train_data.drop(\"Id\",axis=1)\n",
    "test_data = test_data.drop(\"Id\",axis=1)"
   ]
  },
  {
   "cell_type": "code",
   "execution_count": 4,
   "id": "429ba86a",
   "metadata": {
    "execution": {
     "iopub.execute_input": "2024-10-07T09:06:14.934522Z",
     "iopub.status.busy": "2024-10-07T09:06:14.933711Z",
     "iopub.status.idle": "2024-10-07T09:06:14.940663Z",
     "shell.execute_reply": "2024-10-07T09:06:14.939671Z"
    },
    "papermill": {
     "duration": 0.016573,
     "end_time": "2024-10-07T09:06:14.942864",
     "exception": false,
     "start_time": "2024-10-07T09:06:14.926291",
     "status": "completed"
    },
    "tags": []
   },
   "outputs": [],
   "source": [
    "X_train_data = train_data.drop(\"SalePrice\",axis=1)\n",
    "y_train_data = train_data[\"SalePrice\"]"
   ]
  },
  {
   "cell_type": "code",
   "execution_count": 5,
   "id": "6536e797",
   "metadata": {
    "execution": {
     "iopub.execute_input": "2024-10-07T09:06:14.956886Z",
     "iopub.status.busy": "2024-10-07T09:06:14.956530Z",
     "iopub.status.idle": "2024-10-07T09:06:14.988046Z",
     "shell.execute_reply": "2024-10-07T09:06:14.986997Z"
    },
    "papermill": {
     "duration": 0.041546,
     "end_time": "2024-10-07T09:06:14.990731",
     "exception": false,
     "start_time": "2024-10-07T09:06:14.949185",
     "status": "completed"
    },
    "tags": []
   },
   "outputs": [
    {
     "name": "stdout",
     "output_type": "stream",
     "text": [
      "<class 'pandas.core.frame.DataFrame'>\n",
      "RangeIndex: 1460 entries, 0 to 1459\n",
      "Data columns (total 79 columns):\n",
      " #   Column         Non-Null Count  Dtype  \n",
      "---  ------         --------------  -----  \n",
      " 0   MSSubClass     1460 non-null   int64  \n",
      " 1   MSZoning       1460 non-null   object \n",
      " 2   LotFrontage    1201 non-null   float64\n",
      " 3   LotArea        1460 non-null   int64  \n",
      " 4   Street         1460 non-null   object \n",
      " 5   Alley          91 non-null     object \n",
      " 6   LotShape       1460 non-null   object \n",
      " 7   LandContour    1460 non-null   object \n",
      " 8   Utilities      1460 non-null   object \n",
      " 9   LotConfig      1460 non-null   object \n",
      " 10  LandSlope      1460 non-null   object \n",
      " 11  Neighborhood   1460 non-null   object \n",
      " 12  Condition1     1460 non-null   object \n",
      " 13  Condition2     1460 non-null   object \n",
      " 14  BldgType       1460 non-null   object \n",
      " 15  HouseStyle     1460 non-null   object \n",
      " 16  OverallQual    1460 non-null   int64  \n",
      " 17  OverallCond    1460 non-null   int64  \n",
      " 18  YearBuilt      1460 non-null   int64  \n",
      " 19  YearRemodAdd   1460 non-null   int64  \n",
      " 20  RoofStyle      1460 non-null   object \n",
      " 21  RoofMatl       1460 non-null   object \n",
      " 22  Exterior1st    1460 non-null   object \n",
      " 23  Exterior2nd    1460 non-null   object \n",
      " 24  MasVnrType     588 non-null    object \n",
      " 25  MasVnrArea     1452 non-null   float64\n",
      " 26  ExterQual      1460 non-null   object \n",
      " 27  ExterCond      1460 non-null   object \n",
      " 28  Foundation     1460 non-null   object \n",
      " 29  BsmtQual       1423 non-null   object \n",
      " 30  BsmtCond       1423 non-null   object \n",
      " 31  BsmtExposure   1422 non-null   object \n",
      " 32  BsmtFinType1   1423 non-null   object \n",
      " 33  BsmtFinSF1     1460 non-null   int64  \n",
      " 34  BsmtFinType2   1422 non-null   object \n",
      " 35  BsmtFinSF2     1460 non-null   int64  \n",
      " 36  BsmtUnfSF      1460 non-null   int64  \n",
      " 37  TotalBsmtSF    1460 non-null   int64  \n",
      " 38  Heating        1460 non-null   object \n",
      " 39  HeatingQC      1460 non-null   object \n",
      " 40  CentralAir     1460 non-null   object \n",
      " 41  Electrical     1459 non-null   object \n",
      " 42  1stFlrSF       1460 non-null   int64  \n",
      " 43  2ndFlrSF       1460 non-null   int64  \n",
      " 44  LowQualFinSF   1460 non-null   int64  \n",
      " 45  GrLivArea      1460 non-null   int64  \n",
      " 46  BsmtFullBath   1460 non-null   int64  \n",
      " 47  BsmtHalfBath   1460 non-null   int64  \n",
      " 48  FullBath       1460 non-null   int64  \n",
      " 49  HalfBath       1460 non-null   int64  \n",
      " 50  BedroomAbvGr   1460 non-null   int64  \n",
      " 51  KitchenAbvGr   1460 non-null   int64  \n",
      " 52  KitchenQual    1460 non-null   object \n",
      " 53  TotRmsAbvGrd   1460 non-null   int64  \n",
      " 54  Functional     1460 non-null   object \n",
      " 55  Fireplaces     1460 non-null   int64  \n",
      " 56  FireplaceQu    770 non-null    object \n",
      " 57  GarageType     1379 non-null   object \n",
      " 58  GarageYrBlt    1379 non-null   float64\n",
      " 59  GarageFinish   1379 non-null   object \n",
      " 60  GarageCars     1460 non-null   int64  \n",
      " 61  GarageArea     1460 non-null   int64  \n",
      " 62  GarageQual     1379 non-null   object \n",
      " 63  GarageCond     1379 non-null   object \n",
      " 64  PavedDrive     1460 non-null   object \n",
      " 65  WoodDeckSF     1460 non-null   int64  \n",
      " 66  OpenPorchSF    1460 non-null   int64  \n",
      " 67  EnclosedPorch  1460 non-null   int64  \n",
      " 68  3SsnPorch      1460 non-null   int64  \n",
      " 69  ScreenPorch    1460 non-null   int64  \n",
      " 70  PoolArea       1460 non-null   int64  \n",
      " 71  PoolQC         7 non-null      object \n",
      " 72  Fence          281 non-null    object \n",
      " 73  MiscFeature    54 non-null     object \n",
      " 74  MiscVal        1460 non-null   int64  \n",
      " 75  MoSold         1460 non-null   int64  \n",
      " 76  YrSold         1460 non-null   int64  \n",
      " 77  SaleType       1460 non-null   object \n",
      " 78  SaleCondition  1460 non-null   object \n",
      "dtypes: float64(3), int64(33), object(43)\n",
      "memory usage: 901.2+ KB\n"
     ]
    }
   ],
   "source": [
    "X_train_data.info()"
   ]
  },
  {
   "cell_type": "code",
   "execution_count": 6,
   "id": "f1f02064",
   "metadata": {
    "execution": {
     "iopub.execute_input": "2024-10-07T09:06:15.006806Z",
     "iopub.status.busy": "2024-10-07T09:06:15.006415Z",
     "iopub.status.idle": "2024-10-07T09:06:15.025263Z",
     "shell.execute_reply": "2024-10-07T09:06:15.024094Z"
    },
    "papermill": {
     "duration": 0.029369,
     "end_time": "2024-10-07T09:06:15.027966",
     "exception": false,
     "start_time": "2024-10-07T09:06:14.998597",
     "status": "completed"
    },
    "tags": []
   },
   "outputs": [
    {
     "name": "stdout",
     "output_type": "stream",
     "text": [
      "<class 'pandas.core.frame.DataFrame'>\n",
      "RangeIndex: 1459 entries, 0 to 1458\n",
      "Data columns (total 79 columns):\n",
      " #   Column         Non-Null Count  Dtype  \n",
      "---  ------         --------------  -----  \n",
      " 0   MSSubClass     1459 non-null   int64  \n",
      " 1   MSZoning       1455 non-null   object \n",
      " 2   LotFrontage    1232 non-null   float64\n",
      " 3   LotArea        1459 non-null   int64  \n",
      " 4   Street         1459 non-null   object \n",
      " 5   Alley          107 non-null    object \n",
      " 6   LotShape       1459 non-null   object \n",
      " 7   LandContour    1459 non-null   object \n",
      " 8   Utilities      1457 non-null   object \n",
      " 9   LotConfig      1459 non-null   object \n",
      " 10  LandSlope      1459 non-null   object \n",
      " 11  Neighborhood   1459 non-null   object \n",
      " 12  Condition1     1459 non-null   object \n",
      " 13  Condition2     1459 non-null   object \n",
      " 14  BldgType       1459 non-null   object \n",
      " 15  HouseStyle     1459 non-null   object \n",
      " 16  OverallQual    1459 non-null   int64  \n",
      " 17  OverallCond    1459 non-null   int64  \n",
      " 18  YearBuilt      1459 non-null   int64  \n",
      " 19  YearRemodAdd   1459 non-null   int64  \n",
      " 20  RoofStyle      1459 non-null   object \n",
      " 21  RoofMatl       1459 non-null   object \n",
      " 22  Exterior1st    1458 non-null   object \n",
      " 23  Exterior2nd    1458 non-null   object \n",
      " 24  MasVnrType     565 non-null    object \n",
      " 25  MasVnrArea     1444 non-null   float64\n",
      " 26  ExterQual      1459 non-null   object \n",
      " 27  ExterCond      1459 non-null   object \n",
      " 28  Foundation     1459 non-null   object \n",
      " 29  BsmtQual       1415 non-null   object \n",
      " 30  BsmtCond       1414 non-null   object \n",
      " 31  BsmtExposure   1415 non-null   object \n",
      " 32  BsmtFinType1   1417 non-null   object \n",
      " 33  BsmtFinSF1     1458 non-null   float64\n",
      " 34  BsmtFinType2   1417 non-null   object \n",
      " 35  BsmtFinSF2     1458 non-null   float64\n",
      " 36  BsmtUnfSF      1458 non-null   float64\n",
      " 37  TotalBsmtSF    1458 non-null   float64\n",
      " 38  Heating        1459 non-null   object \n",
      " 39  HeatingQC      1459 non-null   object \n",
      " 40  CentralAir     1459 non-null   object \n",
      " 41  Electrical     1459 non-null   object \n",
      " 42  1stFlrSF       1459 non-null   int64  \n",
      " 43  2ndFlrSF       1459 non-null   int64  \n",
      " 44  LowQualFinSF   1459 non-null   int64  \n",
      " 45  GrLivArea      1459 non-null   int64  \n",
      " 46  BsmtFullBath   1457 non-null   float64\n",
      " 47  BsmtHalfBath   1457 non-null   float64\n",
      " 48  FullBath       1459 non-null   int64  \n",
      " 49  HalfBath       1459 non-null   int64  \n",
      " 50  BedroomAbvGr   1459 non-null   int64  \n",
      " 51  KitchenAbvGr   1459 non-null   int64  \n",
      " 52  KitchenQual    1458 non-null   object \n",
      " 53  TotRmsAbvGrd   1459 non-null   int64  \n",
      " 54  Functional     1457 non-null   object \n",
      " 55  Fireplaces     1459 non-null   int64  \n",
      " 56  FireplaceQu    729 non-null    object \n",
      " 57  GarageType     1383 non-null   object \n",
      " 58  GarageYrBlt    1381 non-null   float64\n",
      " 59  GarageFinish   1381 non-null   object \n",
      " 60  GarageCars     1458 non-null   float64\n",
      " 61  GarageArea     1458 non-null   float64\n",
      " 62  GarageQual     1381 non-null   object \n",
      " 63  GarageCond     1381 non-null   object \n",
      " 64  PavedDrive     1459 non-null   object \n",
      " 65  WoodDeckSF     1459 non-null   int64  \n",
      " 66  OpenPorchSF    1459 non-null   int64  \n",
      " 67  EnclosedPorch  1459 non-null   int64  \n",
      " 68  3SsnPorch      1459 non-null   int64  \n",
      " 69  ScreenPorch    1459 non-null   int64  \n",
      " 70  PoolArea       1459 non-null   int64  \n",
      " 71  PoolQC         3 non-null      object \n",
      " 72  Fence          290 non-null    object \n",
      " 73  MiscFeature    51 non-null     object \n",
      " 74  MiscVal        1459 non-null   int64  \n",
      " 75  MoSold         1459 non-null   int64  \n",
      " 76  YrSold         1459 non-null   int64  \n",
      " 77  SaleType       1458 non-null   object \n",
      " 78  SaleCondition  1459 non-null   object \n",
      "dtypes: float64(11), int64(25), object(43)\n",
      "memory usage: 900.6+ KB\n"
     ]
    }
   ],
   "source": [
    "test_data.info()"
   ]
  },
  {
   "cell_type": "code",
   "execution_count": 7,
   "id": "fc6189c7",
   "metadata": {
    "execution": {
     "iopub.execute_input": "2024-10-07T09:06:15.043014Z",
     "iopub.status.busy": "2024-10-07T09:06:15.042628Z",
     "iopub.status.idle": "2024-10-07T09:06:15.069249Z",
     "shell.execute_reply": "2024-10-07T09:06:15.068212Z"
    },
    "papermill": {
     "duration": 0.036911,
     "end_time": "2024-10-07T09:06:15.071498",
     "exception": false,
     "start_time": "2024-10-07T09:06:15.034587",
     "status": "completed"
    },
    "tags": []
   },
   "outputs": [
    {
     "data": {
      "text/html": [
       "<div>\n",
       "<style scoped>\n",
       "    .dataframe tbody tr th:only-of-type {\n",
       "        vertical-align: middle;\n",
       "    }\n",
       "\n",
       "    .dataframe tbody tr th {\n",
       "        vertical-align: top;\n",
       "    }\n",
       "\n",
       "    .dataframe thead th {\n",
       "        text-align: right;\n",
       "    }\n",
       "</style>\n",
       "<table border=\"1\" class=\"dataframe\">\n",
       "  <thead>\n",
       "    <tr style=\"text-align: right;\">\n",
       "      <th></th>\n",
       "      <th>MSSubClass</th>\n",
       "      <th>MSZoning</th>\n",
       "      <th>LotFrontage</th>\n",
       "      <th>LotArea</th>\n",
       "      <th>Street</th>\n",
       "      <th>Alley</th>\n",
       "      <th>LotShape</th>\n",
       "      <th>LandContour</th>\n",
       "      <th>Utilities</th>\n",
       "      <th>LotConfig</th>\n",
       "      <th>...</th>\n",
       "      <th>ScreenPorch</th>\n",
       "      <th>PoolArea</th>\n",
       "      <th>PoolQC</th>\n",
       "      <th>Fence</th>\n",
       "      <th>MiscFeature</th>\n",
       "      <th>MiscVal</th>\n",
       "      <th>MoSold</th>\n",
       "      <th>YrSold</th>\n",
       "      <th>SaleType</th>\n",
       "      <th>SaleCondition</th>\n",
       "    </tr>\n",
       "  </thead>\n",
       "  <tbody>\n",
       "    <tr>\n",
       "      <th>0</th>\n",
       "      <td>60</td>\n",
       "      <td>RL</td>\n",
       "      <td>65.0</td>\n",
       "      <td>8450</td>\n",
       "      <td>Pave</td>\n",
       "      <td>NaN</td>\n",
       "      <td>Reg</td>\n",
       "      <td>Lvl</td>\n",
       "      <td>AllPub</td>\n",
       "      <td>Inside</td>\n",
       "      <td>...</td>\n",
       "      <td>0</td>\n",
       "      <td>0</td>\n",
       "      <td>NaN</td>\n",
       "      <td>NaN</td>\n",
       "      <td>NaN</td>\n",
       "      <td>0</td>\n",
       "      <td>2</td>\n",
       "      <td>2008</td>\n",
       "      <td>WD</td>\n",
       "      <td>Normal</td>\n",
       "    </tr>\n",
       "    <tr>\n",
       "      <th>1</th>\n",
       "      <td>20</td>\n",
       "      <td>RL</td>\n",
       "      <td>80.0</td>\n",
       "      <td>9600</td>\n",
       "      <td>Pave</td>\n",
       "      <td>NaN</td>\n",
       "      <td>Reg</td>\n",
       "      <td>Lvl</td>\n",
       "      <td>AllPub</td>\n",
       "      <td>FR2</td>\n",
       "      <td>...</td>\n",
       "      <td>0</td>\n",
       "      <td>0</td>\n",
       "      <td>NaN</td>\n",
       "      <td>NaN</td>\n",
       "      <td>NaN</td>\n",
       "      <td>0</td>\n",
       "      <td>5</td>\n",
       "      <td>2007</td>\n",
       "      <td>WD</td>\n",
       "      <td>Normal</td>\n",
       "    </tr>\n",
       "    <tr>\n",
       "      <th>2</th>\n",
       "      <td>60</td>\n",
       "      <td>RL</td>\n",
       "      <td>68.0</td>\n",
       "      <td>11250</td>\n",
       "      <td>Pave</td>\n",
       "      <td>NaN</td>\n",
       "      <td>IR1</td>\n",
       "      <td>Lvl</td>\n",
       "      <td>AllPub</td>\n",
       "      <td>Inside</td>\n",
       "      <td>...</td>\n",
       "      <td>0</td>\n",
       "      <td>0</td>\n",
       "      <td>NaN</td>\n",
       "      <td>NaN</td>\n",
       "      <td>NaN</td>\n",
       "      <td>0</td>\n",
       "      <td>9</td>\n",
       "      <td>2008</td>\n",
       "      <td>WD</td>\n",
       "      <td>Normal</td>\n",
       "    </tr>\n",
       "    <tr>\n",
       "      <th>3</th>\n",
       "      <td>70</td>\n",
       "      <td>RL</td>\n",
       "      <td>60.0</td>\n",
       "      <td>9550</td>\n",
       "      <td>Pave</td>\n",
       "      <td>NaN</td>\n",
       "      <td>IR1</td>\n",
       "      <td>Lvl</td>\n",
       "      <td>AllPub</td>\n",
       "      <td>Corner</td>\n",
       "      <td>...</td>\n",
       "      <td>0</td>\n",
       "      <td>0</td>\n",
       "      <td>NaN</td>\n",
       "      <td>NaN</td>\n",
       "      <td>NaN</td>\n",
       "      <td>0</td>\n",
       "      <td>2</td>\n",
       "      <td>2006</td>\n",
       "      <td>WD</td>\n",
       "      <td>Abnorml</td>\n",
       "    </tr>\n",
       "    <tr>\n",
       "      <th>4</th>\n",
       "      <td>60</td>\n",
       "      <td>RL</td>\n",
       "      <td>84.0</td>\n",
       "      <td>14260</td>\n",
       "      <td>Pave</td>\n",
       "      <td>NaN</td>\n",
       "      <td>IR1</td>\n",
       "      <td>Lvl</td>\n",
       "      <td>AllPub</td>\n",
       "      <td>FR2</td>\n",
       "      <td>...</td>\n",
       "      <td>0</td>\n",
       "      <td>0</td>\n",
       "      <td>NaN</td>\n",
       "      <td>NaN</td>\n",
       "      <td>NaN</td>\n",
       "      <td>0</td>\n",
       "      <td>12</td>\n",
       "      <td>2008</td>\n",
       "      <td>WD</td>\n",
       "      <td>Normal</td>\n",
       "    </tr>\n",
       "  </tbody>\n",
       "</table>\n",
       "<p>5 rows × 79 columns</p>\n",
       "</div>"
      ],
      "text/plain": [
       "   MSSubClass MSZoning  LotFrontage  LotArea Street Alley LotShape  \\\n",
       "0          60       RL         65.0     8450   Pave   NaN      Reg   \n",
       "1          20       RL         80.0     9600   Pave   NaN      Reg   \n",
       "2          60       RL         68.0    11250   Pave   NaN      IR1   \n",
       "3          70       RL         60.0     9550   Pave   NaN      IR1   \n",
       "4          60       RL         84.0    14260   Pave   NaN      IR1   \n",
       "\n",
       "  LandContour Utilities LotConfig  ... ScreenPorch PoolArea PoolQC Fence  \\\n",
       "0         Lvl    AllPub    Inside  ...           0        0    NaN   NaN   \n",
       "1         Lvl    AllPub       FR2  ...           0        0    NaN   NaN   \n",
       "2         Lvl    AllPub    Inside  ...           0        0    NaN   NaN   \n",
       "3         Lvl    AllPub    Corner  ...           0        0    NaN   NaN   \n",
       "4         Lvl    AllPub       FR2  ...           0        0    NaN   NaN   \n",
       "\n",
       "  MiscFeature MiscVal  MoSold  YrSold  SaleType  SaleCondition  \n",
       "0         NaN       0       2    2008        WD         Normal  \n",
       "1         NaN       0       5    2007        WD         Normal  \n",
       "2         NaN       0       9    2008        WD         Normal  \n",
       "3         NaN       0       2    2006        WD        Abnorml  \n",
       "4         NaN       0      12    2008        WD         Normal  \n",
       "\n",
       "[5 rows x 79 columns]"
      ]
     },
     "execution_count": 7,
     "metadata": {},
     "output_type": "execute_result"
    }
   ],
   "source": [
    "X_train_data.head()"
   ]
  },
  {
   "cell_type": "markdown",
   "id": "4666eb85",
   "metadata": {
    "papermill": {
     "duration": 0.006553,
     "end_time": "2024-10-07T09:06:15.085020",
     "exception": false,
     "start_time": "2024-10-07T09:06:15.078467",
     "status": "completed"
    },
    "tags": []
   },
   "source": [
    "**Prepairing the data :**"
   ]
  },
  {
   "cell_type": "code",
   "execution_count": 8,
   "id": "318dace8",
   "metadata": {
    "execution": {
     "iopub.execute_input": "2024-10-07T09:06:15.100809Z",
     "iopub.status.busy": "2024-10-07T09:06:15.099908Z",
     "iopub.status.idle": "2024-10-07T09:06:15.157934Z",
     "shell.execute_reply": "2024-10-07T09:06:15.156938Z"
    },
    "papermill": {
     "duration": 0.068375,
     "end_time": "2024-10-07T09:06:15.160248",
     "exception": false,
     "start_time": "2024-10-07T09:06:15.091873",
     "status": "completed"
    },
    "tags": []
   },
   "outputs": [
    {
     "data": {
      "text/html": [
       "<style>#sk-container-id-1 {color: black;background-color: white;}#sk-container-id-1 pre{padding: 0;}#sk-container-id-1 div.sk-toggleable {background-color: white;}#sk-container-id-1 label.sk-toggleable__label {cursor: pointer;display: block;width: 100%;margin-bottom: 0;padding: 0.3em;box-sizing: border-box;text-align: center;}#sk-container-id-1 label.sk-toggleable__label-arrow:before {content: \"▸\";float: left;margin-right: 0.25em;color: #696969;}#sk-container-id-1 label.sk-toggleable__label-arrow:hover:before {color: black;}#sk-container-id-1 div.sk-estimator:hover label.sk-toggleable__label-arrow:before {color: black;}#sk-container-id-1 div.sk-toggleable__content {max-height: 0;max-width: 0;overflow: hidden;text-align: left;background-color: #f0f8ff;}#sk-container-id-1 div.sk-toggleable__content pre {margin: 0.2em;color: black;border-radius: 0.25em;background-color: #f0f8ff;}#sk-container-id-1 input.sk-toggleable__control:checked~div.sk-toggleable__content {max-height: 200px;max-width: 100%;overflow: auto;}#sk-container-id-1 input.sk-toggleable__control:checked~label.sk-toggleable__label-arrow:before {content: \"▾\";}#sk-container-id-1 div.sk-estimator input.sk-toggleable__control:checked~label.sk-toggleable__label {background-color: #d4ebff;}#sk-container-id-1 div.sk-label input.sk-toggleable__control:checked~label.sk-toggleable__label {background-color: #d4ebff;}#sk-container-id-1 input.sk-hidden--visually {border: 0;clip: rect(1px 1px 1px 1px);clip: rect(1px, 1px, 1px, 1px);height: 1px;margin: -1px;overflow: hidden;padding: 0;position: absolute;width: 1px;}#sk-container-id-1 div.sk-estimator {font-family: monospace;background-color: #f0f8ff;border: 1px dotted black;border-radius: 0.25em;box-sizing: border-box;margin-bottom: 0.5em;}#sk-container-id-1 div.sk-estimator:hover {background-color: #d4ebff;}#sk-container-id-1 div.sk-parallel-item::after {content: \"\";width: 100%;border-bottom: 1px solid gray;flex-grow: 1;}#sk-container-id-1 div.sk-label:hover label.sk-toggleable__label {background-color: #d4ebff;}#sk-container-id-1 div.sk-serial::before {content: \"\";position: absolute;border-left: 1px solid gray;box-sizing: border-box;top: 0;bottom: 0;left: 50%;z-index: 0;}#sk-container-id-1 div.sk-serial {display: flex;flex-direction: column;align-items: center;background-color: white;padding-right: 0.2em;padding-left: 0.2em;position: relative;}#sk-container-id-1 div.sk-item {position: relative;z-index: 1;}#sk-container-id-1 div.sk-parallel {display: flex;align-items: stretch;justify-content: center;background-color: white;position: relative;}#sk-container-id-1 div.sk-item::before, #sk-container-id-1 div.sk-parallel-item::before {content: \"\";position: absolute;border-left: 1px solid gray;box-sizing: border-box;top: 0;bottom: 0;left: 50%;z-index: -1;}#sk-container-id-1 div.sk-parallel-item {display: flex;flex-direction: column;z-index: 1;position: relative;background-color: white;}#sk-container-id-1 div.sk-parallel-item:first-child::after {align-self: flex-end;width: 50%;}#sk-container-id-1 div.sk-parallel-item:last-child::after {align-self: flex-start;width: 50%;}#sk-container-id-1 div.sk-parallel-item:only-child::after {width: 0;}#sk-container-id-1 div.sk-dashed-wrapped {border: 1px dashed gray;margin: 0 0.4em 0.5em 0.4em;box-sizing: border-box;padding-bottom: 0.4em;background-color: white;}#sk-container-id-1 div.sk-label label {font-family: monospace;font-weight: bold;display: inline-block;line-height: 1.2em;}#sk-container-id-1 div.sk-label-container {text-align: center;}#sk-container-id-1 div.sk-container {/* jupyter's `normalize.less` sets `[hidden] { display: none; }` but bootstrap.min.css set `[hidden] { display: none !important; }` so we also need the `!important` here to be able to override the default hidden behavior on the sphinx rendered scikit-learn.org. See: https://github.com/scikit-learn/scikit-learn/issues/21755 */display: inline-block !important;position: relative;}#sk-container-id-1 div.sk-text-repr-fallback {display: none;}</style><div id=\"sk-container-id-1\" class=\"sk-top-container\"><div class=\"sk-text-repr-fallback\"><pre>SimpleImputer(strategy=&#x27;most_frequent&#x27;)</pre><b>In a Jupyter environment, please rerun this cell to show the HTML representation or trust the notebook. <br />On GitHub, the HTML representation is unable to render, please try loading this page with nbviewer.org.</b></div><div class=\"sk-container\" hidden><div class=\"sk-item\"><div class=\"sk-estimator sk-toggleable\"><input class=\"sk-toggleable__control sk-hidden--visually\" id=\"sk-estimator-id-1\" type=\"checkbox\" checked><label for=\"sk-estimator-id-1\" class=\"sk-toggleable__label sk-toggleable__label-arrow\">SimpleImputer</label><div class=\"sk-toggleable__content\"><pre>SimpleImputer(strategy=&#x27;most_frequent&#x27;)</pre></div></div></div></div></div>"
      ],
      "text/plain": [
       "SimpleImputer(strategy='most_frequent')"
      ]
     },
     "execution_count": 8,
     "metadata": {},
     "output_type": "execute_result"
    }
   ],
   "source": [
    "imputer = SimpleImputer(strategy=\"most_frequent\")\n",
    "imputer.fit(pd.concat([X_train_data,test_data]))"
   ]
  },
  {
   "cell_type": "code",
   "execution_count": 9,
   "id": "516f8ae8",
   "metadata": {
    "execution": {
     "iopub.execute_input": "2024-10-07T09:06:15.175908Z",
     "iopub.status.busy": "2024-10-07T09:06:15.175509Z",
     "iopub.status.idle": "2024-10-07T09:06:15.205679Z",
     "shell.execute_reply": "2024-10-07T09:06:15.204780Z"
    },
    "papermill": {
     "duration": 0.040767,
     "end_time": "2024-10-07T09:06:15.208051",
     "exception": false,
     "start_time": "2024-10-07T09:06:15.167284",
     "status": "completed"
    },
    "tags": []
   },
   "outputs": [],
   "source": [
    "c = X_train_data.columns\n",
    "i_train = X_train_data.index\n",
    "i_test = test_data.index\n",
    "X_train_data = pd.DataFrame(imputer.transform(X_train_data),columns = c,index = i_train)\n",
    "test_data = pd.DataFrame(imputer.transform(test_data),columns = c,index=i_test)"
   ]
  },
  {
   "cell_type": "code",
   "execution_count": 10,
   "id": "fff80105",
   "metadata": {
    "execution": {
     "iopub.execute_input": "2024-10-07T09:06:15.224359Z",
     "iopub.status.busy": "2024-10-07T09:06:15.223592Z",
     "iopub.status.idle": "2024-10-07T09:06:15.229608Z",
     "shell.execute_reply": "2024-10-07T09:06:15.228628Z"
    },
    "papermill": {
     "duration": 0.01637,
     "end_time": "2024-10-07T09:06:15.231709",
     "exception": false,
     "start_time": "2024-10-07T09:06:15.215339",
     "status": "completed"
    },
    "tags": []
   },
   "outputs": [],
   "source": [
    " str_cat = [ \"MSZoning\"      ,\n",
    "  \"Street\"        ,\n",
    "  \"Alley\"         ,\n",
    "  \"LotShape\"      ,\n",
    "  \"LandContour\"   ,\n",
    "  \"Utilities\"     ,\n",
    "  \"LotConfig\"     ,\n",
    "  \"LandSlope\"     ,\n",
    "  \"Neighborhood\"  ,\n",
    "  \"Condition1\"    ,\n",
    "  \"Condition2\"    ,\n",
    "  \"BldgType\"      ,\n",
    "  \"HouseStyle\"    ,\n",
    "  \"RoofStyle\"     ,\n",
    "  \"RoofMatl\"      ,\n",
    "  \"Exterior1st\"   ,\n",
    "  \"Exterior2nd\"   ,\n",
    "  \"MasVnrType\"    ,\n",
    "  \"ExterQual\"     ,\n",
    "  \"ExterCond\"     ,\n",
    "  \"Foundation\"    ,\n",
    "  \"BsmtQual\"      ,\n",
    "  \"BsmtCond\"      ,\n",
    "  \"BsmtExposure\"  ,\n",
    "  \"BsmtFinType1\"  ,\n",
    "  \"BsmtFinType2\"  ,\n",
    "  \"Heating\"       ,\n",
    "  \"HeatingQC\"     ,\n",
    "  \"CentralAir\"    ,\n",
    "  \"Electrical\"    ,\n",
    "  \"KitchenQual\"   ,\n",
    "  \"Functional\"    ,\n",
    "  \"FireplaceQu\"   ,\n",
    "  \"GarageType\"    ,\n",
    "  \"GarageFinish\"  ,\n",
    "  \"GarageQual\"    ,\n",
    "  \"GarageCond\"    ,\n",
    "  \"PavedDrive\"    ,\n",
    "  \"PoolQC\"        ,\n",
    "  \"Fence\"         ,\n",
    "  \"MiscFeature\"   ,\n",
    "  \"SaleCondition\" ,\n",
    "  \"SaleType\"      ]"
   ]
  },
  {
   "cell_type": "code",
   "execution_count": 11,
   "id": "41399cbb",
   "metadata": {
    "execution": {
     "iopub.execute_input": "2024-10-07T09:06:15.248440Z",
     "iopub.status.busy": "2024-10-07T09:06:15.247594Z",
     "iopub.status.idle": "2024-10-07T09:06:15.253609Z",
     "shell.execute_reply": "2024-10-07T09:06:15.252664Z"
    },
    "papermill": {
     "duration": 0.017,
     "end_time": "2024-10-07T09:06:15.255786",
     "exception": false,
     "start_time": "2024-10-07T09:06:15.238786",
     "status": "completed"
    },
    "tags": []
   },
   "outputs": [],
   "source": [
    "def OneHotE(dataframe,cat_col,cat_encoder):\n",
    "    dataframe_num = dataframe.drop(cat_col,axis=1)\n",
    "    dataframe_cat = dataframe[cat_col]\n",
    "    dataframe_cat = cat_encoder.transform(dataframe_cat)\n",
    "    dataframe_cat = pd.DataFrame(dataframe_cat.toarray(),columns=cat_encoder.get_feature_names_out(),index=dataframe.index)\n",
    "    dataframe = pd.concat([dataframe_num,dataframe_cat],axis=1)    \n",
    "    return dataframe"
   ]
  },
  {
   "cell_type": "code",
   "execution_count": 12,
   "id": "7ec260ac",
   "metadata": {
    "execution": {
     "iopub.execute_input": "2024-10-07T09:06:15.271894Z",
     "iopub.status.busy": "2024-10-07T09:06:15.270954Z",
     "iopub.status.idle": "2024-10-07T09:06:15.276135Z",
     "shell.execute_reply": "2024-10-07T09:06:15.274972Z"
    },
    "papermill": {
     "duration": 0.015327,
     "end_time": "2024-10-07T09:06:15.278207",
     "exception": false,
     "start_time": "2024-10-07T09:06:15.262880",
     "status": "completed"
    },
    "tags": []
   },
   "outputs": [],
   "source": [
    "cat_encoder = OneHotEncoder()"
   ]
  },
  {
   "cell_type": "code",
   "execution_count": 13,
   "id": "f7fcd84e",
   "metadata": {
    "execution": {
     "iopub.execute_input": "2024-10-07T09:06:15.294242Z",
     "iopub.status.busy": "2024-10-07T09:06:15.293299Z",
     "iopub.status.idle": "2024-10-07T09:06:15.317230Z",
     "shell.execute_reply": "2024-10-07T09:06:15.316236Z"
    },
    "papermill": {
     "duration": 0.03433,
     "end_time": "2024-10-07T09:06:15.319607",
     "exception": false,
     "start_time": "2024-10-07T09:06:15.285277",
     "status": "completed"
    },
    "tags": []
   },
   "outputs": [
    {
     "data": {
      "text/html": [
       "<style>#sk-container-id-2 {color: black;background-color: white;}#sk-container-id-2 pre{padding: 0;}#sk-container-id-2 div.sk-toggleable {background-color: white;}#sk-container-id-2 label.sk-toggleable__label {cursor: pointer;display: block;width: 100%;margin-bottom: 0;padding: 0.3em;box-sizing: border-box;text-align: center;}#sk-container-id-2 label.sk-toggleable__label-arrow:before {content: \"▸\";float: left;margin-right: 0.25em;color: #696969;}#sk-container-id-2 label.sk-toggleable__label-arrow:hover:before {color: black;}#sk-container-id-2 div.sk-estimator:hover label.sk-toggleable__label-arrow:before {color: black;}#sk-container-id-2 div.sk-toggleable__content {max-height: 0;max-width: 0;overflow: hidden;text-align: left;background-color: #f0f8ff;}#sk-container-id-2 div.sk-toggleable__content pre {margin: 0.2em;color: black;border-radius: 0.25em;background-color: #f0f8ff;}#sk-container-id-2 input.sk-toggleable__control:checked~div.sk-toggleable__content {max-height: 200px;max-width: 100%;overflow: auto;}#sk-container-id-2 input.sk-toggleable__control:checked~label.sk-toggleable__label-arrow:before {content: \"▾\";}#sk-container-id-2 div.sk-estimator input.sk-toggleable__control:checked~label.sk-toggleable__label {background-color: #d4ebff;}#sk-container-id-2 div.sk-label input.sk-toggleable__control:checked~label.sk-toggleable__label {background-color: #d4ebff;}#sk-container-id-2 input.sk-hidden--visually {border: 0;clip: rect(1px 1px 1px 1px);clip: rect(1px, 1px, 1px, 1px);height: 1px;margin: -1px;overflow: hidden;padding: 0;position: absolute;width: 1px;}#sk-container-id-2 div.sk-estimator {font-family: monospace;background-color: #f0f8ff;border: 1px dotted black;border-radius: 0.25em;box-sizing: border-box;margin-bottom: 0.5em;}#sk-container-id-2 div.sk-estimator:hover {background-color: #d4ebff;}#sk-container-id-2 div.sk-parallel-item::after {content: \"\";width: 100%;border-bottom: 1px solid gray;flex-grow: 1;}#sk-container-id-2 div.sk-label:hover label.sk-toggleable__label {background-color: #d4ebff;}#sk-container-id-2 div.sk-serial::before {content: \"\";position: absolute;border-left: 1px solid gray;box-sizing: border-box;top: 0;bottom: 0;left: 50%;z-index: 0;}#sk-container-id-2 div.sk-serial {display: flex;flex-direction: column;align-items: center;background-color: white;padding-right: 0.2em;padding-left: 0.2em;position: relative;}#sk-container-id-2 div.sk-item {position: relative;z-index: 1;}#sk-container-id-2 div.sk-parallel {display: flex;align-items: stretch;justify-content: center;background-color: white;position: relative;}#sk-container-id-2 div.sk-item::before, #sk-container-id-2 div.sk-parallel-item::before {content: \"\";position: absolute;border-left: 1px solid gray;box-sizing: border-box;top: 0;bottom: 0;left: 50%;z-index: -1;}#sk-container-id-2 div.sk-parallel-item {display: flex;flex-direction: column;z-index: 1;position: relative;background-color: white;}#sk-container-id-2 div.sk-parallel-item:first-child::after {align-self: flex-end;width: 50%;}#sk-container-id-2 div.sk-parallel-item:last-child::after {align-self: flex-start;width: 50%;}#sk-container-id-2 div.sk-parallel-item:only-child::after {width: 0;}#sk-container-id-2 div.sk-dashed-wrapped {border: 1px dashed gray;margin: 0 0.4em 0.5em 0.4em;box-sizing: border-box;padding-bottom: 0.4em;background-color: white;}#sk-container-id-2 div.sk-label label {font-family: monospace;font-weight: bold;display: inline-block;line-height: 1.2em;}#sk-container-id-2 div.sk-label-container {text-align: center;}#sk-container-id-2 div.sk-container {/* jupyter's `normalize.less` sets `[hidden] { display: none; }` but bootstrap.min.css set `[hidden] { display: none !important; }` so we also need the `!important` here to be able to override the default hidden behavior on the sphinx rendered scikit-learn.org. See: https://github.com/scikit-learn/scikit-learn/issues/21755 */display: inline-block !important;position: relative;}#sk-container-id-2 div.sk-text-repr-fallback {display: none;}</style><div id=\"sk-container-id-2\" class=\"sk-top-container\"><div class=\"sk-text-repr-fallback\"><pre>OneHotEncoder()</pre><b>In a Jupyter environment, please rerun this cell to show the HTML representation or trust the notebook. <br />On GitHub, the HTML representation is unable to render, please try loading this page with nbviewer.org.</b></div><div class=\"sk-container\" hidden><div class=\"sk-item\"><div class=\"sk-estimator sk-toggleable\"><input class=\"sk-toggleable__control sk-hidden--visually\" id=\"sk-estimator-id-2\" type=\"checkbox\" checked><label for=\"sk-estimator-id-2\" class=\"sk-toggleable__label sk-toggleable__label-arrow\">OneHotEncoder</label><div class=\"sk-toggleable__content\"><pre>OneHotEncoder()</pre></div></div></div></div></div>"
      ],
      "text/plain": [
       "OneHotEncoder()"
      ]
     },
     "execution_count": 13,
     "metadata": {},
     "output_type": "execute_result"
    }
   ],
   "source": [
    "cat_encoder.fit(pd.concat([X_train_data[str_cat],test_data[str_cat]]))"
   ]
  },
  {
   "cell_type": "code",
   "execution_count": 14,
   "id": "bf1da531",
   "metadata": {
    "execution": {
     "iopub.execute_input": "2024-10-07T09:06:15.336805Z",
     "iopub.status.busy": "2024-10-07T09:06:15.335855Z",
     "iopub.status.idle": "2024-10-07T09:06:15.413687Z",
     "shell.execute_reply": "2024-10-07T09:06:15.412490Z"
    },
    "papermill": {
     "duration": 0.088803,
     "end_time": "2024-10-07T09:06:15.416115",
     "exception": false,
     "start_time": "2024-10-07T09:06:15.327312",
     "status": "completed"
    },
    "tags": []
   },
   "outputs": [],
   "source": [
    "X_train_data = OneHotE(X_train_data,str_cat,cat_encoder)\n",
    "test_data = OneHotE(test_data,str_cat,cat_encoder)"
   ]
  },
  {
   "cell_type": "code",
   "execution_count": 15,
   "id": "f452b653",
   "metadata": {
    "execution": {
     "iopub.execute_input": "2024-10-07T09:06:15.432378Z",
     "iopub.status.busy": "2024-10-07T09:06:15.431968Z",
     "iopub.status.idle": "2024-10-07T09:06:15.648911Z",
     "shell.execute_reply": "2024-10-07T09:06:15.647782Z"
    },
    "papermill": {
     "duration": 0.228068,
     "end_time": "2024-10-07T09:06:15.651430",
     "exception": false,
     "start_time": "2024-10-07T09:06:15.423362",
     "status": "completed"
    },
    "tags": []
   },
   "outputs": [],
   "source": [
    "scaler = StandardScaler()\n",
    "for column in X_train_data.columns:\n",
    "    X_train_data[column] = scaler.fit_transform(np.array(X_train_data[column]).reshape(-1,1))"
   ]
  },
  {
   "cell_type": "markdown",
   "id": "e9b84cc2",
   "metadata": {
    "papermill": {
     "duration": 0.007013,
     "end_time": "2024-10-07T09:06:15.665990",
     "exception": false,
     "start_time": "2024-10-07T09:06:15.658977",
     "status": "completed"
    },
    "tags": []
   },
   "source": [
    "**Training a model:**"
   ]
  },
  {
   "cell_type": "code",
   "execution_count": 16,
   "id": "7da022e0",
   "metadata": {
    "execution": {
     "iopub.execute_input": "2024-10-07T09:06:15.681753Z",
     "iopub.status.busy": "2024-10-07T09:06:15.681344Z",
     "iopub.status.idle": "2024-10-07T09:06:15.686445Z",
     "shell.execute_reply": "2024-10-07T09:06:15.685348Z"
    },
    "papermill": {
     "duration": 0.015526,
     "end_time": "2024-10-07T09:06:15.688597",
     "exception": false,
     "start_time": "2024-10-07T09:06:15.673071",
     "status": "completed"
    },
    "tags": []
   },
   "outputs": [],
   "source": [
    "pipeline = Pipeline([(\"classifier\",RandomForestRegressor())])"
   ]
  },
  {
   "cell_type": "code",
   "execution_count": 17,
   "id": "b1e3dcb9",
   "metadata": {
    "execution": {
     "iopub.execute_input": "2024-10-07T09:06:15.704763Z",
     "iopub.status.busy": "2024-10-07T09:06:15.704402Z",
     "iopub.status.idle": "2024-10-07T09:06:15.708963Z",
     "shell.execute_reply": "2024-10-07T09:06:15.707985Z"
    },
    "papermill": {
     "duration": 0.015091,
     "end_time": "2024-10-07T09:06:15.710987",
     "exception": false,
     "start_time": "2024-10-07T09:06:15.695896",
     "status": "completed"
    },
    "tags": []
   },
   "outputs": [],
   "source": [
    "param_grid = [{\"classifier__n_estimators\":[100,200,300]}] "
   ]
  },
  {
   "cell_type": "code",
   "execution_count": 18,
   "id": "3a5e2e6b",
   "metadata": {
    "execution": {
     "iopub.execute_input": "2024-10-07T09:06:15.726635Z",
     "iopub.status.busy": "2024-10-07T09:06:15.726262Z",
     "iopub.status.idle": "2024-10-07T09:06:15.731046Z",
     "shell.execute_reply": "2024-10-07T09:06:15.730048Z"
    },
    "papermill": {
     "duration": 0.015074,
     "end_time": "2024-10-07T09:06:15.733119",
     "exception": false,
     "start_time": "2024-10-07T09:06:15.718045",
     "status": "completed"
    },
    "tags": []
   },
   "outputs": [],
   "source": [
    "grid_search = GridSearchCV(pipeline,param_grid,cv=3,scoring=\"r2\")"
   ]
  },
  {
   "cell_type": "code",
   "execution_count": 19,
   "id": "c00d8977",
   "metadata": {
    "execution": {
     "iopub.execute_input": "2024-10-07T09:06:15.749114Z",
     "iopub.status.busy": "2024-10-07T09:06:15.748741Z",
     "iopub.status.idle": "2024-10-07T09:07:08.717949Z",
     "shell.execute_reply": "2024-10-07T09:07:08.716924Z"
    },
    "papermill": {
     "duration": 52.986834,
     "end_time": "2024-10-07T09:07:08.727233",
     "exception": false,
     "start_time": "2024-10-07T09:06:15.740399",
     "status": "completed"
    },
    "tags": []
   },
   "outputs": [
    {
     "data": {
      "text/html": [
       "<style>#sk-container-id-3 {color: black;background-color: white;}#sk-container-id-3 pre{padding: 0;}#sk-container-id-3 div.sk-toggleable {background-color: white;}#sk-container-id-3 label.sk-toggleable__label {cursor: pointer;display: block;width: 100%;margin-bottom: 0;padding: 0.3em;box-sizing: border-box;text-align: center;}#sk-container-id-3 label.sk-toggleable__label-arrow:before {content: \"▸\";float: left;margin-right: 0.25em;color: #696969;}#sk-container-id-3 label.sk-toggleable__label-arrow:hover:before {color: black;}#sk-container-id-3 div.sk-estimator:hover label.sk-toggleable__label-arrow:before {color: black;}#sk-container-id-3 div.sk-toggleable__content {max-height: 0;max-width: 0;overflow: hidden;text-align: left;background-color: #f0f8ff;}#sk-container-id-3 div.sk-toggleable__content pre {margin: 0.2em;color: black;border-radius: 0.25em;background-color: #f0f8ff;}#sk-container-id-3 input.sk-toggleable__control:checked~div.sk-toggleable__content {max-height: 200px;max-width: 100%;overflow: auto;}#sk-container-id-3 input.sk-toggleable__control:checked~label.sk-toggleable__label-arrow:before {content: \"▾\";}#sk-container-id-3 div.sk-estimator input.sk-toggleable__control:checked~label.sk-toggleable__label {background-color: #d4ebff;}#sk-container-id-3 div.sk-label input.sk-toggleable__control:checked~label.sk-toggleable__label {background-color: #d4ebff;}#sk-container-id-3 input.sk-hidden--visually {border: 0;clip: rect(1px 1px 1px 1px);clip: rect(1px, 1px, 1px, 1px);height: 1px;margin: -1px;overflow: hidden;padding: 0;position: absolute;width: 1px;}#sk-container-id-3 div.sk-estimator {font-family: monospace;background-color: #f0f8ff;border: 1px dotted black;border-radius: 0.25em;box-sizing: border-box;margin-bottom: 0.5em;}#sk-container-id-3 div.sk-estimator:hover {background-color: #d4ebff;}#sk-container-id-3 div.sk-parallel-item::after {content: \"\";width: 100%;border-bottom: 1px solid gray;flex-grow: 1;}#sk-container-id-3 div.sk-label:hover label.sk-toggleable__label {background-color: #d4ebff;}#sk-container-id-3 div.sk-serial::before {content: \"\";position: absolute;border-left: 1px solid gray;box-sizing: border-box;top: 0;bottom: 0;left: 50%;z-index: 0;}#sk-container-id-3 div.sk-serial {display: flex;flex-direction: column;align-items: center;background-color: white;padding-right: 0.2em;padding-left: 0.2em;position: relative;}#sk-container-id-3 div.sk-item {position: relative;z-index: 1;}#sk-container-id-3 div.sk-parallel {display: flex;align-items: stretch;justify-content: center;background-color: white;position: relative;}#sk-container-id-3 div.sk-item::before, #sk-container-id-3 div.sk-parallel-item::before {content: \"\";position: absolute;border-left: 1px solid gray;box-sizing: border-box;top: 0;bottom: 0;left: 50%;z-index: -1;}#sk-container-id-3 div.sk-parallel-item {display: flex;flex-direction: column;z-index: 1;position: relative;background-color: white;}#sk-container-id-3 div.sk-parallel-item:first-child::after {align-self: flex-end;width: 50%;}#sk-container-id-3 div.sk-parallel-item:last-child::after {align-self: flex-start;width: 50%;}#sk-container-id-3 div.sk-parallel-item:only-child::after {width: 0;}#sk-container-id-3 div.sk-dashed-wrapped {border: 1px dashed gray;margin: 0 0.4em 0.5em 0.4em;box-sizing: border-box;padding-bottom: 0.4em;background-color: white;}#sk-container-id-3 div.sk-label label {font-family: monospace;font-weight: bold;display: inline-block;line-height: 1.2em;}#sk-container-id-3 div.sk-label-container {text-align: center;}#sk-container-id-3 div.sk-container {/* jupyter's `normalize.less` sets `[hidden] { display: none; }` but bootstrap.min.css set `[hidden] { display: none !important; }` so we also need the `!important` here to be able to override the default hidden behavior on the sphinx rendered scikit-learn.org. See: https://github.com/scikit-learn/scikit-learn/issues/21755 */display: inline-block !important;position: relative;}#sk-container-id-3 div.sk-text-repr-fallback {display: none;}</style><div id=\"sk-container-id-3\" class=\"sk-top-container\"><div class=\"sk-text-repr-fallback\"><pre>GridSearchCV(cv=3,\n",
       "             estimator=Pipeline(steps=[(&#x27;classifier&#x27;,\n",
       "                                        RandomForestRegressor())]),\n",
       "             param_grid=[{&#x27;classifier__n_estimators&#x27;: [100, 200, 300]}],\n",
       "             scoring=&#x27;r2&#x27;)</pre><b>In a Jupyter environment, please rerun this cell to show the HTML representation or trust the notebook. <br />On GitHub, the HTML representation is unable to render, please try loading this page with nbviewer.org.</b></div><div class=\"sk-container\" hidden><div class=\"sk-item sk-dashed-wrapped\"><div class=\"sk-label-container\"><div class=\"sk-label sk-toggleable\"><input class=\"sk-toggleable__control sk-hidden--visually\" id=\"sk-estimator-id-3\" type=\"checkbox\" ><label for=\"sk-estimator-id-3\" class=\"sk-toggleable__label sk-toggleable__label-arrow\">GridSearchCV</label><div class=\"sk-toggleable__content\"><pre>GridSearchCV(cv=3,\n",
       "             estimator=Pipeline(steps=[(&#x27;classifier&#x27;,\n",
       "                                        RandomForestRegressor())]),\n",
       "             param_grid=[{&#x27;classifier__n_estimators&#x27;: [100, 200, 300]}],\n",
       "             scoring=&#x27;r2&#x27;)</pre></div></div></div><div class=\"sk-parallel\"><div class=\"sk-parallel-item\"><div class=\"sk-item\"><div class=\"sk-label-container\"><div class=\"sk-label sk-toggleable\"><input class=\"sk-toggleable__control sk-hidden--visually\" id=\"sk-estimator-id-4\" type=\"checkbox\" ><label for=\"sk-estimator-id-4\" class=\"sk-toggleable__label sk-toggleable__label-arrow\">estimator: Pipeline</label><div class=\"sk-toggleable__content\"><pre>Pipeline(steps=[(&#x27;classifier&#x27;, RandomForestRegressor())])</pre></div></div></div><div class=\"sk-serial\"><div class=\"sk-item\"><div class=\"sk-serial\"><div class=\"sk-item\"><div class=\"sk-estimator sk-toggleable\"><input class=\"sk-toggleable__control sk-hidden--visually\" id=\"sk-estimator-id-5\" type=\"checkbox\" ><label for=\"sk-estimator-id-5\" class=\"sk-toggleable__label sk-toggleable__label-arrow\">RandomForestRegressor</label><div class=\"sk-toggleable__content\"><pre>RandomForestRegressor()</pre></div></div></div></div></div></div></div></div></div></div></div></div>"
      ],
      "text/plain": [
       "GridSearchCV(cv=3,\n",
       "             estimator=Pipeline(steps=[('classifier',\n",
       "                                        RandomForestRegressor())]),\n",
       "             param_grid=[{'classifier__n_estimators': [100, 200, 300]}],\n",
       "             scoring='r2')"
      ]
     },
     "execution_count": 19,
     "metadata": {},
     "output_type": "execute_result"
    }
   ],
   "source": [
    "grid_search.fit(X_train_data,y_train_data)"
   ]
  },
  {
   "cell_type": "code",
   "execution_count": 20,
   "id": "c09710f4",
   "metadata": {
    "execution": {
     "iopub.execute_input": "2024-10-07T09:07:08.744034Z",
     "iopub.status.busy": "2024-10-07T09:07:08.743091Z",
     "iopub.status.idle": "2024-10-07T09:07:08.749460Z",
     "shell.execute_reply": "2024-10-07T09:07:08.748451Z"
    },
    "papermill": {
     "duration": 0.017177,
     "end_time": "2024-10-07T09:07:08.751664",
     "exception": false,
     "start_time": "2024-10-07T09:07:08.734487",
     "status": "completed"
    },
    "tags": []
   },
   "outputs": [
    {
     "data": {
      "text/plain": [
       "{'classifier__n_estimators': 300}"
      ]
     },
     "execution_count": 20,
     "metadata": {},
     "output_type": "execute_result"
    }
   ],
   "source": [
    "grid_search.best_params_\n"
   ]
  },
  {
   "cell_type": "code",
   "execution_count": 21,
   "id": "e69427d2",
   "metadata": {
    "execution": {
     "iopub.execute_input": "2024-10-07T09:07:08.768015Z",
     "iopub.status.busy": "2024-10-07T09:07:08.767638Z",
     "iopub.status.idle": "2024-10-07T09:07:08.786866Z",
     "shell.execute_reply": "2024-10-07T09:07:08.785898Z"
    },
    "papermill": {
     "duration": 0.029933,
     "end_time": "2024-10-07T09:07:08.788976",
     "exception": false,
     "start_time": "2024-10-07T09:07:08.759043",
     "status": "completed"
    },
    "tags": []
   },
   "outputs": [
    {
     "data": {
      "text/html": [
       "<div>\n",
       "<style scoped>\n",
       "    .dataframe tbody tr th:only-of-type {\n",
       "        vertical-align: middle;\n",
       "    }\n",
       "\n",
       "    .dataframe tbody tr th {\n",
       "        vertical-align: top;\n",
       "    }\n",
       "\n",
       "    .dataframe thead th {\n",
       "        text-align: right;\n",
       "    }\n",
       "</style>\n",
       "<table border=\"1\" class=\"dataframe\">\n",
       "  <thead>\n",
       "    <tr style=\"text-align: right;\">\n",
       "      <th></th>\n",
       "      <th>mean_fit_time</th>\n",
       "      <th>std_fit_time</th>\n",
       "      <th>mean_score_time</th>\n",
       "      <th>std_score_time</th>\n",
       "      <th>param_classifier__n_estimators</th>\n",
       "      <th>params</th>\n",
       "      <th>split0_test_score</th>\n",
       "      <th>split1_test_score</th>\n",
       "      <th>split2_test_score</th>\n",
       "      <th>mean_test_score</th>\n",
       "      <th>std_test_score</th>\n",
       "      <th>rank_test_score</th>\n",
       "    </tr>\n",
       "  </thead>\n",
       "  <tbody>\n",
       "    <tr>\n",
       "      <th>2</th>\n",
       "      <td>6.962366</td>\n",
       "      <td>0.009698</td>\n",
       "      <td>0.043842</td>\n",
       "      <td>0.000091</td>\n",
       "      <td>300</td>\n",
       "      <td>{'classifier__n_estimators': 300}</td>\n",
       "      <td>0.889133</td>\n",
       "      <td>0.850471</td>\n",
       "      <td>0.826051</td>\n",
       "      <td>0.855218</td>\n",
       "      <td>0.025971</td>\n",
       "      <td>1</td>\n",
       "    </tr>\n",
       "    <tr>\n",
       "      <th>1</th>\n",
       "      <td>4.659571</td>\n",
       "      <td>0.016898</td>\n",
       "      <td>0.033398</td>\n",
       "      <td>0.000963</td>\n",
       "      <td>200</td>\n",
       "      <td>{'classifier__n_estimators': 200}</td>\n",
       "      <td>0.887230</td>\n",
       "      <td>0.848187</td>\n",
       "      <td>0.823854</td>\n",
       "      <td>0.853090</td>\n",
       "      <td>0.026104</td>\n",
       "      <td>2</td>\n",
       "    </tr>\n",
       "    <tr>\n",
       "      <th>0</th>\n",
       "      <td>2.355317</td>\n",
       "      <td>0.029147</td>\n",
       "      <td>0.023721</td>\n",
       "      <td>0.000840</td>\n",
       "      <td>100</td>\n",
       "      <td>{'classifier__n_estimators': 100}</td>\n",
       "      <td>0.884656</td>\n",
       "      <td>0.842526</td>\n",
       "      <td>0.830543</td>\n",
       "      <td>0.852575</td>\n",
       "      <td>0.023206</td>\n",
       "      <td>3</td>\n",
       "    </tr>\n",
       "  </tbody>\n",
       "</table>\n",
       "</div>"
      ],
      "text/plain": [
       "   mean_fit_time  std_fit_time  mean_score_time  std_score_time  \\\n",
       "2       6.962366      0.009698         0.043842        0.000091   \n",
       "1       4.659571      0.016898         0.033398        0.000963   \n",
       "0       2.355317      0.029147         0.023721        0.000840   \n",
       "\n",
       "  param_classifier__n_estimators                             params  \\\n",
       "2                            300  {'classifier__n_estimators': 300}   \n",
       "1                            200  {'classifier__n_estimators': 200}   \n",
       "0                            100  {'classifier__n_estimators': 100}   \n",
       "\n",
       "   split0_test_score  split1_test_score  split2_test_score  mean_test_score  \\\n",
       "2           0.889133           0.850471           0.826051         0.855218   \n",
       "1           0.887230           0.848187           0.823854         0.853090   \n",
       "0           0.884656           0.842526           0.830543         0.852575   \n",
       "\n",
       "   std_test_score  rank_test_score  \n",
       "2        0.025971                1  \n",
       "1        0.026104                2  \n",
       "0        0.023206                3  "
      ]
     },
     "execution_count": 21,
     "metadata": {},
     "output_type": "execute_result"
    }
   ],
   "source": [
    "cv_res = pd.DataFrame(grid_search.cv_results_)\n",
    "cv_res.sort_values(by=\"mean_test_score\", ascending=False, inplace=True)\n",
    "cv_res.head()"
   ]
  },
  {
   "cell_type": "markdown",
   "id": "d5bb068e",
   "metadata": {
    "papermill": {
     "duration": 0.007358,
     "end_time": "2024-10-07T09:07:08.804668",
     "exception": false,
     "start_time": "2024-10-07T09:07:08.797310",
     "status": "completed"
    },
    "tags": []
   },
   "source": [
    "**Prediction :**"
   ]
  },
  {
   "cell_type": "code",
   "execution_count": 22,
   "id": "c6257e88",
   "metadata": {
    "execution": {
     "iopub.execute_input": "2024-10-07T09:07:08.821371Z",
     "iopub.status.busy": "2024-10-07T09:07:08.820972Z",
     "iopub.status.idle": "2024-10-07T09:07:08.889182Z",
     "shell.execute_reply": "2024-10-07T09:07:08.888217Z"
    },
    "papermill": {
     "duration": 0.079358,
     "end_time": "2024-10-07T09:07:08.891602",
     "exception": false,
     "start_time": "2024-10-07T09:07:08.812244",
     "status": "completed"
    },
    "tags": []
   },
   "outputs": [],
   "source": [
    "final_evaluation = grid_search.predict(test_data)"
   ]
  },
  {
   "cell_type": "code",
   "execution_count": 23,
   "id": "ada35d49",
   "metadata": {
    "execution": {
     "iopub.execute_input": "2024-10-07T09:07:08.908569Z",
     "iopub.status.busy": "2024-10-07T09:07:08.908149Z",
     "iopub.status.idle": "2024-10-07T09:07:08.919865Z",
     "shell.execute_reply": "2024-10-07T09:07:08.918935Z"
    },
    "papermill": {
     "duration": 0.023002,
     "end_time": "2024-10-07T09:07:08.922456",
     "exception": false,
     "start_time": "2024-10-07T09:07:08.899454",
     "status": "completed"
    },
    "tags": []
   },
   "outputs": [
    {
     "data": {
      "text/html": [
       "<div>\n",
       "<style scoped>\n",
       "    .dataframe tbody tr th:only-of-type {\n",
       "        vertical-align: middle;\n",
       "    }\n",
       "\n",
       "    .dataframe tbody tr th {\n",
       "        vertical-align: top;\n",
       "    }\n",
       "\n",
       "    .dataframe thead th {\n",
       "        text-align: right;\n",
       "    }\n",
       "</style>\n",
       "<table border=\"1\" class=\"dataframe\">\n",
       "  <thead>\n",
       "    <tr style=\"text-align: right;\">\n",
       "      <th></th>\n",
       "      <th>Id</th>\n",
       "      <th>SalePrice</th>\n",
       "    </tr>\n",
       "  </thead>\n",
       "  <tbody>\n",
       "    <tr>\n",
       "      <th>0</th>\n",
       "      <td>1461</td>\n",
       "      <td>426808.790000</td>\n",
       "    </tr>\n",
       "    <tr>\n",
       "      <th>1</th>\n",
       "      <td>1462</td>\n",
       "      <td>406160.943333</td>\n",
       "    </tr>\n",
       "    <tr>\n",
       "      <th>2</th>\n",
       "      <td>1463</td>\n",
       "      <td>589050.306667</td>\n",
       "    </tr>\n",
       "    <tr>\n",
       "      <th>3</th>\n",
       "      <td>1464</td>\n",
       "      <td>597617.410000</td>\n",
       "    </tr>\n",
       "    <tr>\n",
       "      <th>4</th>\n",
       "      <td>1465</td>\n",
       "      <td>421670.183333</td>\n",
       "    </tr>\n",
       "    <tr>\n",
       "      <th>...</th>\n",
       "      <td>...</td>\n",
       "      <td>...</td>\n",
       "    </tr>\n",
       "    <tr>\n",
       "      <th>1454</th>\n",
       "      <td>2915</td>\n",
       "      <td>532107.160000</td>\n",
       "    </tr>\n",
       "    <tr>\n",
       "      <th>1455</th>\n",
       "      <td>2916</td>\n",
       "      <td>580886.976667</td>\n",
       "    </tr>\n",
       "    <tr>\n",
       "      <th>1456</th>\n",
       "      <td>2917</td>\n",
       "      <td>412268.996667</td>\n",
       "    </tr>\n",
       "    <tr>\n",
       "      <th>1457</th>\n",
       "      <td>2918</td>\n",
       "      <td>368459.746667</td>\n",
       "    </tr>\n",
       "    <tr>\n",
       "      <th>1458</th>\n",
       "      <td>2919</td>\n",
       "      <td>612103.876667</td>\n",
       "    </tr>\n",
       "  </tbody>\n",
       "</table>\n",
       "<p>1459 rows × 2 columns</p>\n",
       "</div>"
      ],
      "text/plain": [
       "        Id      SalePrice\n",
       "0     1461  426808.790000\n",
       "1     1462  406160.943333\n",
       "2     1463  589050.306667\n",
       "3     1464  597617.410000\n",
       "4     1465  421670.183333\n",
       "...    ...            ...\n",
       "1454  2915  532107.160000\n",
       "1455  2916  580886.976667\n",
       "1456  2917  412268.996667\n",
       "1457  2918  368459.746667\n",
       "1458  2919  612103.876667\n",
       "\n",
       "[1459 rows x 2 columns]"
      ]
     },
     "execution_count": 23,
     "metadata": {},
     "output_type": "execute_result"
    }
   ],
   "source": [
    "d = {'Id':np.arange(len(final_evaluation)) + 1461,'SalePrice':final_evaluation}\n",
    "df = pd.DataFrame(data=d)\n",
    "df"
   ]
  },
  {
   "cell_type": "code",
   "execution_count": 24,
   "id": "d617d846",
   "metadata": {
    "execution": {
     "iopub.execute_input": "2024-10-07T09:07:08.939745Z",
     "iopub.status.busy": "2024-10-07T09:07:08.939358Z",
     "iopub.status.idle": "2024-10-07T09:07:08.949459Z",
     "shell.execute_reply": "2024-10-07T09:07:08.948524Z"
    },
    "papermill": {
     "duration": 0.021333,
     "end_time": "2024-10-07T09:07:08.951770",
     "exception": false,
     "start_time": "2024-10-07T09:07:08.930437",
     "status": "completed"
    },
    "tags": []
   },
   "outputs": [],
   "source": [
    "df.to_csv('out.csv',index=False)"
   ]
  },
  {
   "cell_type": "code",
   "execution_count": null,
   "id": "194b8bca",
   "metadata": {
    "papermill": {
     "duration": 0.007576,
     "end_time": "2024-10-07T09:07:08.967321",
     "exception": false,
     "start_time": "2024-10-07T09:07:08.959745",
     "status": "completed"
    },
    "tags": []
   },
   "outputs": [],
   "source": []
  }
 ],
 "metadata": {
  "kaggle": {
   "accelerator": "none",
   "dataSources": [
    {
     "databundleVersionId": 868283,
     "sourceId": 5407,
     "sourceType": "competition"
    }
   ],
   "dockerImageVersionId": 30786,
   "isGpuEnabled": false,
   "isInternetEnabled": false,
   "language": "python",
   "sourceType": "notebook"
  },
  "kernelspec": {
   "display_name": "Python 3",
   "language": "python",
   "name": "python3"
  },
  "language_info": {
   "codemirror_mode": {
    "name": "ipython",
    "version": 3
   },
   "file_extension": ".py",
   "mimetype": "text/x-python",
   "name": "python",
   "nbconvert_exporter": "python",
   "pygments_lexer": "ipython3",
   "version": "3.10.14"
  },
  "papermill": {
   "default_parameters": {},
   "duration": 60.038153,
   "end_time": "2024-10-07T09:07:09.596338",
   "environment_variables": {},
   "exception": null,
   "input_path": "__notebook__.ipynb",
   "output_path": "__notebook__.ipynb",
   "parameters": {},
   "start_time": "2024-10-07T09:06:09.558185",
   "version": "2.6.0"
  }
 },
 "nbformat": 4,
 "nbformat_minor": 5
}
